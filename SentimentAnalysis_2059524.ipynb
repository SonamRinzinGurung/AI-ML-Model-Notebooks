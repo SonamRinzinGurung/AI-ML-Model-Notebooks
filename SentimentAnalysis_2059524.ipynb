{
  "cells": [
    {
      "cell_type": "markdown",
      "metadata": {
        "id": "NtvN6Kfwlv9-"
      },
      "source": [
        "# Sentiment Analysis with Recurrent Neural Network"
      ]
    },
    {
      "cell_type": "markdown",
      "metadata": {
        "id": "y3vmPRVBEM3Z"
      },
      "source": [
        "In this notebook report, we have trained a RNN model to analyze the sentiment in twitter dataset and predicted the sentiment of tweets in the test case."
      ]
    },
    {
      "cell_type": "code",
      "execution_count": 1,
      "metadata": {
        "colab": {
          "base_uri": "https://localhost:8080/"
        },
        "id": "XIm_6aZUa0Q8",
        "outputId": "ecb4ac28-a5ea-48a7-aa93-9f08b5dc710b"
      },
      "outputs": [
        {
          "output_type": "stream",
          "name": "stderr",
          "text": [
            "[nltk_data] Downloading package stopwords to /root/nltk_data...\n",
            "[nltk_data]   Unzipping corpora/stopwords.zip.\n",
            "[nltk_data] Downloading package wordnet to /root/nltk_data...\n"
          ]
        }
      ],
      "source": [
        "# import libraries\n",
        "import numpy as np\n",
        "import pandas as pd\n",
        "import re\n",
        "import string\n",
        "from collections import Counter\n",
        "import matplotlib.pyplot as plt\n",
        "import seaborn as sns\n",
        "\n",
        "# text preprocessing libraries\n",
        "import string\n",
        "from nltk.stem import WordNetLemmatizer\n",
        "import nltk\n",
        "nltk.download('stopwords')\n",
        "nltk.download('wordnet')\n",
        "from nltk.corpus import stopwords\n",
        "\n",
        "# Text vectorization libraries\n",
        "from keras.preprocessing.text import Tokenizer\n",
        "from tensorflow.keras.preprocessing.sequence import pad_sequences\n",
        "\n",
        "# CNN libraries for text classification\n",
        "from keras.models import Sequential\n",
        "from keras.layers import Embedding, LSTM, Dense\n",
        "from keras.preprocessing.text import Tokenizer\n",
        "from keras.layers import Dropout"
      ]
    },
    {
      "cell_type": "code",
      "execution_count": 2,
      "metadata": {
        "colab": {
          "base_uri": "https://localhost:8080/"
        },
        "id": "2rpPxnBvEeIF",
        "outputId": "39f78626-4d97-4741-b4c7-6689039fb417"
      },
      "outputs": [
        {
          "output_type": "stream",
          "name": "stdout",
          "text": [
            "Mounted at /content/drive\n"
          ]
        }
      ],
      "source": [
        "from google.colab import drive\n",
        "drive.mount('/content/drive')"
      ]
    },
    {
      "cell_type": "code",
      "execution_count": 3,
      "metadata": {
        "id": "unpZUkKUa0RC"
      },
      "outputs": [],
      "source": [
        "# path to the datasets for training and testing\n",
        "trainData_path = '/content/drive/MyDrive/Twitter Dataset/train.csv'\n",
        "testData_path = '/content/drive/MyDrive/Twitter Dataset/test.csv'"
      ]
    },
    {
      "cell_type": "markdown",
      "metadata": {
        "id": "RxwQ2lavlv-L"
      },
      "source": [
        "## Data Exploration"
      ]
    },
    {
      "cell_type": "code",
      "execution_count": null,
      "metadata": {
        "colab": {
          "base_uri": "https://localhost:8080/",
          "height": 206
        },
        "id": "ZjpvAdGFa0RE",
        "outputId": "cce3cc81-f096-4cb5-fee2-c2934c953773"
      },
      "outputs": [
        {
          "data": {
            "text/html": [
              "\n",
              "  <div id=\"df-5696ba95-1e0d-4357-ae4f-183e49b4a39b\">\n",
              "    <div class=\"colab-df-container\">\n",
              "      <div>\n",
              "<style scoped>\n",
              "    .dataframe tbody tr th:only-of-type {\n",
              "        vertical-align: middle;\n",
              "    }\n",
              "\n",
              "    .dataframe tbody tr th {\n",
              "        vertical-align: top;\n",
              "    }\n",
              "\n",
              "    .dataframe thead th {\n",
              "        text-align: right;\n",
              "    }\n",
              "</style>\n",
              "<table border=\"1\" class=\"dataframe\">\n",
              "  <thead>\n",
              "    <tr style=\"text-align: right;\">\n",
              "      <th></th>\n",
              "      <th>id</th>\n",
              "      <th>label</th>\n",
              "      <th>tweet</th>\n",
              "    </tr>\n",
              "  </thead>\n",
              "  <tbody>\n",
              "    <tr>\n",
              "      <th>0</th>\n",
              "      <td>1</td>\n",
              "      <td>0</td>\n",
              "      <td>@user when a father is dysfunctional and is s...</td>\n",
              "    </tr>\n",
              "    <tr>\n",
              "      <th>1</th>\n",
              "      <td>2</td>\n",
              "      <td>0</td>\n",
              "      <td>@user @user thanks for #lyft credit i can't us...</td>\n",
              "    </tr>\n",
              "    <tr>\n",
              "      <th>2</th>\n",
              "      <td>3</td>\n",
              "      <td>0</td>\n",
              "      <td>bihday your majesty</td>\n",
              "    </tr>\n",
              "    <tr>\n",
              "      <th>3</th>\n",
              "      <td>4</td>\n",
              "      <td>0</td>\n",
              "      <td>#model   i love u take with u all the time in ...</td>\n",
              "    </tr>\n",
              "    <tr>\n",
              "      <th>4</th>\n",
              "      <td>5</td>\n",
              "      <td>0</td>\n",
              "      <td>factsguide: society now    #motivation</td>\n",
              "    </tr>\n",
              "  </tbody>\n",
              "</table>\n",
              "</div>\n",
              "      <button class=\"colab-df-convert\" onclick=\"convertToInteractive('df-5696ba95-1e0d-4357-ae4f-183e49b4a39b')\"\n",
              "              title=\"Convert this dataframe to an interactive table.\"\n",
              "              style=\"display:none;\">\n",
              "        \n",
              "  <svg xmlns=\"http://www.w3.org/2000/svg\" height=\"24px\"viewBox=\"0 0 24 24\"\n",
              "       width=\"24px\">\n",
              "    <path d=\"M0 0h24v24H0V0z\" fill=\"none\"/>\n",
              "    <path d=\"M18.56 5.44l.94 2.06.94-2.06 2.06-.94-2.06-.94-.94-2.06-.94 2.06-2.06.94zm-11 1L8.5 8.5l.94-2.06 2.06-.94-2.06-.94L8.5 2.5l-.94 2.06-2.06.94zm10 10l.94 2.06.94-2.06 2.06-.94-2.06-.94-.94-2.06-.94 2.06-2.06.94z\"/><path d=\"M17.41 7.96l-1.37-1.37c-.4-.4-.92-.59-1.43-.59-.52 0-1.04.2-1.43.59L10.3 9.45l-7.72 7.72c-.78.78-.78 2.05 0 2.83L4 21.41c.39.39.9.59 1.41.59.51 0 1.02-.2 1.41-.59l7.78-7.78 2.81-2.81c.8-.78.8-2.07 0-2.86zM5.41 20L4 18.59l7.72-7.72 1.47 1.35L5.41 20z\"/>\n",
              "  </svg>\n",
              "      </button>\n",
              "      \n",
              "  <style>\n",
              "    .colab-df-container {\n",
              "      display:flex;\n",
              "      flex-wrap:wrap;\n",
              "      gap: 12px;\n",
              "    }\n",
              "\n",
              "    .colab-df-convert {\n",
              "      background-color: #E8F0FE;\n",
              "      border: none;\n",
              "      border-radius: 50%;\n",
              "      cursor: pointer;\n",
              "      display: none;\n",
              "      fill: #1967D2;\n",
              "      height: 32px;\n",
              "      padding: 0 0 0 0;\n",
              "      width: 32px;\n",
              "    }\n",
              "\n",
              "    .colab-df-convert:hover {\n",
              "      background-color: #E2EBFA;\n",
              "      box-shadow: 0px 1px 2px rgba(60, 64, 67, 0.3), 0px 1px 3px 1px rgba(60, 64, 67, 0.15);\n",
              "      fill: #174EA6;\n",
              "    }\n",
              "\n",
              "    [theme=dark] .colab-df-convert {\n",
              "      background-color: #3B4455;\n",
              "      fill: #D2E3FC;\n",
              "    }\n",
              "\n",
              "    [theme=dark] .colab-df-convert:hover {\n",
              "      background-color: #434B5C;\n",
              "      box-shadow: 0px 1px 3px 1px rgba(0, 0, 0, 0.15);\n",
              "      filter: drop-shadow(0px 1px 2px rgba(0, 0, 0, 0.3));\n",
              "      fill: #FFFFFF;\n",
              "    }\n",
              "  </style>\n",
              "\n",
              "      <script>\n",
              "        const buttonEl =\n",
              "          document.querySelector('#df-5696ba95-1e0d-4357-ae4f-183e49b4a39b button.colab-df-convert');\n",
              "        buttonEl.style.display =\n",
              "          google.colab.kernel.accessAllowed ? 'block' : 'none';\n",
              "\n",
              "        async function convertToInteractive(key) {\n",
              "          const element = document.querySelector('#df-5696ba95-1e0d-4357-ae4f-183e49b4a39b');\n",
              "          const dataTable =\n",
              "            await google.colab.kernel.invokeFunction('convertToInteractive',\n",
              "                                                     [key], {});\n",
              "          if (!dataTable) return;\n",
              "\n",
              "          const docLinkHtml = 'Like what you see? Visit the ' +\n",
              "            '<a target=\"_blank\" href=https://colab.research.google.com/notebooks/data_table.ipynb>data table notebook</a>'\n",
              "            + ' to learn more about interactive tables.';\n",
              "          element.innerHTML = '';\n",
              "          dataTable['output_type'] = 'display_data';\n",
              "          await google.colab.output.renderOutput(dataTable, element);\n",
              "          const docLink = document.createElement('div');\n",
              "          docLink.innerHTML = docLinkHtml;\n",
              "          element.appendChild(docLink);\n",
              "        }\n",
              "      </script>\n",
              "    </div>\n",
              "  </div>\n",
              "  "
            ],
            "text/plain": [
              "   id  label                                              tweet\n",
              "0   1      0   @user when a father is dysfunctional and is s...\n",
              "1   2      0  @user @user thanks for #lyft credit i can't us...\n",
              "2   3      0                                bihday your majesty\n",
              "3   4      0  #model   i love u take with u all the time in ...\n",
              "4   5      0             factsguide: society now    #motivation"
            ]
          },
          "execution_count": 4,
          "metadata": {},
          "output_type": "execute_result"
        }
      ],
      "source": [
        "# read the datasets into pandas dataframes\n",
        "twitterDf = pd.read_csv(trainData_path)\n",
        "twitterDf.head()"
      ]
    },
    {
      "cell_type": "code",
      "execution_count": null,
      "metadata": {
        "colab": {
          "base_uri": "https://localhost:8080/"
        },
        "id": "QEREAySba0RI",
        "outputId": "35662022-1afe-4cd8-eb9b-bcdc112ba22b"
      },
      "outputs": [
        {
          "data": {
            "text/plain": [
              "(31962, 3)"
            ]
          },
          "execution_count": 5,
          "metadata": {},
          "output_type": "execute_result"
        }
      ],
      "source": [
        "# check the shape of the dataframe\n",
        "twitterDf.shape"
      ]
    },
    {
      "cell_type": "markdown",
      "metadata": {
        "id": "jQlXWd90lv-N"
      },
      "source": [
        "The dataset contains three columns: `id`, `label`, and `tweet`. The `id` column is the unique identifier for each tweet. The `label` column is the sentiment label of the review. The `tweet` column contains the text of the tweet that is being analyzed. The sentiment label is either 0 (negative) or 1 (positive). The dataset contains 31962 rows and 3 columns."
      ]
    },
    {
      "cell_type": "code",
      "execution_count": null,
      "metadata": {
        "colab": {
          "base_uri": "https://localhost:8080/"
        },
        "id": "TqXq46pxa0RG",
        "outputId": "1c2cf5d7-c9f9-42a5-faf2-df6e1de1e276"
      },
      "outputs": [
        {
          "data": {
            "text/plain": [
              "id       0\n",
              "label    0\n",
              "tweet    0\n",
              "dtype: int64"
            ]
          },
          "execution_count": 6,
          "metadata": {},
          "output_type": "execute_result"
        }
      ],
      "source": [
        "# check for null values\n",
        "twitterDf.isnull().sum()"
      ]
    },
    {
      "cell_type": "code",
      "execution_count": null,
      "metadata": {
        "colab": {
          "base_uri": "https://localhost:8080/"
        },
        "id": "kGZJi5qTa0RH",
        "outputId": "81e377f0-ffa8-4028-9e03-711102f6a7cc"
      },
      "outputs": [
        {
          "data": {
            "text/plain": [
              "0    29720\n",
              "1     2242\n",
              "Name: label, dtype: int64"
            ]
          },
          "execution_count": 7,
          "metadata": {},
          "output_type": "execute_result"
        }
      ],
      "source": [
        "# counting the number of positive and negative tweets\n",
        "twitterDf['label'].value_counts()"
      ]
    },
    {
      "cell_type": "code",
      "execution_count": null,
      "metadata": {
        "id": "3XKASkPya0RK"
      },
      "outputs": [],
      "source": [
        " # map the labels 0 and 1 to positive and negative respectively\n",
        "twitterDf['label'] = twitterDf['label'].map({0: 'Positive', 1: 'Negative'})"
      ]
    },
    {
      "cell_type": "code",
      "execution_count": null,
      "metadata": {
        "colab": {
          "base_uri": "https://localhost:8080/",
          "height": 206
        },
        "id": "v_3Bujqva0RL",
        "outputId": "aadbacaf-4eb0-4416-86d4-e1f055ef2b38"
      },
      "outputs": [
        {
          "data": {
            "text/html": [
              "\n",
              "  <div id=\"df-6d1d1a43-7cdd-4398-8d17-c11a79651e44\">\n",
              "    <div class=\"colab-df-container\">\n",
              "      <div>\n",
              "<style scoped>\n",
              "    .dataframe tbody tr th:only-of-type {\n",
              "        vertical-align: middle;\n",
              "    }\n",
              "\n",
              "    .dataframe tbody tr th {\n",
              "        vertical-align: top;\n",
              "    }\n",
              "\n",
              "    .dataframe thead th {\n",
              "        text-align: right;\n",
              "    }\n",
              "</style>\n",
              "<table border=\"1\" class=\"dataframe\">\n",
              "  <thead>\n",
              "    <tr style=\"text-align: right;\">\n",
              "      <th></th>\n",
              "      <th>id</th>\n",
              "      <th>label</th>\n",
              "      <th>tweet</th>\n",
              "    </tr>\n",
              "  </thead>\n",
              "  <tbody>\n",
              "    <tr>\n",
              "      <th>8963</th>\n",
              "      <td>8964</td>\n",
              "      <td>Positive</td>\n",
              "      <td>@user just bought tix for #victoria  ! :)</td>\n",
              "    </tr>\n",
              "    <tr>\n",
              "      <th>15109</th>\n",
              "      <td>15110</td>\n",
              "      <td>Positive</td>\n",
              "      <td>3 years now in kannywood industry   acting @us...</td>\n",
              "    </tr>\n",
              "    <tr>\n",
              "      <th>2065</th>\n",
              "      <td>2066</td>\n",
              "      <td>Positive</td>\n",
              "      <td>@user taking chances is liberating &amp;amp; exci...</td>\n",
              "    </tr>\n",
              "    <tr>\n",
              "      <th>9784</th>\n",
              "      <td>9785</td>\n",
              "      <td>Positive</td>\n",
              "      <td>#model   i love u take with u all the time in ...</td>\n",
              "    </tr>\n",
              "    <tr>\n",
              "      <th>6735</th>\n",
              "      <td>6736</td>\n",
              "      <td>Positive</td>\n",
              "      <td>! i walked 10353 today. #bhagmojobhag #nofail...</td>\n",
              "    </tr>\n",
              "  </tbody>\n",
              "</table>\n",
              "</div>\n",
              "      <button class=\"colab-df-convert\" onclick=\"convertToInteractive('df-6d1d1a43-7cdd-4398-8d17-c11a79651e44')\"\n",
              "              title=\"Convert this dataframe to an interactive table.\"\n",
              "              style=\"display:none;\">\n",
              "        \n",
              "  <svg xmlns=\"http://www.w3.org/2000/svg\" height=\"24px\"viewBox=\"0 0 24 24\"\n",
              "       width=\"24px\">\n",
              "    <path d=\"M0 0h24v24H0V0z\" fill=\"none\"/>\n",
              "    <path d=\"M18.56 5.44l.94 2.06.94-2.06 2.06-.94-2.06-.94-.94-2.06-.94 2.06-2.06.94zm-11 1L8.5 8.5l.94-2.06 2.06-.94-2.06-.94L8.5 2.5l-.94 2.06-2.06.94zm10 10l.94 2.06.94-2.06 2.06-.94-2.06-.94-.94-2.06-.94 2.06-2.06.94z\"/><path d=\"M17.41 7.96l-1.37-1.37c-.4-.4-.92-.59-1.43-.59-.52 0-1.04.2-1.43.59L10.3 9.45l-7.72 7.72c-.78.78-.78 2.05 0 2.83L4 21.41c.39.39.9.59 1.41.59.51 0 1.02-.2 1.41-.59l7.78-7.78 2.81-2.81c.8-.78.8-2.07 0-2.86zM5.41 20L4 18.59l7.72-7.72 1.47 1.35L5.41 20z\"/>\n",
              "  </svg>\n",
              "      </button>\n",
              "      \n",
              "  <style>\n",
              "    .colab-df-container {\n",
              "      display:flex;\n",
              "      flex-wrap:wrap;\n",
              "      gap: 12px;\n",
              "    }\n",
              "\n",
              "    .colab-df-convert {\n",
              "      background-color: #E8F0FE;\n",
              "      border: none;\n",
              "      border-radius: 50%;\n",
              "      cursor: pointer;\n",
              "      display: none;\n",
              "      fill: #1967D2;\n",
              "      height: 32px;\n",
              "      padding: 0 0 0 0;\n",
              "      width: 32px;\n",
              "    }\n",
              "\n",
              "    .colab-df-convert:hover {\n",
              "      background-color: #E2EBFA;\n",
              "      box-shadow: 0px 1px 2px rgba(60, 64, 67, 0.3), 0px 1px 3px 1px rgba(60, 64, 67, 0.15);\n",
              "      fill: #174EA6;\n",
              "    }\n",
              "\n",
              "    [theme=dark] .colab-df-convert {\n",
              "      background-color: #3B4455;\n",
              "      fill: #D2E3FC;\n",
              "    }\n",
              "\n",
              "    [theme=dark] .colab-df-convert:hover {\n",
              "      background-color: #434B5C;\n",
              "      box-shadow: 0px 1px 3px 1px rgba(0, 0, 0, 0.15);\n",
              "      filter: drop-shadow(0px 1px 2px rgba(0, 0, 0, 0.3));\n",
              "      fill: #FFFFFF;\n",
              "    }\n",
              "  </style>\n",
              "\n",
              "      <script>\n",
              "        const buttonEl =\n",
              "          document.querySelector('#df-6d1d1a43-7cdd-4398-8d17-c11a79651e44 button.colab-df-convert');\n",
              "        buttonEl.style.display =\n",
              "          google.colab.kernel.accessAllowed ? 'block' : 'none';\n",
              "\n",
              "        async function convertToInteractive(key) {\n",
              "          const element = document.querySelector('#df-6d1d1a43-7cdd-4398-8d17-c11a79651e44');\n",
              "          const dataTable =\n",
              "            await google.colab.kernel.invokeFunction('convertToInteractive',\n",
              "                                                     [key], {});\n",
              "          if (!dataTable) return;\n",
              "\n",
              "          const docLinkHtml = 'Like what you see? Visit the ' +\n",
              "            '<a target=\"_blank\" href=https://colab.research.google.com/notebooks/data_table.ipynb>data table notebook</a>'\n",
              "            + ' to learn more about interactive tables.';\n",
              "          element.innerHTML = '';\n",
              "          dataTable['output_type'] = 'display_data';\n",
              "          await google.colab.output.renderOutput(dataTable, element);\n",
              "          const docLink = document.createElement('div');\n",
              "          docLink.innerHTML = docLinkHtml;\n",
              "          element.appendChild(docLink);\n",
              "        }\n",
              "      </script>\n",
              "    </div>\n",
              "  </div>\n",
              "  "
            ],
            "text/plain": [
              "          id     label                                              tweet\n",
              "8963    8964  Positive          @user just bought tix for #victoria  ! :)\n",
              "15109  15110  Positive  3 years now in kannywood industry   acting @us...\n",
              "2065    2066  Positive   @user taking chances is liberating &amp; exci...\n",
              "9784    9785  Positive  #model   i love u take with u all the time in ...\n",
              "6735    6736  Positive   ! i walked 10353 today. #bhagmojobhag #nofail..."
            ]
          },
          "execution_count": 9,
          "metadata": {},
          "output_type": "execute_result"
        }
      ],
      "source": [
        "twitterDf.sample(5)"
      ]
    },
    {
      "cell_type": "code",
      "execution_count": null,
      "metadata": {
        "colab": {
          "base_uri": "https://localhost:8080/",
          "height": 496
        },
        "id": "wQ6xXbYKa0RO",
        "outputId": "d82d0f31-0798-4a88-f362-6a3e36c011b8"
      },
      "outputs": [
        {
          "data": {
            "text/plain": [
              "<Axes: >"
            ]
          },
          "execution_count": 10,
          "metadata": {},
          "output_type": "execute_result"
        },
        {
          "data": {
            "image/png": "[encoded data removed]",
            "text/plain": [
              "<Figure size 640x480 with 1 Axes>"
            ]
          },
          "metadata": {},
          "output_type": "display_data"
        }
      ],
      "source": [
        "# plotting the number of positive and negative tweets\n",
        "twitterDf['label'].value_counts().plot(kind = 'bar', color = ['green', 'red'])"
      ]
    },
    {
      "cell_type": "markdown",
      "metadata": {
        "id": "CcurDKr2lv-T"
      },
      "source": [
        "From the bar graph above it is clear that the dataset contains more positive tweets than negative tweets. The dataset is imbalanced. The dataset contains 29720 positive tweets and 2242 negative tweets."
      ]
    },
    {
      "cell_type": "code",
      "execution_count": null,
      "metadata": {
        "id": "6akX3Jqza0RP"
      },
      "outputs": [],
      "source": [
        "# adding a column to the dataframe to store the length of each tweet\n",
        "twitterDf['tweet_length'] = twitterDf['tweet'].apply(lambda x:len(str(x).split()))"
      ]
    },
    {
      "cell_type": "code",
      "execution_count": null,
      "metadata": {
        "colab": {
          "base_uri": "https://localhost:8080/",
          "height": 410
        },
        "id": "y9hUArS6a0RQ",
        "outputId": "e631eb47-3bee-4215-de01-d73ef0985810"
      },
      "outputs": [
        {
          "data": {
            "image/png": "[encoded data removed]",
            "text/plain": [
              "<Figure size 800x400 with 1 Axes>"
            ]
          },
          "metadata": {},
          "output_type": "display_data"
        }
      ],
      "source": [
        "# plotting the distribution of the number of words in each tweet\n",
        "\n",
        "plt.figure(figsize=(8,4))\n",
        "p1=sns.kdeplot(twitterDf['tweet_length'], fill=True, \n",
        "               color=\"r\").set_title('Kernel Distribution of Number of words')\n"
      ]
    },
    {
      "cell_type": "code",
      "execution_count": null,
      "metadata": {
        "colab": {
          "base_uri": "https://localhost:8080/",
          "height": 410
        },
        "id": "AZnEJ2fsa0RQ",
        "outputId": "aa5f7589-8105-4b64-9efc-971c4cff6d38"
      },
      "outputs": [
        {
          "data": {
            "image/png": "[encoded data removed]",
            "text/plain": [
              "<Figure size 800x400 with 1 Axes>"
            ]
          },
          "metadata": {},
          "output_type": "display_data"
        }
      ],
      "source": [
        "# plotting the distribution of the number of words in each tweet for positive sentiment tweets\n",
        "\n",
        "fig = plt.figure(figsize=(8,4))\n",
        "sns.histplot(twitterDf[twitterDf['label']=='Positive']['tweet_length'], \n",
        "             color='steelblue').set_title('Distribution of number of words in positive sentiment tweets')\n",
        "\n",
        "plt.show()"
      ]
    },
    {
      "cell_type": "code",
      "execution_count": null,
      "metadata": {
        "colab": {
          "base_uri": "https://localhost:8080/",
          "height": 410
        },
        "id": "c3kSf7qga0RR",
        "outputId": "205a05c2-f385-48ce-8f21-0cadc30f3c73"
      },
      "outputs": [
        {
          "data": {
            "image/png": "[encoded data removed]",
            "text/plain": [
              "<Figure size 800x400 with 1 Axes>"
            ]
          },
          "metadata": {},
          "output_type": "display_data"
        }
      ],
      "source": [
        "#plotting the distribution of the number of words in each tweet for negative sentiment tweets\n",
        "\n",
        "fig = plt.figure(figsize=(8,4))\n",
        "\n",
        "sns.histplot(twitterDf[twitterDf['label']=='Negative']['tweet_length'],\n",
        "             color='indianred').set_title('Distribution of number of words in negative sentiment tweets')\n",
        "\n",
        "plt.show()"
      ]
    },
    {
      "cell_type": "markdown",
      "metadata": {
        "id": "bOxYnQ_Clv-W"
      },
      "source": [
        "The number of words in each tweet ranges from 1 to 32. The average number of words in each tweet is 10. The maximum number of words in each tweet is 32. The minimum number of words in each tweet is 1."
      ]
    },
    {
      "cell_type": "code",
      "execution_count": null,
      "metadata": {
        "id": "mnak9fU3a0RS"
      },
      "outputs": [],
      "source": [
        "# removing the user mentions from the tweets using regular expressions\n",
        "\n",
        "def removeMentions(text):\n",
        "    return re.sub(\"@[A-Za-z0-9_]+\", \"\", text)\n",
        "\n",
        "\n",
        "twitterDf['tweet'] = twitterDf['tweet'].apply(lambda x: removeMentions(x))"
      ]
    },
    {
      "cell_type": "code",
      "execution_count": null,
      "metadata": {
        "colab": {
          "base_uri": "https://localhost:8080/",
          "height": 676
        },
        "id": "p0e4PbkOa0RT",
        "outputId": "d985a53a-ae63-481b-9acb-31ad5c9b780a"
      },
      "outputs": [
        {
          "data": {
            "text/html": [
              "\n",
              "  <div id=\"df-f9bfd0c4-b958-4183-ac29-e0497729ebf4\">\n",
              "    <div class=\"colab-df-container\">\n",
              "      <div>\n",
              "<style scoped>\n",
              "    .dataframe tbody tr th:only-of-type {\n",
              "        vertical-align: middle;\n",
              "    }\n",
              "\n",
              "    .dataframe tbody tr th {\n",
              "        vertical-align: top;\n",
              "    }\n",
              "\n",
              "    .dataframe thead th {\n",
              "        text-align: right;\n",
              "    }\n",
              "</style>\n",
              "<table border=\"1\" class=\"dataframe\">\n",
              "  <thead>\n",
              "    <tr style=\"text-align: right;\">\n",
              "      <th></th>\n",
              "      <th>Common_words</th>\n",
              "      <th>count</th>\n",
              "    </tr>\n",
              "  </thead>\n",
              "  <tbody>\n",
              "    <tr>\n",
              "      <th>0</th>\n",
              "      <td>the</td>\n",
              "      <td>10066</td>\n",
              "    </tr>\n",
              "    <tr>\n",
              "      <th>1</th>\n",
              "      <td>to</td>\n",
              "      <td>9768</td>\n",
              "    </tr>\n",
              "    <tr>\n",
              "      <th>2</th>\n",
              "      <td>a</td>\n",
              "      <td>6261</td>\n",
              "    </tr>\n",
              "    <tr>\n",
              "      <th>3</th>\n",
              "      <td>i</td>\n",
              "      <td>5655</td>\n",
              "    </tr>\n",
              "    <tr>\n",
              "      <th>4</th>\n",
              "      <td>you</td>\n",
              "      <td>4949</td>\n",
              "    </tr>\n",
              "    <tr>\n",
              "      <th>5</th>\n",
              "      <td>and</td>\n",
              "      <td>4831</td>\n",
              "    </tr>\n",
              "    <tr>\n",
              "      <th>6</th>\n",
              "      <td>in</td>\n",
              "      <td>4570</td>\n",
              "    </tr>\n",
              "    <tr>\n",
              "      <th>7</th>\n",
              "      <td>for</td>\n",
              "      <td>4435</td>\n",
              "    </tr>\n",
              "    <tr>\n",
              "      <th>8</th>\n",
              "      <td>of</td>\n",
              "      <td>4152</td>\n",
              "    </tr>\n",
              "    <tr>\n",
              "      <th>9</th>\n",
              "      <td>is</td>\n",
              "      <td>4102</td>\n",
              "    </tr>\n",
              "    <tr>\n",
              "      <th>10</th>\n",
              "      <td>my</td>\n",
              "      <td>3626</td>\n",
              "    </tr>\n",
              "    <tr>\n",
              "      <th>11</th>\n",
              "      <td>on</td>\n",
              "      <td>2556</td>\n",
              "    </tr>\n",
              "    <tr>\n",
              "      <th>12</th>\n",
              "      <td>with</td>\n",
              "      <td>2484</td>\n",
              "    </tr>\n",
              "    <tr>\n",
              "      <th>13</th>\n",
              "      <td>this</td>\n",
              "      <td>2462</td>\n",
              "    </tr>\n",
              "    <tr>\n",
              "      <th>14</th>\n",
              "      <td>be</td>\n",
              "      <td>2373</td>\n",
              "    </tr>\n",
              "    <tr>\n",
              "      <th>15</th>\n",
              "      <td>it</td>\n",
              "      <td>2100</td>\n",
              "    </tr>\n",
              "    <tr>\n",
              "      <th>16</th>\n",
              "      <td>so</td>\n",
              "      <td>1890</td>\n",
              "    </tr>\n",
              "    <tr>\n",
              "      <th>17</th>\n",
              "      <td>all</td>\n",
              "      <td>1823</td>\n",
              "    </tr>\n",
              "    <tr>\n",
              "      <th>18</th>\n",
              "      <td>are</td>\n",
              "      <td>1802</td>\n",
              "    </tr>\n",
              "    <tr>\n",
              "      <th>19</th>\n",
              "      <td>that</td>\n",
              "      <td>1757</td>\n",
              "    </tr>\n",
              "  </tbody>\n",
              "</table>\n",
              "</div>\n",
              "      <button class=\"colab-df-convert\" onclick=\"convertToInteractive('df-f9bfd0c4-b958-4183-ac29-e0497729ebf4')\"\n",
              "              title=\"Convert this dataframe to an interactive table.\"\n",
              "              style=\"display:none;\">\n",
              "        \n",
              "  <svg xmlns=\"http://www.w3.org/2000/svg\" height=\"24px\"viewBox=\"0 0 24 24\"\n",
              "       width=\"24px\">\n",
              "    <path d=\"M0 0h24v24H0V0z\" fill=\"none\"/>\n",
              "    <path d=\"M18.56 5.44l.94 2.06.94-2.06 2.06-.94-2.06-.94-.94-2.06-.94 2.06-2.06.94zm-11 1L8.5 8.5l.94-2.06 2.06-.94-2.06-.94L8.5 2.5l-.94 2.06-2.06.94zm10 10l.94 2.06.94-2.06 2.06-.94-2.06-.94-.94-2.06-.94 2.06-2.06.94z\"/><path d=\"M17.41 7.96l-1.37-1.37c-.4-.4-.92-.59-1.43-.59-.52 0-1.04.2-1.43.59L10.3 9.45l-7.72 7.72c-.78.78-.78 2.05 0 2.83L4 21.41c.39.39.9.59 1.41.59.51 0 1.02-.2 1.41-.59l7.78-7.78 2.81-2.81c.8-.78.8-2.07 0-2.86zM5.41 20L4 18.59l7.72-7.72 1.47 1.35L5.41 20z\"/>\n",
              "  </svg>\n",
              "      </button>\n",
              "      \n",
              "  <style>\n",
              "    .colab-df-container {\n",
              "      display:flex;\n",
              "      flex-wrap:wrap;\n",
              "      gap: 12px;\n",
              "    }\n",
              "\n",
              "    .colab-df-convert {\n",
              "      background-color: #E8F0FE;\n",
              "      border: none;\n",
              "      border-radius: 50%;\n",
              "      cursor: pointer;\n",
              "      display: none;\n",
              "      fill: #1967D2;\n",
              "      height: 32px;\n",
              "      padding: 0 0 0 0;\n",
              "      width: 32px;\n",
              "    }\n",
              "\n",
              "    .colab-df-convert:hover {\n",
              "      background-color: #E2EBFA;\n",
              "      box-shadow: 0px 1px 2px rgba(60, 64, 67, 0.3), 0px 1px 3px 1px rgba(60, 64, 67, 0.15);\n",
              "      fill: #174EA6;\n",
              "    }\n",
              "\n",
              "    [theme=dark] .colab-df-convert {\n",
              "      background-color: #3B4455;\n",
              "      fill: #D2E3FC;\n",
              "    }\n",
              "\n",
              "    [theme=dark] .colab-df-convert:hover {\n",
              "      background-color: #434B5C;\n",
              "      box-shadow: 0px 1px 3px 1px rgba(0, 0, 0, 0.15);\n",
              "      filter: drop-shadow(0px 1px 2px rgba(0, 0, 0, 0.3));\n",
              "      fill: #FFFFFF;\n",
              "    }\n",
              "  </style>\n",
              "\n",
              "      <script>\n",
              "        const buttonEl =\n",
              "          document.querySelector('#df-f9bfd0c4-b958-4183-ac29-e0497729ebf4 button.colab-df-convert');\n",
              "        buttonEl.style.display =\n",
              "          google.colab.kernel.accessAllowed ? 'block' : 'none';\n",
              "\n",
              "        async function convertToInteractive(key) {\n",
              "          const element = document.querySelector('#df-f9bfd0c4-b958-4183-ac29-e0497729ebf4');\n",
              "          const dataTable =\n",
              "            await google.colab.kernel.invokeFunction('convertToInteractive',\n",
              "                                                     [key], {});\n",
              "          if (!dataTable) return;\n",
              "\n",
              "          const docLinkHtml = 'Like what you see? Visit the ' +\n",
              "            '<a target=\"_blank\" href=https://colab.research.google.com/notebooks/data_table.ipynb>data table notebook</a>'\n",
              "            + ' to learn more about interactive tables.';\n",
              "          element.innerHTML = '';\n",
              "          dataTable['output_type'] = 'display_data';\n",
              "          await google.colab.output.renderOutput(dataTable, element);\n",
              "          const docLink = document.createElement('div');\n",
              "          docLink.innerHTML = docLinkHtml;\n",
              "          element.appendChild(docLink);\n",
              "        }\n",
              "      </script>\n",
              "    </div>\n",
              "  </div>\n",
              "  "
            ],
            "text/plain": [
              "   Common_words  count\n",
              "0           the  10066\n",
              "1            to   9768\n",
              "2             a   6261\n",
              "3             i   5655\n",
              "4           you   4949\n",
              "5           and   4831\n",
              "6            in   4570\n",
              "7           for   4435\n",
              "8            of   4152\n",
              "9            is   4102\n",
              "10           my   3626\n",
              "11           on   2556\n",
              "12         with   2484\n",
              "13         this   2462\n",
              "14           be   2373\n",
              "15           it   2100\n",
              "16           so   1890\n",
              "17          all   1823\n",
              "18          are   1802\n",
              "19         that   1757"
            ]
          },
          "execution_count": 16,
          "metadata": {},
          "output_type": "execute_result"
        }
      ],
      "source": [
        "# counting the frequency of each word in the tweets and displaying the top 20 most frequent words\n",
        "\n",
        "twitterDf['tweet_list'] = twitterDf['tweet'].apply(lambda x:str(x).split()) #convert tweets to list\n",
        "top = Counter([item for sublist in twitterDf['tweet_list'] for item in sublist]) #count the frequency of each word in the tweets\n",
        "temp = pd.DataFrame(top.most_common(20)) #create a dataframe of the top 20 most frequent words\n",
        "temp.columns = ['Common_words','count']\n",
        "temp"
      ]
    },
    {
      "cell_type": "markdown",
      "metadata": {
        "id": "jafnIklTlv-Y"
      },
      "source": [
        "The most common word in the tweets is `the`. The second most common word in the tweets is `to`. The third most common word in the tweets is `a`. The fourth most common word in the tweets is `i`. The fifth most common word in the tweets is `you`."
      ]
    },
    {
      "cell_type": "markdown",
      "metadata": {
        "id": "WOMda20slv-Z"
      },
      "source": [
        "## Data Preprocessing"
      ]
    },
    {
      "cell_type": "code",
      "execution_count": 4,
      "metadata": {
        "id": "CS2Z--6Ea0RV"
      },
      "outputs": [],
      "source": [
        "# reading the dataset into a pandas dataframe again to start the preprocessing of the tweets\n",
        "df_tweets = pd.read_csv(trainData_path)\n"
      ]
    },
    {
      "cell_type": "markdown",
      "metadata": {
        "id": "CLFJczgMlv-a"
      },
      "source": [
        "Cleaning the tweets to remove the noise and unwanted characters. The following steps are performed:\n",
        "- Removing Twitter Handles (@user), URLs, and Hashtags\n",
        "- Removing Punctuations, Numbers, and Special Characters, removing emojis, and Converting to Lowercase\n",
        "- Removing Short Words, double spaces, and Stopwords\n",
        "- Lemmatization\n",
        "- Tokenization\n"
      ]
    },
    {
      "cell_type": "code",
      "execution_count": 5,
      "metadata": {
        "id": "HsVi3ZXua0RV"
      },
      "outputs": [],
      "source": [
        "# change the tweet to lowerCase\n",
        "def toLowerCase(text):\n",
        "    return text.lower()\n",
        "\n",
        "# remove special characters from the tweets \n",
        "def removeSpecialChars(text):\n",
        "    return re.sub('[^a-zA-Z0-9\\s]', '', text)\n",
        "\n",
        "# removing the quotes from the tweets\n",
        "def removeQuotes(text):\n",
        "    return text.replace('\"', '')\n",
        "\n",
        "# remove the urls from the tweets\n",
        "def removeURLS(text):\n",
        "    return re.sub('http\\S+|www.\\S+', '', text, flags=re.IGNORECASE)\n",
        "\n",
        "# remove the user mentions from the tweets\n",
        "def removeMentions(text):\n",
        "    return re.sub(\"@[A-Za-z0-9_]+\", \"\", text)\n",
        "\n",
        "# remove the hashtags from the tweets\n",
        "def removeHashtags(text):\n",
        "    return re.sub(\"#[A-Za-z0-9_]+\", \"\", text)\n",
        "\n",
        "# remove the punctuation from the tweets\n",
        "def removePunctuations(text):\n",
        "    special_characters = set(string.punctuation)\n",
        "    return ''.join(char1 for char1 in text if char1 not in special_characters)\n",
        "\n",
        "# remove the double spaces from the tweets\n",
        "def removeDoubleSpace(text):\n",
        "    return text.replace('  ', '')\n",
        "\n",
        "# remove the emojis from the tweets\n",
        "def removeEmojis(text):\n",
        "    emoji_pattern = re.compile(\"[\"\n",
        "        u\"\\U0001F600-\\U0001F64F\"  # emoticons\n",
        "        u\"\\U0001F300-\\U0001F5FF\"  # symbols & pictographs\n",
        "        u\"\\U0001F680-\\U0001F6FF\"  # transport & map symbols\n",
        "        u\"\\U0001F1E0-\\U0001F1FF\"  # flags (iOS)\n",
        "                           \"]+\", flags=re.UNICODE)\n",
        "    return emoji_pattern.sub(r'', text)\n",
        "\n",
        "# remove the stopwords from the tweets using the nltk library\n",
        "def removeStopwords(text):\n",
        "    stop = stopwords.words('english')\n",
        "    return ' '.join([word for word in text.split() if word not in stop])\n",
        "\n",
        "# remove the words with length less than 2 from the tweets\n",
        "def removeShortWords(text):\n",
        "    return ' '.join([w for w in text.split() if len(w) > 2])\n",
        "\n",
        "# lemmatize the tweets using the nltk library\n",
        "def lemmatizeText(text):\n",
        "    lemmatizer = WordNetLemmatizer()\n",
        "    return ' '.join([lemmatizer.lemmatize(word) for word in text.split()])\n"
      ]
    },
    {
      "cell_type": "code",
      "execution_count": 6,
      "metadata": {
        "id": "QuCaOPpllv-b"
      },
      "outputs": [],
      "source": [
        "# preprocess the tweets using the functions defined above\n",
        "def text_preprocessor(text):\n",
        "    text = toLowerCase(text)\n",
        "    text = removeSpecialChars(text)\n",
        "    text = removeQuotes(text)\n",
        "    text = removeURLS(text)\n",
        "    text = removeMentions(text)\n",
        "    text = removeHashtags(text)\n",
        "    text = removePunctuations(text)\n",
        "    text = removeDoubleSpace(text)\n",
        "    text = removeEmojis(text)\n",
        "    text = removeStopwords(text)\n",
        "    text = removeShortWords(text)\n",
        "    text = lemmatizeText(text)\n",
        "    return text"
      ]
    },
    {
      "cell_type": "code",
      "execution_count": 7,
      "metadata": {
        "colab": {
          "base_uri": "https://localhost:8080/",
          "height": 206
        },
        "id": "ZgtGNz_Ya0RX",
        "outputId": "d6ed678f-7f65-480b-cb00-71e13ffe4d46"
      },
      "outputs": [
        {
          "output_type": "execute_result",
          "data": {
            "text/plain": [
              "          id  label                                              tweet  \\\n",
              "13840  13841      0                  @user   bihday haryana clpleader    \n",
              "14980  14981      0                        friends on netflix!! ð     \n",
              "7320    7321      0  i am thankful for health. #thankful #positive ...   \n",
              "12303  12304      0  what a #view #oregon   #poland #usa #unitedsta...   \n",
              "16461  16462      0   @user the \"forever tropical #paradise\" #massw...   \n",
              "\n",
              "                                           tweet_cleaned  \n",
              "13840                      user bihday haryana clpleader  \n",
              "14980                                     friend netflix  \n",
              "7320                   thankful health thankful positive  \n",
              "12303  view oregon poland usa unitedstates holiday pr...  \n",
              "16461  user forever tropical paradise masswedding cer...  "
            ],
            "text/html": [
              "\n",
              "  <div id=\"df-0e33d0b0-7c91-477e-9b7c-727733f04d5c\">\n",
              "    <div class=\"colab-df-container\">\n",
              "      <div>\n",
              "<style scoped>\n",
              "    .dataframe tbody tr th:only-of-type {\n",
              "        vertical-align: middle;\n",
              "    }\n",
              "\n",
              "    .dataframe tbody tr th {\n",
              "        vertical-align: top;\n",
              "    }\n",
              "\n",
              "    .dataframe thead th {\n",
              "        text-align: right;\n",
              "    }\n",
              "</style>\n",
              "<table border=\"1\" class=\"dataframe\">\n",
              "  <thead>\n",
              "    <tr style=\"text-align: right;\">\n",
              "      <th></th>\n",
              "      <th>id</th>\n",
              "      <th>label</th>\n",
              "      <th>tweet</th>\n",
              "      <th>tweet_cleaned</th>\n",
              "    </tr>\n",
              "  </thead>\n",
              "  <tbody>\n",
              "    <tr>\n",
              "      <th>13840</th>\n",
              "      <td>13841</td>\n",
              "      <td>0</td>\n",
              "      <td>@user   bihday haryana clpleader</td>\n",
              "      <td>user bihday haryana clpleader</td>\n",
              "    </tr>\n",
              "    <tr>\n",
              "      <th>14980</th>\n",
              "      <td>14981</td>\n",
              "      <td>0</td>\n",
              "      <td>friends on netflix!! ð</td>\n",
              "      <td>friend netflix</td>\n",
              "    </tr>\n",
              "    <tr>\n",
              "      <th>7320</th>\n",
              "      <td>7321</td>\n",
              "      <td>0</td>\n",
              "      <td>i am thankful for health. #thankful #positive ...</td>\n",
              "      <td>thankful health thankful positive</td>\n",
              "    </tr>\n",
              "    <tr>\n",
              "      <th>12303</th>\n",
              "      <td>12304</td>\n",
              "      <td>0</td>\n",
              "      <td>what a #view #oregon   #poland #usa #unitedsta...</td>\n",
              "      <td>view oregon poland usa unitedstates holiday pr...</td>\n",
              "    </tr>\n",
              "    <tr>\n",
              "      <th>16461</th>\n",
              "      <td>16462</td>\n",
              "      <td>0</td>\n",
              "      <td>@user the \"forever tropical #paradise\" #massw...</td>\n",
              "      <td>user forever tropical paradise masswedding cer...</td>\n",
              "    </tr>\n",
              "  </tbody>\n",
              "</table>\n",
              "</div>\n",
              "      <button class=\"colab-df-convert\" onclick=\"convertToInteractive('df-0e33d0b0-7c91-477e-9b7c-727733f04d5c')\"\n",
              "              title=\"Convert this dataframe to an interactive table.\"\n",
              "              style=\"display:none;\">\n",
              "        \n",
              "  <svg xmlns=\"http://www.w3.org/2000/svg\" height=\"24px\"viewBox=\"0 0 24 24\"\n",
              "       width=\"24px\">\n",
              "    <path d=\"M0 0h24v24H0V0z\" fill=\"none\"/>\n",
              "    <path d=\"M18.56 5.44l.94 2.06.94-2.06 2.06-.94-2.06-.94-.94-2.06-.94 2.06-2.06.94zm-11 1L8.5 8.5l.94-2.06 2.06-.94-2.06-.94L8.5 2.5l-.94 2.06-2.06.94zm10 10l.94 2.06.94-2.06 2.06-.94-2.06-.94-.94-2.06-.94 2.06-2.06.94z\"/><path d=\"M17.41 7.96l-1.37-1.37c-.4-.4-.92-.59-1.43-.59-.52 0-1.04.2-1.43.59L10.3 9.45l-7.72 7.72c-.78.78-.78 2.05 0 2.83L4 21.41c.39.39.9.59 1.41.59.51 0 1.02-.2 1.41-.59l7.78-7.78 2.81-2.81c.8-.78.8-2.07 0-2.86zM5.41 20L4 18.59l7.72-7.72 1.47 1.35L5.41 20z\"/>\n",
              "  </svg>\n",
              "      </button>\n",
              "      \n",
              "  <style>\n",
              "    .colab-df-container {\n",
              "      display:flex;\n",
              "      flex-wrap:wrap;\n",
              "      gap: 12px;\n",
              "    }\n",
              "\n",
              "    .colab-df-convert {\n",
              "      background-color: #E8F0FE;\n",
              "      border: none;\n",
              "      border-radius: 50%;\n",
              "      cursor: pointer;\n",
              "      display: none;\n",
              "      fill: #1967D2;\n",
              "      height: 32px;\n",
              "      padding: 0 0 0 0;\n",
              "      width: 32px;\n",
              "    }\n",
              "\n",
              "    .colab-df-convert:hover {\n",
              "      background-color: #E2EBFA;\n",
              "      box-shadow: 0px 1px 2px rgba(60, 64, 67, 0.3), 0px 1px 3px 1px rgba(60, 64, 67, 0.15);\n",
              "      fill: #174EA6;\n",
              "    }\n",
              "\n",
              "    [theme=dark] .colab-df-convert {\n",
              "      background-color: #3B4455;\n",
              "      fill: #D2E3FC;\n",
              "    }\n",
              "\n",
              "    [theme=dark] .colab-df-convert:hover {\n",
              "      background-color: #434B5C;\n",
              "      box-shadow: 0px 1px 3px 1px rgba(0, 0, 0, 0.15);\n",
              "      filter: drop-shadow(0px 1px 2px rgba(0, 0, 0, 0.3));\n",
              "      fill: #FFFFFF;\n",
              "    }\n",
              "  </style>\n",
              "\n",
              "      <script>\n",
              "        const buttonEl =\n",
              "          document.querySelector('#df-0e33d0b0-7c91-477e-9b7c-727733f04d5c button.colab-df-convert');\n",
              "        buttonEl.style.display =\n",
              "          google.colab.kernel.accessAllowed ? 'block' : 'none';\n",
              "\n",
              "        async function convertToInteractive(key) {\n",
              "          const element = document.querySelector('#df-0e33d0b0-7c91-477e-9b7c-727733f04d5c');\n",
              "          const dataTable =\n",
              "            await google.colab.kernel.invokeFunction('convertToInteractive',\n",
              "                                                     [key], {});\n",
              "          if (!dataTable) return;\n",
              "\n",
              "          const docLinkHtml = 'Like what you see? Visit the ' +\n",
              "            '<a target=\"_blank\" href=https://colab.research.google.com/notebooks/data_table.ipynb>data table notebook</a>'\n",
              "            + ' to learn more about interactive tables.';\n",
              "          element.innerHTML = '';\n",
              "          dataTable['output_type'] = 'display_data';\n",
              "          await google.colab.output.renderOutput(dataTable, element);\n",
              "          const docLink = document.createElement('div');\n",
              "          docLink.innerHTML = docLinkHtml;\n",
              "          element.appendChild(docLink);\n",
              "        }\n",
              "      </script>\n",
              "    </div>\n",
              "  </div>\n",
              "  "
            ]
          },
          "metadata": {},
          "execution_count": 7
        }
      ],
      "source": [
        "# apply the preprocessing functions to the tweets and store the cleaned tweets in a new column\n",
        "\n",
        "df_tweets['tweet_cleaned'] = df_tweets['tweet'].apply(text_preprocessor)\n",
        "df_tweets.sample(5)"
      ]
    },
    {
      "cell_type": "markdown",
      "metadata": {
        "id": "6K1vFArrlv-c"
      },
      "source": [
        "Adding the cleaned tweets to a new column called `tweet_cleaned`. The `tweet_cleaned` column contains the cleaned tweets. Then adding start and end tokens to the tweets to distinguish the start and end of the tweet. The `tweet_cleaned` column contains the cleaned tweets with start and end tokens."
      ]
    },
    {
      "cell_type": "code",
      "execution_count": 8,
      "metadata": {
        "id": "xWnYLB_oa0RY"
      },
      "outputs": [],
      "source": [
        "# function to add the start and end tokens to the tweets\n",
        "\n",
        "def addStartEndToken(tweets):\n",
        "    result = []\n",
        "    for tweet in tweets:\n",
        "        result.append('<start> ' + tweet + ' <end>')\n",
        "    return result\n"
      ]
    },
    {
      "cell_type": "code",
      "execution_count": 9,
      "metadata": {
        "colab": {
          "base_uri": "https://localhost:8080/",
          "height": 206
        },
        "id": "EsEnH_gRa0RY",
        "outputId": "46a34a1e-4810-4529-8580-0031e4bf1d2f"
      },
      "outputs": [
        {
          "output_type": "execute_result",
          "data": {
            "text/plain": [
              "          id  label                                              tweet  \\\n",
              "2441    2442      0  @user i am very disappointed after watching 10...   \n",
              "29340  29341      0  i swear it feels like these strap-on &amp; dil...   \n",
              "2911    2912      0  finally the hour count down til we leave to vi...   \n",
              "31848  31849      0  top 10 food items a   seasonal affective disor...   \n",
              "19871  19872      0  the view from my window. seriously #wow  #trav...   \n",
              "\n",
              "                                           tweet_cleaned  \n",
              "2441   <start> user disappointed watching min episode...  \n",
              "29340  <start> swear feel like strapon amp dildo gonn...  \n",
              "2911   <start> finally hour count til leave victoria ...  \n",
              "31848  <start> top food item seasonal affective disor...  \n",
              "19871  <start> view window seriously wowtravel barcel...  "
            ],
            "text/html": [
              "\n",
              "  <div id=\"df-2b02a2c1-305b-4fee-9c2c-2c0620796a9e\">\n",
              "    <div class=\"colab-df-container\">\n",
              "      <div>\n",
              "<style scoped>\n",
              "    .dataframe tbody tr th:only-of-type {\n",
              "        vertical-align: middle;\n",
              "    }\n",
              "\n",
              "    .dataframe tbody tr th {\n",
              "        vertical-align: top;\n",
              "    }\n",
              "\n",
              "    .dataframe thead th {\n",
              "        text-align: right;\n",
              "    }\n",
              "</style>\n",
              "<table border=\"1\" class=\"dataframe\">\n",
              "  <thead>\n",
              "    <tr style=\"text-align: right;\">\n",
              "      <th></th>\n",
              "      <th>id</th>\n",
              "      <th>label</th>\n",
              "      <th>tweet</th>\n",
              "      <th>tweet_cleaned</th>\n",
              "    </tr>\n",
              "  </thead>\n",
              "  <tbody>\n",
              "    <tr>\n",
              "      <th>2441</th>\n",
              "      <td>2442</td>\n",
              "      <td>0</td>\n",
              "      <td>@user i am very disappointed after watching 10...</td>\n",
              "      <td>&lt;start&gt; user disappointed watching min episode...</td>\n",
              "    </tr>\n",
              "    <tr>\n",
              "      <th>29340</th>\n",
              "      <td>29341</td>\n",
              "      <td>0</td>\n",
              "      <td>i swear it feels like these strap-on &amp;amp; dil...</td>\n",
              "      <td>&lt;start&gt; swear feel like strapon amp dildo gonn...</td>\n",
              "    </tr>\n",
              "    <tr>\n",
              "      <th>2911</th>\n",
              "      <td>2912</td>\n",
              "      <td>0</td>\n",
              "      <td>finally the hour count down til we leave to vi...</td>\n",
              "      <td>&lt;start&gt; finally hour count til leave victoria ...</td>\n",
              "    </tr>\n",
              "    <tr>\n",
              "      <th>31848</th>\n",
              "      <td>31849</td>\n",
              "      <td>0</td>\n",
              "      <td>top 10 food items a   seasonal affective disor...</td>\n",
              "      <td>&lt;start&gt; top food item seasonal affective disor...</td>\n",
              "    </tr>\n",
              "    <tr>\n",
              "      <th>19871</th>\n",
              "      <td>19872</td>\n",
              "      <td>0</td>\n",
              "      <td>the view from my window. seriously #wow  #trav...</td>\n",
              "      <td>&lt;start&gt; view window seriously wowtravel barcel...</td>\n",
              "    </tr>\n",
              "  </tbody>\n",
              "</table>\n",
              "</div>\n",
              "      <button class=\"colab-df-convert\" onclick=\"convertToInteractive('df-2b02a2c1-305b-4fee-9c2c-2c0620796a9e')\"\n",
              "              title=\"Convert this dataframe to an interactive table.\"\n",
              "              style=\"display:none;\">\n",
              "        \n",
              "  <svg xmlns=\"http://www.w3.org/2000/svg\" height=\"24px\"viewBox=\"0 0 24 24\"\n",
              "       width=\"24px\">\n",
              "    <path d=\"M0 0h24v24H0V0z\" fill=\"none\"/>\n",
              "    <path d=\"M18.56 5.44l.94 2.06.94-2.06 2.06-.94-2.06-.94-.94-2.06-.94 2.06-2.06.94zm-11 1L8.5 8.5l.94-2.06 2.06-.94-2.06-.94L8.5 2.5l-.94 2.06-2.06.94zm10 10l.94 2.06.94-2.06 2.06-.94-2.06-.94-.94-2.06-.94 2.06-2.06.94z\"/><path d=\"M17.41 7.96l-1.37-1.37c-.4-.4-.92-.59-1.43-.59-.52 0-1.04.2-1.43.59L10.3 9.45l-7.72 7.72c-.78.78-.78 2.05 0 2.83L4 21.41c.39.39.9.59 1.41.59.51 0 1.02-.2 1.41-.59l7.78-7.78 2.81-2.81c.8-.78.8-2.07 0-2.86zM5.41 20L4 18.59l7.72-7.72 1.47 1.35L5.41 20z\"/>\n",
              "  </svg>\n",
              "      </button>\n",
              "      \n",
              "  <style>\n",
              "    .colab-df-container {\n",
              "      display:flex;\n",
              "      flex-wrap:wrap;\n",
              "      gap: 12px;\n",
              "    }\n",
              "\n",
              "    .colab-df-convert {\n",
              "      background-color: #E8F0FE;\n",
              "      border: none;\n",
              "      border-radius: 50%;\n",
              "      cursor: pointer;\n",
              "      display: none;\n",
              "      fill: #1967D2;\n",
              "      height: 32px;\n",
              "      padding: 0 0 0 0;\n",
              "      width: 32px;\n",
              "    }\n",
              "\n",
              "    .colab-df-convert:hover {\n",
              "      background-color: #E2EBFA;\n",
              "      box-shadow: 0px 1px 2px rgba(60, 64, 67, 0.3), 0px 1px 3px 1px rgba(60, 64, 67, 0.15);\n",
              "      fill: #174EA6;\n",
              "    }\n",
              "\n",
              "    [theme=dark] .colab-df-convert {\n",
              "      background-color: #3B4455;\n",
              "      fill: #D2E3FC;\n",
              "    }\n",
              "\n",
              "    [theme=dark] .colab-df-convert:hover {\n",
              "      background-color: #434B5C;\n",
              "      box-shadow: 0px 1px 3px 1px rgba(0, 0, 0, 0.15);\n",
              "      filter: drop-shadow(0px 1px 2px rgba(0, 0, 0, 0.3));\n",
              "      fill: #FFFFFF;\n",
              "    }\n",
              "  </style>\n",
              "\n",
              "      <script>\n",
              "        const buttonEl =\n",
              "          document.querySelector('#df-2b02a2c1-305b-4fee-9c2c-2c0620796a9e button.colab-df-convert');\n",
              "        buttonEl.style.display =\n",
              "          google.colab.kernel.accessAllowed ? 'block' : 'none';\n",
              "\n",
              "        async function convertToInteractive(key) {\n",
              "          const element = document.querySelector('#df-2b02a2c1-305b-4fee-9c2c-2c0620796a9e');\n",
              "          const dataTable =\n",
              "            await google.colab.kernel.invokeFunction('convertToInteractive',\n",
              "                                                     [key], {});\n",
              "          if (!dataTable) return;\n",
              "\n",
              "          const docLinkHtml = 'Like what you see? Visit the ' +\n",
              "            '<a target=\"_blank\" href=https://colab.research.google.com/notebooks/data_table.ipynb>data table notebook</a>'\n",
              "            + ' to learn more about interactive tables.';\n",
              "          element.innerHTML = '';\n",
              "          dataTable['output_type'] = 'display_data';\n",
              "          await google.colab.output.renderOutput(dataTable, element);\n",
              "          const docLink = document.createElement('div');\n",
              "          docLink.innerHTML = docLinkHtml;\n",
              "          element.appendChild(docLink);\n",
              "        }\n",
              "      </script>\n",
              "    </div>\n",
              "  </div>\n",
              "  "
            ]
          },
          "metadata": {},
          "execution_count": 9
        }
      ],
      "source": [
        "# adding the start and end tokens to the cleaned tweets\n",
        "\n",
        "df_tweets['tweet_cleaned']= addStartEndToken(df_tweets['tweet_cleaned'])\n",
        "df_tweets.sample(5)"
      ]
    },
    {
      "cell_type": "markdown",
      "metadata": {
        "id": "jULzkcUUlv-d"
      },
      "source": [
        "Creating a vocabulary of all the words in the tweets. The vocabulary contains **45726** words. The vocabulary contains all the words in the tweets. The length of the vocabulary is used to create the embedding layer in the model."
      ]
    },
    {
      "cell_type": "code",
      "execution_count": 10,
      "metadata": {
        "id": "34ILJdxia0Ra"
      },
      "outputs": [],
      "source": [
        "# creating a vocabulary of all the words in the cleaned tweets\n",
        "def createVocabulary(tweets):\n",
        "    vocabulary = set()\n",
        "    for tweet in tweets:\n",
        "        for word in tweet.split():\n",
        "            vocabulary.add(word)\n",
        "    return vocabulary\n",
        "\n",
        "# creating the vocabulary\n",
        "vocabulary = createVocabulary(df_tweets['tweet_cleaned'])"
      ]
    },
    {
      "cell_type": "code",
      "execution_count": 11,
      "metadata": {
        "colab": {
          "base_uri": "https://localhost:8080/",
          "height": 206
        },
        "id": "Ety3yPasa0Rb",
        "outputId": "2b47c32b-c877-439e-b661-f99cd82251b5"
      },
      "outputs": [
        {
          "output_type": "execute_result",
          "data": {
            "text/plain": [
              "          id  label                                              tweet  \\\n",
              "18197   5515      0  cross check day passed!  next week, on to resp...   \n",
              "29291  26541      0  @user @user rip to one of the most amazing voi...   \n",
              "30913  14519      0        @user i can not see you l'm feel sad   #jai   \n",
              "19136  30641      0    #bihday #later for my #lovely sis #love #cho...   \n",
              "15455    941      0  so we rescued a pup... meet rexy ð¶â¡ #resc...   \n",
              "\n",
              "                                           tweet_cleaned  \n",
              "18197  <start> cross check day passednext week respon...  \n",
              "29291  <start> user user rip one amazing voice talent...  \n",
              "30913                <start> user see feel sad jai <end>  \n",
              "19136  <start> bihday later lovely si love chocolate ...  \n",
              "15455  <start> rescued pup meet rexyrescuepup rexy pu...  "
            ],
            "text/html": [
              "\n",
              "  <div id=\"df-2cb173de-cb66-4c83-ac5a-0a6c1a159d84\">\n",
              "    <div class=\"colab-df-container\">\n",
              "      <div>\n",
              "<style scoped>\n",
              "    .dataframe tbody tr th:only-of-type {\n",
              "        vertical-align: middle;\n",
              "    }\n",
              "\n",
              "    .dataframe tbody tr th {\n",
              "        vertical-align: top;\n",
              "    }\n",
              "\n",
              "    .dataframe thead th {\n",
              "        text-align: right;\n",
              "    }\n",
              "</style>\n",
              "<table border=\"1\" class=\"dataframe\">\n",
              "  <thead>\n",
              "    <tr style=\"text-align: right;\">\n",
              "      <th></th>\n",
              "      <th>id</th>\n",
              "      <th>label</th>\n",
              "      <th>tweet</th>\n",
              "      <th>tweet_cleaned</th>\n",
              "    </tr>\n",
              "  </thead>\n",
              "  <tbody>\n",
              "    <tr>\n",
              "      <th>18197</th>\n",
              "      <td>5515</td>\n",
              "      <td>0</td>\n",
              "      <td>cross check day passed!  next week, on to resp...</td>\n",
              "      <td>&lt;start&gt; cross check day passednext week respon...</td>\n",
              "    </tr>\n",
              "    <tr>\n",
              "      <th>29291</th>\n",
              "      <td>26541</td>\n",
              "      <td>0</td>\n",
              "      <td>@user @user rip to one of the most amazing voi...</td>\n",
              "      <td>&lt;start&gt; user user rip one amazing voice talent...</td>\n",
              "    </tr>\n",
              "    <tr>\n",
              "      <th>30913</th>\n",
              "      <td>14519</td>\n",
              "      <td>0</td>\n",
              "      <td>@user i can not see you l'm feel sad   #jai</td>\n",
              "      <td>&lt;start&gt; user see feel sad jai &lt;end&gt;</td>\n",
              "    </tr>\n",
              "    <tr>\n",
              "      <th>19136</th>\n",
              "      <td>30641</td>\n",
              "      <td>0</td>\n",
              "      <td>#bihday #later for my #lovely sis #love #cho...</td>\n",
              "      <td>&lt;start&gt; bihday later lovely si love chocolate ...</td>\n",
              "    </tr>\n",
              "    <tr>\n",
              "      <th>15455</th>\n",
              "      <td>941</td>\n",
              "      <td>0</td>\n",
              "      <td>so we rescued a pup... meet rexy ð¶â¡ #resc...</td>\n",
              "      <td>&lt;start&gt; rescued pup meet rexyrescuepup rexy pu...</td>\n",
              "    </tr>\n",
              "  </tbody>\n",
              "</table>\n",
              "</div>\n",
              "      <button class=\"colab-df-convert\" onclick=\"convertToInteractive('df-2cb173de-cb66-4c83-ac5a-0a6c1a159d84')\"\n",
              "              title=\"Convert this dataframe to an interactive table.\"\n",
              "              style=\"display:none;\">\n",
              "        \n",
              "  <svg xmlns=\"http://www.w3.org/2000/svg\" height=\"24px\"viewBox=\"0 0 24 24\"\n",
              "       width=\"24px\">\n",
              "    <path d=\"M0 0h24v24H0V0z\" fill=\"none\"/>\n",
              "    <path d=\"M18.56 5.44l.94 2.06.94-2.06 2.06-.94-2.06-.94-.94-2.06-.94 2.06-2.06.94zm-11 1L8.5 8.5l.94-2.06 2.06-.94-2.06-.94L8.5 2.5l-.94 2.06-2.06.94zm10 10l.94 2.06.94-2.06 2.06-.94-2.06-.94-.94-2.06-.94 2.06-2.06.94z\"/><path d=\"M17.41 7.96l-1.37-1.37c-.4-.4-.92-.59-1.43-.59-.52 0-1.04.2-1.43.59L10.3 9.45l-7.72 7.72c-.78.78-.78 2.05 0 2.83L4 21.41c.39.39.9.59 1.41.59.51 0 1.02-.2 1.41-.59l7.78-7.78 2.81-2.81c.8-.78.8-2.07 0-2.86zM5.41 20L4 18.59l7.72-7.72 1.47 1.35L5.41 20z\"/>\n",
              "  </svg>\n",
              "      </button>\n",
              "      \n",
              "  <style>\n",
              "    .colab-df-container {\n",
              "      display:flex;\n",
              "      flex-wrap:wrap;\n",
              "      gap: 12px;\n",
              "    }\n",
              "\n",
              "    .colab-df-convert {\n",
              "      background-color: #E8F0FE;\n",
              "      border: none;\n",
              "      border-radius: 50%;\n",
              "      cursor: pointer;\n",
              "      display: none;\n",
              "      fill: #1967D2;\n",
              "      height: 32px;\n",
              "      padding: 0 0 0 0;\n",
              "      width: 32px;\n",
              "    }\n",
              "\n",
              "    .colab-df-convert:hover {\n",
              "      background-color: #E2EBFA;\n",
              "      box-shadow: 0px 1px 2px rgba(60, 64, 67, 0.3), 0px 1px 3px 1px rgba(60, 64, 67, 0.15);\n",
              "      fill: #174EA6;\n",
              "    }\n",
              "\n",
              "    [theme=dark] .colab-df-convert {\n",
              "      background-color: #3B4455;\n",
              "      fill: #D2E3FC;\n",
              "    }\n",
              "\n",
              "    [theme=dark] .colab-df-convert:hover {\n",
              "      background-color: #434B5C;\n",
              "      box-shadow: 0px 1px 3px 1px rgba(0, 0, 0, 0.15);\n",
              "      filter: drop-shadow(0px 1px 2px rgba(0, 0, 0, 0.3));\n",
              "      fill: #FFFFFF;\n",
              "    }\n",
              "  </style>\n",
              "\n",
              "      <script>\n",
              "        const buttonEl =\n",
              "          document.querySelector('#df-2cb173de-cb66-4c83-ac5a-0a6c1a159d84 button.colab-df-convert');\n",
              "        buttonEl.style.display =\n",
              "          google.colab.kernel.accessAllowed ? 'block' : 'none';\n",
              "\n",
              "        async function convertToInteractive(key) {\n",
              "          const element = document.querySelector('#df-2cb173de-cb66-4c83-ac5a-0a6c1a159d84');\n",
              "          const dataTable =\n",
              "            await google.colab.kernel.invokeFunction('convertToInteractive',\n",
              "                                                     [key], {});\n",
              "          if (!dataTable) return;\n",
              "\n",
              "          const docLinkHtml = 'Like what you see? Visit the ' +\n",
              "            '<a target=\"_blank\" href=https://colab.research.google.com/notebooks/data_table.ipynb>data table notebook</a>'\n",
              "            + ' to learn more about interactive tables.';\n",
              "          element.innerHTML = '';\n",
              "          dataTable['output_type'] = 'display_data';\n",
              "          await google.colab.output.renderOutput(dataTable, element);\n",
              "          const docLink = document.createElement('div');\n",
              "          docLink.innerHTML = docLinkHtml;\n",
              "          element.appendChild(docLink);\n",
              "        }\n",
              "      </script>\n",
              "    </div>\n",
              "  </div>\n",
              "  "
            ]
          },
          "metadata": {},
          "execution_count": 11
        }
      ],
      "source": [
        "# shuffle the dataframe to randomize the order of the tweets\n",
        "\n",
        "df_tweets = df_tweets.sample(frac=1).reset_index(drop=True)\n",
        "df_tweets.sample(5)"
      ]
    },
    {
      "cell_type": "code",
      "execution_count": 12,
      "metadata": {
        "id": "ao-4oKKma0Rb"
      },
      "outputs": [],
      "source": [
        "# function to find the maximum length of the tweets in the dataframe\n",
        "\n",
        "def maxTweetLength(tweets):\n",
        "    return max(len(tweet.split()) for tweet in tweets)\n",
        "\n"
      ]
    },
    {
      "cell_type": "code",
      "execution_count": 13,
      "metadata": {
        "colab": {
          "base_uri": "https://localhost:8080/"
        },
        "id": "J0PuvXAOa0Rc",
        "outputId": "b50f6622-e896-4b1a-b7f2-1390cb43489d"
      },
      "outputs": [
        {
          "output_type": "stream",
          "name": "stdout",
          "text": [
            "Max length of tweet:  23\n"
          ]
        }
      ],
      "source": [
        "maxTrainLength = maxTweetLength(df_tweets['tweet_cleaned']) # find the maximum length of the tweets in the dataframe\n",
        "\n",
        "print(\"Max length of tweet: \", maxTrainLength)"
      ]
    },
    {
      "cell_type": "markdown",
      "metadata": {
        "id": "Vzx81Gqklv-k"
      },
      "source": [
        "### Tokenization and Padding\n",
        "- Tokenization: Tokenization is essential for RNNs to understand text as it converts raw text data into a numerical format that can be processed by the model. By tokenizing the text, we can represent each word or subword as a unique integer, which can be used to create a vector representation of the text.\n",
        "\n",
        "- Padding: Padding is the process of adding zeros to the end of sequences so that they all have the same length. Padding ensures that the input sequences are of a same size, which is necessary for efficient computation and to avoid errors during the training process."
      ]
    },
    {
      "cell_type": "code",
      "execution_count": 14,
      "metadata": {
        "id": "hwMaRCAha0Rc"
      },
      "outputs": [],
      "source": [
        "# function to tokenize the text data and pad the sequences to make them of the same length\n",
        "\n",
        "def tokenizeText(df_tweets, maxTrainLength):\n",
        "  \n",
        "    # Create a tokenizer\n",
        "    tokenizer = Tokenizer()\n",
        "    tokenizer.fit_on_texts(df_tweets['tweet_cleaned']) # fit the tokenizer on the text data\n",
        "\n",
        "    # Convert text to sequence of tokens\n",
        "    X = tokenizer.texts_to_sequences(df_tweets['tweet_cleaned'])\n",
        "\n",
        "    # padding the sequences to make them of the same length\n",
        "    X = pad_sequences(X, maxlen=maxTrainLength, padding='post')\n",
        "    \n",
        "    return X\n"
      ]
    },
    {
      "cell_type": "code",
      "execution_count": 15,
      "metadata": {
        "colab": {
          "base_uri": "https://localhost:8080/"
        },
        "id": "kP6e7NRba0Rc",
        "outputId": "22731436-01cb-48fc-e04d-580bc08e0982"
      },
      "outputs": [
        {
          "output_type": "execute_result",
          "data": {
            "text/plain": [
              "array([[    2,    54,  3203, ...,     0,     0,     0],\n",
              "       [    2,    35,   156, ...,     0,     0,     0],\n",
              "       [    2,     3,     3, ...,     0,     0,     0],\n",
              "       ...,\n",
              "       [    2,    53,   509, ...,     0,     0,     0],\n",
              "       [    2, 45724,    18, ...,     0,     0,     0],\n",
              "       [    2,    40,   823, ...,     0,     0,     0]], dtype=int32)"
            ]
          },
          "metadata": {},
          "execution_count": 15
        }
      ],
      "source": [
        "# tokenize the text data and pad the sequences to make them of the same length and store the result in X\n",
        "X = tokenizeText(df_tweets, maxTrainLength)\n",
        "X"
      ]
    },
    {
      "cell_type": "code",
      "execution_count": 30,
      "metadata": {
        "id": "KL6HpZcra0Rd"
      },
      "outputs": [],
      "source": [
        "# target variable for the model is the label column\n",
        "y = df_tweets['label'].values"
      ]
    },
    {
      "cell_type": "code",
      "execution_count": 31,
      "metadata": {
        "colab": {
          "base_uri": "https://localhost:8080/"
        },
        "id": "FTGBcSaZa0Rd",
        "outputId": "9e665958-460e-4261-a943-255bec59ea00"
      },
      "outputs": [
        {
          "output_type": "execute_result",
          "data": {
            "text/plain": [
              "array([[1., 0.],\n",
              "       [1., 0.],\n",
              "       [1., 0.],\n",
              "       ...,\n",
              "       [1., 0.],\n",
              "       [1., 0.],\n",
              "       [1., 0.]], dtype=float32)"
            ]
          },
          "metadata": {},
          "execution_count": 31
        }
      ],
      "source": [
        "# converting the target variable to categorical values using one-hot encoding technique from the keras library\n",
        "\n",
        "from keras.utils import to_categorical\n",
        "y = to_categorical(y)\n",
        "y"
      ]
    },
    {
      "cell_type": "markdown",
      "metadata": {
        "id": "CS0wF_xklv-n"
      },
      "source": [
        "## Building the Model"
      ]
    },
    {
      "cell_type": "code",
      "execution_count": 32,
      "metadata": {
        "id": "ftgTOtB2a0Re"
      },
      "outputs": [],
      "source": [
        "#splitting the data into training and testing sets with 80% of the data for training and 20% for testing\n",
        "\n",
        "from sklearn.model_selection import train_test_split\n",
        "X_train, X_test, y_train, y_test = train_test_split(X,y, test_size =0.2, random_state = 42)\n"
      ]
    },
    {
      "cell_type": "markdown",
      "metadata": {
        "id": "ktdZwDW3lv-o"
      },
      "source": [
        "The RNN model defined here has the following layers:\n",
        "\n",
        "- An `Embedding` layer with `len(vocabulary)` number of nodes, where each word is represented as a 256-dimensional dense vector. The input length of the sequences is set to `maxTrainLength` and zeros are masked.\n",
        "\n",
        "- A `LSTM` layer with 256 units, which allows the model to remember information from previous timesteps.\n",
        "\n",
        "- A `Dropout` layer with a rate of 0.2, which helps prevent overfitting by randomly dropping out 50% of the input units.\n",
        "\n",
        "- A `Dense` layer with 2 units and a `softmax` activation function, which outputs a probability distribution over the two classes. \n"
      ]
    },
    {
      "cell_type": "code",
      "execution_count": 37,
      "metadata": {
        "id": "Vi7VyPZha0Re"
      },
      "outputs": [],
      "source": [
        "# creating the model using the keras sequential API\n",
        "\n",
        "model = Sequential()\n",
        "model.add(Embedding(len(vocabulary), 256, input_length=maxTrainLength,\n",
        "                    mask_zero=True))\n",
        "model.add(LSTM(256))\n",
        "model.add(Dropout(0.2))\n",
        "model.add(Dense(2, activation='softmax'))"
      ]
    },
    {
      "cell_type": "code",
      "source": [
        "#calculate class weights to handle the class imbalance in the dataset\n",
        "\n",
        "from sklearn.utils import class_weight\n",
        "class_weights = class_weight.compute_class_weight(class_weight = \"balanced\",\n",
        "                                        classes = np.unique(df_tweets['label']),\n",
        "                                        y = df_tweets['label'])\n",
        " \n",
        "#convert the class weights to a dictionary\n",
        "class_weights_dict = dict(enumerate(class_weights))\n",
        "\n",
        " "
      ],
      "metadata": {
        "id": "OE_AV8GUTnSF"
      },
      "execution_count": 38,
      "outputs": []
    },
    {
      "cell_type": "markdown",
      "metadata": {
        "id": "r6r-QKJalv-p"
      },
      "source": [
        "The above code is used to compile a neural network model using the categorical cross-entropy loss function, Adam optimizer, and three evaluation metrics: accuracy, precision, and recall.\n",
        "\n",
        "- `loss='categorical_crossentropy'`: The categorical cross-entropy loss function is commonly used for multi-class classification problems.\n",
        "- `optimizer='adam'`: Adam is an optimization algorithm that is commonly used for training neural network models.\n",
        "- `metrics=['accuracy', Precision(), Recall()]`:\n",
        "    - `accuracy`: This metric measures the percentage of correctly classified samples.\n",
        "    - `Precision()`: This metric measures the fraction of true positives among all predicted positive samples. \n",
        "    - `Recall()`: This metric measures the fraction of true positives among all actual positive samples.\n"
      ]
    },
    {
      "cell_type": "code",
      "execution_count": 39,
      "metadata": {
        "id": "hAVZcRmPa0Re"
      },
      "outputs": [],
      "source": [
        "from keras.metrics import Precision, Recall\n",
        "\n",
        "# compiling the model\n",
        "\n",
        "model.compile(loss='categorical_crossentropy', optimizer='adam',\n",
        "              metrics=['accuracy',Precision(),Recall()])\n",
        "\n"
      ]
    },
    {
      "cell_type": "code",
      "execution_count": 40,
      "metadata": {
        "colab": {
          "base_uri": "https://localhost:8080/",
          "height": 533
        },
        "id": "iSl-IY9Sa0Rg",
        "outputId": "ed9c8349-f3f7-42fb-856c-fae5e123ced0"
      },
      "outputs": [
        {
          "output_type": "execute_result",
          "data": {
            "image/png": "[encoded data removed]",
            "text/plain": [
              "<IPython.core.display.Image object>"
            ]
          },
          "metadata": {},
          "execution_count": 40
        }
      ],
      "source": [
        "#visualize the model \n",
        "from keras.utils.vis_utils import plot_model\n",
        "plot_model(model, to_file='model_plot.png', show_shapes=True, \n",
        "           show_layer_names=True)"
      ]
    },
    {
      "cell_type": "code",
      "execution_count": 41,
      "metadata": {
        "colab": {
          "base_uri": "https://localhost:8080/"
        },
        "id": "ChrUZoGGa0Rf",
        "outputId": "7a2f2954-456a-4f46-bb2d-4d5822b30030"
      },
      "outputs": [
        {
          "output_type": "execute_result",
          "data": {
            "text/plain": [
              "((25569, 23), (25569, 2), (6393, 23), (6393, 2))"
            ]
          },
          "metadata": {},
          "execution_count": 41
        }
      ],
      "source": [
        "# shape of the training and testing sets\n",
        "X_train.shape, y_train.shape, X_test.shape, y_test.shape"
      ]
    },
    {
      "cell_type": "markdown",
      "metadata": {
        "id": "Q-Jt4QAPlv-s"
      },
      "source": [
        "## Model Training"
      ]
    },
    {
      "cell_type": "code",
      "execution_count": 42,
      "metadata": {
        "colab": {
          "base_uri": "https://localhost:8080/"
        },
        "id": "rfZyCPjYa0Rf",
        "outputId": "d0d887f1-ee6e-4244-d573-d4b98358b459"
      },
      "outputs": [
        {
          "output_type": "stream",
          "name": "stdout",
          "text": [
            "Epoch 1/5\n",
            "720/720 [==============================] - 363s 422ms/step - loss: 0.3948 - accuracy: 0.8385 - precision_3: 0.8385 - recall_3: 0.8385 - val_loss: 0.3028 - val_accuracy: 0.8815 - val_precision_3: 0.8815 - val_recall_3: 0.8815\n",
            "Epoch 2/5\n",
            "720/720 [==============================] - 302s 419ms/step - loss: 0.0873 - accuracy: 0.9701 - precision_3: 0.9701 - recall_3: 0.9701 - val_loss: 0.2613 - val_accuracy: 0.9175 - val_precision_3: 0.9175 - val_recall_3: 0.9175\n",
            "Epoch 3/5\n",
            "720/720 [==============================] - 302s 419ms/step - loss: 0.0272 - accuracy: 0.9906 - precision_3: 0.9906 - recall_3: 0.9906 - val_loss: 0.3257 - val_accuracy: 0.8862 - val_precision_3: 0.8862 - val_recall_3: 0.8862\n",
            "Epoch 4/5\n",
            "720/720 [==============================] - 303s 421ms/step - loss: 0.0195 - accuracy: 0.9937 - precision_3: 0.9937 - recall_3: 0.9937 - val_loss: 0.2579 - val_accuracy: 0.9323 - val_precision_3: 0.9323 - val_recall_3: 0.9323\n",
            "Epoch 5/5\n",
            "720/720 [==============================] - 304s 422ms/step - loss: 0.0089 - accuracy: 0.9968 - precision_3: 0.9968 - recall_3: 0.9968 - val_loss: 0.4150 - val_accuracy: 0.8874 - val_precision_3: 0.8874 - val_recall_3: 0.8874\n"
          ]
        }
      ],
      "source": [
        "# training the model for 3 epochs with a batch size of 32 and a validation split of 10%\n",
        "\n",
        "history = model.fit(X_train, y_train, batch_size=32, \n",
        "                    epochs=5, validation_split=0.1,class_weight=class_weights_dict)\n"
      ]
    },
    {
      "cell_type": "markdown",
      "metadata": {
        "id": "la5pnx-ilv-t"
      },
      "source": [
        "## Model Evaluation"
      ]
    },
    {
      "cell_type": "code",
      "execution_count": 43,
      "metadata": {
        "colab": {
          "base_uri": "https://localhost:8080/",
          "height": 410
        },
        "id": "oqFFfDYSa0Rg",
        "outputId": "a54024fb-c787-4961-d5fd-b26acb9dc89a"
      },
      "outputs": [
        {
          "output_type": "display_data",
          "data": {
            "text/plain": [
              "<Figure size 1000x400 with 2 Axes>"
            ],
            "image/png": "[encoded data removed]"
          },
          "metadata": {}
        }
      ],
      "source": [
        "# plotting the training and validation accuracy and loss for each epoch\n",
        "\n",
        "def plot_accuracy_loss(history):\n",
        "    \n",
        "    fig, ax = plt.subplots(1, 2, figsize=(10,4))\n",
        "    # accuracy plot\n",
        "    ax[0].plot(history.history['accuracy'])\n",
        "    ax[0].plot(history.history['val_accuracy'])\n",
        "    ax[0].set_title('Training Accuray of the Model')\n",
        "    ax[0].set_xlabel('Epoch Number')\n",
        "    ax[0].set_ylabel('Accuracy')\n",
        "    ax[0].legend(['train', 'validation'], loc='best')\n",
        "    \n",
        "    # loss plot \n",
        "    ax[1].plot(history.history['loss'])\n",
        "    ax[1].plot(history.history['val_loss'])\n",
        "    ax[1].set_title('Traninig Loss of the Model')\n",
        "    ax[1].set_xlabel('Epoch Number')\n",
        "    ax[1].set_ylabel('Loss')\n",
        "    ax[1].legend(['train', 'validation'], loc='best')\n",
        "    \n",
        "plot_accuracy_loss(history) # plot the accuracy and loss for the model"
      ]
    },
    {
      "cell_type": "code",
      "execution_count": null,
      "metadata": {
        "colab": {
          "base_uri": "https://localhost:8080/"
        },
        "id": "Jz2Vm7iOa0Rh",
        "outputId": "c16d0628-e8b6-4fb8-97f4-b0a9a0d345c3"
      },
      "outputs": [
        {
          "name": "stdout",
          "output_type": "stream",
          "text": [
            "200/200 [==============================] - 4s 21ms/step - loss: 0.2411 - accuracy: 0.9540 - precision: 0.9540 - recall: 0.9540\n"
          ]
        },
        {
          "data": {
            "text/plain": [
              "[0.2410598248243332,\n",
              " 0.9540122151374817,\n",
              " 0.9540122151374817,\n",
              " 0.9540122151374817]"
            ]
          },
          "execution_count": 38,
          "metadata": {},
          "output_type": "execute_result"
        }
      ],
      "source": [
        "# evaluate the model on the test set\n",
        "model.evaluate(X_test, y_test, verbose=1)\n"
      ]
    },
    {
      "cell_type": "markdown",
      "metadata": {
        "id": "llOZUR_plv-u"
      },
      "source": [
        "The evaluation on the test set shows that the model has an accuracy of 0.95, precision of 0.95, and recall of 0.95. The model performs well on the test set."
      ]
    },
    {
      "cell_type": "code",
      "execution_count": null,
      "metadata": {
        "colab": {
          "base_uri": "https://localhost:8080/"
        },
        "id": "eHT6wiT6a0Rh",
        "outputId": "1728d560-bee5-4cf1-c644-9e719f2ba112"
      },
      "outputs": [
        {
          "name": "stdout",
          "output_type": "stream",
          "text": [
            "200/200 [==============================] - 48s 175ms/step\n"
          ]
        },
        {
          "data": {
            "text/plain": [
              "array([[5846,   77],\n",
              "       [ 206,  264]], dtype=int64)"
            ]
          },
          "execution_count": 31,
          "metadata": {},
          "output_type": "execute_result"
        }
      ],
      "source": [
        "# calculate the confusion matrix for the model on the test set\n",
        "\n",
        "from sklearn.metrics import confusion_matrix\n",
        "y_pred = model.predict(X_test)\n",
        "y_pred = np.argmax(y_pred, axis=1)\n",
        "\n",
        "y_actual = np.argmax(y_test, axis=1)\n",
        "\n",
        "cm = confusion_matrix(y_actual, y_pred)\n",
        "cm"
      ]
    },
    {
      "cell_type": "markdown",
      "metadata": {
        "id": "BPSp4N2ylv-v"
      },
      "source": [
        "### Confusion Matrix\n",
        "\n",
        "#### Understanding True Positive, True Negative, False Positive and False Negative in a Confusion Matrix\n",
        "True Positive (TP): The actual value was positive and the model predicted a positive value<br>\n",
        "True Negative (TN): The actual value was negative and the model predicted a negative value<br>\n",
        "False Positive (FP): The actual value was negative but the model predicted a positive value<br>\n",
        "False Negative (FN): The actual value was positive but the model predicted a negative value<br><br>\n",
        "In confusion matrix of sklearn,<br>\n",
        "top left element = true negative<br>\n",
        "bottom left element = false negative<br>\n",
        "top right element = false positive<br>\n",
        "bottom right element = true positive<br>"
      ]
    },
    {
      "cell_type": "code",
      "execution_count": null,
      "metadata": {
        "colab": {
          "base_uri": "https://localhost:8080/",
          "height": 522
        },
        "id": "Vcms-8xYeHxI",
        "outputId": "374d3f89-0652-4fea-fc27-95cc96bc1c12"
      },
      "outputs": [
        {
          "data": {
            "image/png": "[encoded data removed]",
            "text/plain": [
              "<Figure size 600x600 with 1 Axes>"
            ]
          },
          "metadata": {},
          "output_type": "display_data"
        }
      ],
      "source": [
        "# plot the confusion matrix\n",
        "\n",
        "fig, axis = plt.subplots(figsize=(6, 6)) # creating a subplot for our figure, axis contains the heatmap\n",
        "axis.imshow(cm)\n",
        "axis.xaxis.set(ticks=(0, 1), ticklabels=('Predicted 0s', 'Predicted 1s')) # labeling the figure\n",
        "axis.yaxis.set(ticks=(0, 1), ticklabels=('Actual 0s', 'Actual 1s'))\n",
        "\n",
        "for i in range(2):\n",
        "    for j in range(2):\n",
        "        axis.text(j, i, cm[i, j]) \n",
        "plt.show()"
      ]
    },
    {
      "cell_type": "markdown",
      "metadata": {
        "id": "2Dm8yLRrlv-4"
      },
      "source": [
        "**Accuracy**: It is the ratio of correctly predicted observations to the total observations. Accuracy = (TP + TN) / (TP + FP + FN + TP) <br>\n",
        "**Precision**: It is the ratio of correctly predicted positive observations to the total predicted positive observations. Precision = TP / (TP + FP) <br>\n",
        "**Recall**(Sensitivity): It is the ratio of correctly predicted positive observations to the actual no. of positive observations. Recall = TP / (TP + FN)<br>\n",
        "**F1 Score**: It is the weighted average of Precision and Recall. F1 Score = 2*(Precison * Recall) / (Precision + Recall)"
      ]
    },
    {
      "cell_type": "code",
      "execution_count": null,
      "metadata": {
        "colab": {
          "base_uri": "https://localhost:8080/"
        },
        "id": "3INjXKp_eqpX",
        "outputId": "6c564e13-04e8-4365-c7bf-75818ed1e42b"
      },
      "outputs": [
        {
          "name": "stdout",
          "output_type": "stream",
          "text": [
            "Test Set Accuracy: 0.9557328327858595\n",
            "Test Set Precision: 0.7741935483870968\n",
            "Test Set Recall: 0.5617021276595745\n",
            "Test Set F1 Score: 0.6510480887792848\n"
          ]
        }
      ],
      "source": [
        "# printing the accuracy, precision, recall, f1 score of the model\n",
        "from sklearn.metrics import accuracy_score, precision_score, recall_score, f1_score\n",
        "\n",
        "#print the accuracy,precision, recall and f1 score of this model\n",
        "print(\"Test Set Accuracy:\", accuracy_score(y_actual,y_pred))\n",
        "print(\"Test Set Precision:\", precision_score(y_actual, y_pred, ))\n",
        "print(\"Test Set Recall:\", recall_score(y_actual,y_pred))\n",
        "print(\"Test Set F1 Score:\", f1_score(y_actual,y_pred))"
      ]
    },
    {
      "cell_type": "markdown",
      "metadata": {
        "id": "1rIzn1Y4lv-5"
      },
      "source": [
        "### AUC-ROC Curve\n",
        "AUC-ROC curve is the process of calculating the Area Under The Curve (AUC) of Receiver Operating Characteristic (ROC)<br><br>\n",
        "**The Receiver Operating Characteristic(ROC)** is a evaluation tool for binary classification that plots the true positive rate against the false positive rate, where TPR is on the y-axis and FPR is on the x-axis. <br>\n",
        "In ROC curve, if the x-axis value is high then it indicates a higher number of False positive than True negative. Higher y-axis value indicates a higher number of true positive than false negative.<br><br>\n",
        "**The Area Under the Curve(AUC)** is the measure of the ability of the model to distinguish between negative and positive classes.<br>\n",
        "Higher the AUC, the better the model is at predicting 0 classes as 0 and 1 classes as 1.<br>\n",
        "When AUC = 1, the model is able to perfectly distinguish between all the positive and negative classes.<br>\n",
        "If, AUC = 0 then the model would predict all negative classes as positive and vice-versa.<br>\n",
        "When AUC = 0.5 then the classifier model is said to be worthless as it will not be able to distinguish between positive and negative class. \n"
      ]
    },
    {
      "cell_type": "code",
      "source": [
        "#plot  the ROC curve for the model\n",
        "from sklearn.metrics import roc_curve, auc\n",
        "\n",
        "fpr, tpr, thresholds = roc_curve(y_actual, y_pred)\n",
        "roc_auc = auc(fpr, tpr)\n",
        "\n",
        "plt.figure(figsize=(4,4))\n",
        "plt.plot(fpr, tpr, color='darkorange', lw=2, label='ROC curve (area = %0.2f)' % roc_auc)\n",
        "plt.plot([0,1], [0,1], color='navy', lw=2, linestyle='--')\n",
        "plt.xlabel('False Positive Rate')\n",
        "plt.ylabel('True Positive Rate')\n",
        "plt.title('ROC Curve')\n",
        "plt.legend(loc='lower right')\n",
        "plt.show()\n",
        " "
      ],
      "metadata": {
        "colab": {
          "base_uri": "https://localhost:8080/",
          "height": 410
        },
        "id": "4YhVt2HXuilZ",
        "outputId": "98b48528-92e9-45f0-c20c-cb55162b4e12"
      },
      "execution_count": 45,
      "outputs": [
        {
          "output_type": "display_data",
          "data": {
            "text/plain": [
              "<Figure size 400x400 with 1 Axes>"
            ],
            "image/png": "[encoded data removed]"
          },
          "metadata": {}
        }
      ]
    },
    {
      "cell_type": "markdown",
      "metadata": {
        "id": "veusARMwlv-6"
      },
      "source": [
        "## Sentiment Prediction"
      ]
    },
    {
      "cell_type": "code",
      "execution_count": 46,
      "metadata": {
        "colab": {
          "base_uri": "https://localhost:8080/",
          "height": 206
        },
        "id": "z5XQ0_pwa0Ri",
        "outputId": "4672857d-8b6c-4728-c2c1-1dfb1ba6a7d4"
      },
      "outputs": [
        {
          "output_type": "execute_result",
          "data": {
            "text/plain": [
              "          id                                              tweet\n",
              "12872  44835  it's killing me that #richardiii is sold out a...\n",
              "8217   40180  it's the hardest to accept when things you tri...\n",
              "2477   34440  @user  we came all the way from ð©ðª to ð...\n",
              "794    32757   @user me &amp; @user just ate at wasabi and m...\n",
              "2966   34929  kissy faceðððð haven't seen this b..."
            ],
            "text/html": [
              "\n",
              "  <div id=\"df-c08882c5-e05f-449f-ac16-5991ef7a16fb\">\n",
              "    <div class=\"colab-df-container\">\n",
              "      <div>\n",
              "<style scoped>\n",
              "    .dataframe tbody tr th:only-of-type {\n",
              "        vertical-align: middle;\n",
              "    }\n",
              "\n",
              "    .dataframe tbody tr th {\n",
              "        vertical-align: top;\n",
              "    }\n",
              "\n",
              "    .dataframe thead th {\n",
              "        text-align: right;\n",
              "    }\n",
              "</style>\n",
              "<table border=\"1\" class=\"dataframe\">\n",
              "  <thead>\n",
              "    <tr style=\"text-align: right;\">\n",
              "      <th></th>\n",
              "      <th>id</th>\n",
              "      <th>tweet</th>\n",
              "    </tr>\n",
              "  </thead>\n",
              "  <tbody>\n",
              "    <tr>\n",
              "      <th>12872</th>\n",
              "      <td>44835</td>\n",
              "      <td>it's killing me that #richardiii is sold out a...</td>\n",
              "    </tr>\n",
              "    <tr>\n",
              "      <th>8217</th>\n",
              "      <td>40180</td>\n",
              "      <td>it's the hardest to accept when things you tri...</td>\n",
              "    </tr>\n",
              "    <tr>\n",
              "      <th>2477</th>\n",
              "      <td>34440</td>\n",
              "      <td>@user  we came all the way from ð©ðª to ð...</td>\n",
              "    </tr>\n",
              "    <tr>\n",
              "      <th>794</th>\n",
              "      <td>32757</td>\n",
              "      <td>@user me &amp;amp; @user just ate at wasabi and m...</td>\n",
              "    </tr>\n",
              "    <tr>\n",
              "      <th>2966</th>\n",
              "      <td>34929</td>\n",
              "      <td>kissy faceðððð haven't seen this b...</td>\n",
              "    </tr>\n",
              "  </tbody>\n",
              "</table>\n",
              "</div>\n",
              "      <button class=\"colab-df-convert\" onclick=\"convertToInteractive('df-c08882c5-e05f-449f-ac16-5991ef7a16fb')\"\n",
              "              title=\"Convert this dataframe to an interactive table.\"\n",
              "              style=\"display:none;\">\n",
              "        \n",
              "  <svg xmlns=\"http://www.w3.org/2000/svg\" height=\"24px\"viewBox=\"0 0 24 24\"\n",
              "       width=\"24px\">\n",
              "    <path d=\"M0 0h24v24H0V0z\" fill=\"none\"/>\n",
              "    <path d=\"M18.56 5.44l.94 2.06.94-2.06 2.06-.94-2.06-.94-.94-2.06-.94 2.06-2.06.94zm-11 1L8.5 8.5l.94-2.06 2.06-.94-2.06-.94L8.5 2.5l-.94 2.06-2.06.94zm10 10l.94 2.06.94-2.06 2.06-.94-2.06-.94-.94-2.06-.94 2.06-2.06.94z\"/><path d=\"M17.41 7.96l-1.37-1.37c-.4-.4-.92-.59-1.43-.59-.52 0-1.04.2-1.43.59L10.3 9.45l-7.72 7.72c-.78.78-.78 2.05 0 2.83L4 21.41c.39.39.9.59 1.41.59.51 0 1.02-.2 1.41-.59l7.78-7.78 2.81-2.81c.8-.78.8-2.07 0-2.86zM5.41 20L4 18.59l7.72-7.72 1.47 1.35L5.41 20z\"/>\n",
              "  </svg>\n",
              "      </button>\n",
              "      \n",
              "  <style>\n",
              "    .colab-df-container {\n",
              "      display:flex;\n",
              "      flex-wrap:wrap;\n",
              "      gap: 12px;\n",
              "    }\n",
              "\n",
              "    .colab-df-convert {\n",
              "      background-color: #E8F0FE;\n",
              "      border: none;\n",
              "      border-radius: 50%;\n",
              "      cursor: pointer;\n",
              "      display: none;\n",
              "      fill: #1967D2;\n",
              "      height: 32px;\n",
              "      padding: 0 0 0 0;\n",
              "      width: 32px;\n",
              "    }\n",
              "\n",
              "    .colab-df-convert:hover {\n",
              "      background-color: #E2EBFA;\n",
              "      box-shadow: 0px 1px 2px rgba(60, 64, 67, 0.3), 0px 1px 3px 1px rgba(60, 64, 67, 0.15);\n",
              "      fill: #174EA6;\n",
              "    }\n",
              "\n",
              "    [theme=dark] .colab-df-convert {\n",
              "      background-color: #3B4455;\n",
              "      fill: #D2E3FC;\n",
              "    }\n",
              "\n",
              "    [theme=dark] .colab-df-convert:hover {\n",
              "      background-color: #434B5C;\n",
              "      box-shadow: 0px 1px 3px 1px rgba(0, 0, 0, 0.15);\n",
              "      filter: drop-shadow(0px 1px 2px rgba(0, 0, 0, 0.3));\n",
              "      fill: #FFFFFF;\n",
              "    }\n",
              "  </style>\n",
              "\n",
              "      <script>\n",
              "        const buttonEl =\n",
              "          document.querySelector('#df-c08882c5-e05f-449f-ac16-5991ef7a16fb button.colab-df-convert');\n",
              "        buttonEl.style.display =\n",
              "          google.colab.kernel.accessAllowed ? 'block' : 'none';\n",
              "\n",
              "        async function convertToInteractive(key) {\n",
              "          const element = document.querySelector('#df-c08882c5-e05f-449f-ac16-5991ef7a16fb');\n",
              "          const dataTable =\n",
              "            await google.colab.kernel.invokeFunction('convertToInteractive',\n",
              "                                                     [key], {});\n",
              "          if (!dataTable) return;\n",
              "\n",
              "          const docLinkHtml = 'Like what you see? Visit the ' +\n",
              "            '<a target=\"_blank\" href=https://colab.research.google.com/notebooks/data_table.ipynb>data table notebook</a>'\n",
              "            + ' to learn more about interactive tables.';\n",
              "          element.innerHTML = '';\n",
              "          dataTable['output_type'] = 'display_data';\n",
              "          await google.colab.output.renderOutput(dataTable, element);\n",
              "          const docLink = document.createElement('div');\n",
              "          docLink.innerHTML = docLinkHtml;\n",
              "          element.appendChild(docLink);\n",
              "        }\n",
              "      </script>\n",
              "    </div>\n",
              "  </div>\n",
              "  "
            ]
          },
          "metadata": {},
          "execution_count": 46
        }
      ],
      "source": [
        "# reading the test case dataset into a pandas dataframe\n",
        "df_test = pd.read_csv(testData_path)\n",
        "df_test.sample(5)\n"
      ]
    },
    {
      "cell_type": "code",
      "execution_count": 47,
      "metadata": {
        "colab": {
          "base_uri": "https://localhost:8080/",
          "height": 206
        },
        "id": "CPpVLS20a0Ri",
        "outputId": "3fdb3f07-c523-469a-e7a3-d7359e4f7783"
      },
      "outputs": [
        {
          "output_type": "execute_result",
          "data": {
            "text/plain": [
              "          id                                              tweet  \\\n",
              "3168   35131   @user @user today for #injectablesclinic #bot...   \n",
              "324    32287  thank you so much @user i really am   and feel...   \n",
              "13810  45773  biggest #war is ever against #illiteracy  (and...   \n",
              "8456   40419  @user tonight my last time with them... #veron...   \n",
              "13909  45872       i am safe. #i_am #positive #affirmation        \n",
              "\n",
              "                                           tweet_cleaned  \n",
              "3168   <start> user user today injectablesclinic boto...  \n",
              "324    <start> thank much user really feel amazing <end>  \n",
              "13810  <start> biggest war ever illiteracyand therefo...  \n",
              "8456   <start> user tonight last time verona blacksab...  \n",
              "13909        <start> safe iam positive affirmation <end>  "
            ],
            "text/html": [
              "\n",
              "  <div id=\"df-3a7cd719-57a0-44fd-9062-bf9b49a6751e\">\n",
              "    <div class=\"colab-df-container\">\n",
              "      <div>\n",
              "<style scoped>\n",
              "    .dataframe tbody tr th:only-of-type {\n",
              "        vertical-align: middle;\n",
              "    }\n",
              "\n",
              "    .dataframe tbody tr th {\n",
              "        vertical-align: top;\n",
              "    }\n",
              "\n",
              "    .dataframe thead th {\n",
              "        text-align: right;\n",
              "    }\n",
              "</style>\n",
              "<table border=\"1\" class=\"dataframe\">\n",
              "  <thead>\n",
              "    <tr style=\"text-align: right;\">\n",
              "      <th></th>\n",
              "      <th>id</th>\n",
              "      <th>tweet</th>\n",
              "      <th>tweet_cleaned</th>\n",
              "    </tr>\n",
              "  </thead>\n",
              "  <tbody>\n",
              "    <tr>\n",
              "      <th>3168</th>\n",
              "      <td>35131</td>\n",
              "      <td>@user @user today for #injectablesclinic #bot...</td>\n",
              "      <td>&lt;start&gt; user user today injectablesclinic boto...</td>\n",
              "    </tr>\n",
              "    <tr>\n",
              "      <th>324</th>\n",
              "      <td>32287</td>\n",
              "      <td>thank you so much @user i really am   and feel...</td>\n",
              "      <td>&lt;start&gt; thank much user really feel amazing &lt;end&gt;</td>\n",
              "    </tr>\n",
              "    <tr>\n",
              "      <th>13810</th>\n",
              "      <td>45773</td>\n",
              "      <td>biggest #war is ever against #illiteracy  (and...</td>\n",
              "      <td>&lt;start&gt; biggest war ever illiteracyand therefo...</td>\n",
              "    </tr>\n",
              "    <tr>\n",
              "      <th>8456</th>\n",
              "      <td>40419</td>\n",
              "      <td>@user tonight my last time with them... #veron...</td>\n",
              "      <td>&lt;start&gt; user tonight last time verona blacksab...</td>\n",
              "    </tr>\n",
              "    <tr>\n",
              "      <th>13909</th>\n",
              "      <td>45872</td>\n",
              "      <td>i am safe. #i_am #positive #affirmation</td>\n",
              "      <td>&lt;start&gt; safe iam positive affirmation &lt;end&gt;</td>\n",
              "    </tr>\n",
              "  </tbody>\n",
              "</table>\n",
              "</div>\n",
              "      <button class=\"colab-df-convert\" onclick=\"convertToInteractive('df-3a7cd719-57a0-44fd-9062-bf9b49a6751e')\"\n",
              "              title=\"Convert this dataframe to an interactive table.\"\n",
              "              style=\"display:none;\">\n",
              "        \n",
              "  <svg xmlns=\"http://www.w3.org/2000/svg\" height=\"24px\"viewBox=\"0 0 24 24\"\n",
              "       width=\"24px\">\n",
              "    <path d=\"M0 0h24v24H0V0z\" fill=\"none\"/>\n",
              "    <path d=\"M18.56 5.44l.94 2.06.94-2.06 2.06-.94-2.06-.94-.94-2.06-.94 2.06-2.06.94zm-11 1L8.5 8.5l.94-2.06 2.06-.94-2.06-.94L8.5 2.5l-.94 2.06-2.06.94zm10 10l.94 2.06.94-2.06 2.06-.94-2.06-.94-.94-2.06-.94 2.06-2.06.94z\"/><path d=\"M17.41 7.96l-1.37-1.37c-.4-.4-.92-.59-1.43-.59-.52 0-1.04.2-1.43.59L10.3 9.45l-7.72 7.72c-.78.78-.78 2.05 0 2.83L4 21.41c.39.39.9.59 1.41.59.51 0 1.02-.2 1.41-.59l7.78-7.78 2.81-2.81c.8-.78.8-2.07 0-2.86zM5.41 20L4 18.59l7.72-7.72 1.47 1.35L5.41 20z\"/>\n",
              "  </svg>\n",
              "      </button>\n",
              "      \n",
              "  <style>\n",
              "    .colab-df-container {\n",
              "      display:flex;\n",
              "      flex-wrap:wrap;\n",
              "      gap: 12px;\n",
              "    }\n",
              "\n",
              "    .colab-df-convert {\n",
              "      background-color: #E8F0FE;\n",
              "      border: none;\n",
              "      border-radius: 50%;\n",
              "      cursor: pointer;\n",
              "      display: none;\n",
              "      fill: #1967D2;\n",
              "      height: 32px;\n",
              "      padding: 0 0 0 0;\n",
              "      width: 32px;\n",
              "    }\n",
              "\n",
              "    .colab-df-convert:hover {\n",
              "      background-color: #E2EBFA;\n",
              "      box-shadow: 0px 1px 2px rgba(60, 64, 67, 0.3), 0px 1px 3px 1px rgba(60, 64, 67, 0.15);\n",
              "      fill: #174EA6;\n",
              "    }\n",
              "\n",
              "    [theme=dark] .colab-df-convert {\n",
              "      background-color: #3B4455;\n",
              "      fill: #D2E3FC;\n",
              "    }\n",
              "\n",
              "    [theme=dark] .colab-df-convert:hover {\n",
              "      background-color: #434B5C;\n",
              "      box-shadow: 0px 1px 3px 1px rgba(0, 0, 0, 0.15);\n",
              "      filter: drop-shadow(0px 1px 2px rgba(0, 0, 0, 0.3));\n",
              "      fill: #FFFFFF;\n",
              "    }\n",
              "  </style>\n",
              "\n",
              "      <script>\n",
              "        const buttonEl =\n",
              "          document.querySelector('#df-3a7cd719-57a0-44fd-9062-bf9b49a6751e button.colab-df-convert');\n",
              "        buttonEl.style.display =\n",
              "          google.colab.kernel.accessAllowed ? 'block' : 'none';\n",
              "\n",
              "        async function convertToInteractive(key) {\n",
              "          const element = document.querySelector('#df-3a7cd719-57a0-44fd-9062-bf9b49a6751e');\n",
              "          const dataTable =\n",
              "            await google.colab.kernel.invokeFunction('convertToInteractive',\n",
              "                                                     [key], {});\n",
              "          if (!dataTable) return;\n",
              "\n",
              "          const docLinkHtml = 'Like what you see? Visit the ' +\n",
              "            '<a target=\"_blank\" href=https://colab.research.google.com/notebooks/data_table.ipynb>data table notebook</a>'\n",
              "            + ' to learn more about interactive tables.';\n",
              "          element.innerHTML = '';\n",
              "          dataTable['output_type'] = 'display_data';\n",
              "          await google.colab.output.renderOutput(dataTable, element);\n",
              "          const docLink = document.createElement('div');\n",
              "          docLink.innerHTML = docLinkHtml;\n",
              "          element.appendChild(docLink);\n",
              "        }\n",
              "      </script>\n",
              "    </div>\n",
              "  </div>\n",
              "  "
            ]
          },
          "metadata": {},
          "execution_count": 47
        }
      ],
      "source": [
        "# cleaning the tweets in the test dataset and adding the start and end tokens to the cleaned tweets\n",
        "\n",
        "df_test['tweet_cleaned'] = df_test['tweet'].apply(text_preprocessor)\n",
        "df_test['tweet_cleaned']= addStartEndToken(df_test['tweet_cleaned'])\n",
        "df_test.sample(5)"
      ]
    },
    {
      "cell_type": "code",
      "execution_count": 48,
      "metadata": {
        "id": "itToPpqna0Ri"
      },
      "outputs": [],
      "source": [
        "maxTestLength = maxTweetLength(df_test['tweet_cleaned'])\n",
        "\n",
        "X_testCase = tokenizeText(df_test, maxTestLength) # tokenize the text data and pad the sequences to make them of the same length"
      ]
    },
    {
      "cell_type": "code",
      "execution_count": null,
      "metadata": {
        "colab": {
          "base_uri": "https://localhost:8080/"
        },
        "id": "FNuykuVRa0Ri",
        "outputId": "740d6083-f36e-41b6-bb35-39d6cdafeb06"
      },
      "outputs": [
        {
          "data": {
            "text/plain": [
              "(17197, 23)"
            ]
          },
          "execution_count": 46,
          "metadata": {},
          "output_type": "execute_result"
        }
      ],
      "source": [
        "# shape of the test case\n",
        "X_testCase.shape"
      ]
    },
    {
      "cell_type": "markdown",
      "metadata": {
        "id": "0mSvJ9cclv-9"
      },
      "source": [
        "Predicting the sentiment of the tweets in the test case using the trained model"
      ]
    },
    {
      "cell_type": "code",
      "source": [
        "# predicting the sentiment of the tweets in the test case dataset\n",
        "\n",
        "y_predTestCase = model.predict(X_testCase).argmax(axis=1)"
      ],
      "metadata": {
        "colab": {
          "base_uri": "https://localhost:8080/"
        },
        "id": "RdxOTyjNuvME",
        "outputId": "76d743a3-d0f3-429b-b275-dd631216baa5"
      },
      "execution_count": 49,
      "outputs": [
        {
          "output_type": "stream",
          "name": "stdout",
          "text": [
            "538/538 [==============================] - 29s 54ms/step\n"
          ]
        }
      ]
    },
    {
      "cell_type": "markdown",
      "metadata": {
        "id": "ZjWJdDnzlv--"
      },
      "source": [
        "Creating a dataframe to store the predicted sentiment of the tweets in the test case. The dataframe contains the `tweet_cleaned`,`tweet` and `sentiment` columns. The `tweet_cleaned` column contains the cleaned tweets. The `tweet` column contains the original tweets. The `sentiment` column contains the predicted sentiment of the tweets."
      ]
    },
    {
      "cell_type": "code",
      "execution_count": 50,
      "metadata": {
        "id": "tXpjj4PNa0Rj"
      },
      "outputs": [],
      "source": [
        "# create a dataframe with the tweet, sentiment and uncleaned text columns\n",
        "df_pred = pd.DataFrame({'tweet_cleaned': df_test['tweet_cleaned'], 'tweet':df_test['tweet'],'sentiment': y_predTestCase})"
      ]
    },
    {
      "cell_type": "code",
      "source": [
        "# counting the number of positive and negative tweets predicted by the model\n",
        "df_pred['sentiment'].value_counts()"
      ],
      "metadata": {
        "colab": {
          "base_uri": "https://localhost:8080/"
        },
        "id": "y3cy1qotu7LI",
        "outputId": "5f1a4ca8-aa19-4f7b-8151-80c6d85580a7"
      },
      "execution_count": 51,
      "outputs": [
        {
          "output_type": "execute_result",
          "data": {
            "text/plain": [
              "0    15540\n",
              "1     1657\n",
              "Name: sentiment, dtype: int64"
            ]
          },
          "metadata": {},
          "execution_count": 51
        }
      ]
    },
    {
      "cell_type": "markdown",
      "metadata": {
        "id": "11Pteyjylv_B"
      },
      "source": [
        "Model predicted 15540 tweets to be positive and 1657 to be negative out of 17197 tweets in the test case."
      ]
    },
    {
      "cell_type": "code",
      "source": [
        "# printing a sample of negative tweets predicted by the model\n",
        "df_pred[df_pred['sentiment'] == 1].sample(10)"
      ],
      "metadata": {
        "colab": {
          "base_uri": "https://localhost:8080/",
          "height": 362
        },
        "id": "3YYasTy-vD6q",
        "outputId": "6d509292-3819-4613-8fa6-1d41ad1f3478"
      },
      "execution_count": 52,
      "outputs": [
        {
          "output_type": "execute_result",
          "data": {
            "text/plain": [
              "                                           tweet_cleaned  \\\n",
              "3826   <start> work fun tbt donjulio tequila diageo p...   \n",
              "9774                       <start> great job kylie <end>   \n",
              "16359      <start> would user ruin good radar page <end>   \n",
              "11323  <start> user livelovesmile goodevening night l...   \n",
              "292    <start> 30000 arrest daily usover 160000 polic...   \n",
              "14043             <start> pudo itsisepuede copa100 <end>   \n",
              "9286             <start> rip christina gunviolence <end>   \n",
              "16141  <start> terrorism shelling blast one sadness20...   \n",
              "15089  <start> wishing happy weekend weekend roselove...   \n",
              "8218   <start> beautifulsunday user user user user us...   \n",
              "\n",
              "                                                   tweet  sentiment  \n",
              "3826   when work is fun ð  #tbt #donjulio #tequila...          1  \n",
              "9774                                   great job kylie!           1  \n",
              "16359  why would @user ruin such a good radar page ? ...          1  \n",
              "11323   @user live  love  smile ... â¤ðð #good...          1  \n",
              "292    over 30,000 arrests daily in us;over 160,000 p...          1  \n",
              "14043  si se pudo ððâ¤  they did it ...   #sis...          1  \n",
              "9286                     #rip christina   #gunviolence            1  \n",
              "16141  #terrorism   #shelling #blasts and one more #s...          1  \n",
              "15089  wishing you all a happy weekend   weekend #ros...          1  \n",
              "8218   it's a #beautifulsunday @user @user @user @use...          1  "
            ],
            "text/html": [
              "\n",
              "  <div id=\"df-17bb6f82-d4ec-48ee-9c44-fb5d7c43c4a5\">\n",
              "    <div class=\"colab-df-container\">\n",
              "      <div>\n",
              "<style scoped>\n",
              "    .dataframe tbody tr th:only-of-type {\n",
              "        vertical-align: middle;\n",
              "    }\n",
              "\n",
              "    .dataframe tbody tr th {\n",
              "        vertical-align: top;\n",
              "    }\n",
              "\n",
              "    .dataframe thead th {\n",
              "        text-align: right;\n",
              "    }\n",
              "</style>\n",
              "<table border=\"1\" class=\"dataframe\">\n",
              "  <thead>\n",
              "    <tr style=\"text-align: right;\">\n",
              "      <th></th>\n",
              "      <th>tweet_cleaned</th>\n",
              "      <th>tweet</th>\n",
              "      <th>sentiment</th>\n",
              "    </tr>\n",
              "  </thead>\n",
              "  <tbody>\n",
              "    <tr>\n",
              "      <th>3826</th>\n",
              "      <td>&lt;start&gt; work fun tbt donjulio tequila diageo p...</td>\n",
              "      <td>when work is fun ð  #tbt #donjulio #tequila...</td>\n",
              "      <td>1</td>\n",
              "    </tr>\n",
              "    <tr>\n",
              "      <th>9774</th>\n",
              "      <td>&lt;start&gt; great job kylie &lt;end&gt;</td>\n",
              "      <td>great job kylie!</td>\n",
              "      <td>1</td>\n",
              "    </tr>\n",
              "    <tr>\n",
              "      <th>16359</th>\n",
              "      <td>&lt;start&gt; would user ruin good radar page &lt;end&gt;</td>\n",
              "      <td>why would @user ruin such a good radar page ? ...</td>\n",
              "      <td>1</td>\n",
              "    </tr>\n",
              "    <tr>\n",
              "      <th>11323</th>\n",
              "      <td>&lt;start&gt; user livelovesmile goodevening night l...</td>\n",
              "      <td>@user live  love  smile ... â¤ðð #good...</td>\n",
              "      <td>1</td>\n",
              "    </tr>\n",
              "    <tr>\n",
              "      <th>292</th>\n",
              "      <td>&lt;start&gt; 30000 arrest daily usover 160000 polic...</td>\n",
              "      <td>over 30,000 arrests daily in us;over 160,000 p...</td>\n",
              "      <td>1</td>\n",
              "    </tr>\n",
              "    <tr>\n",
              "      <th>14043</th>\n",
              "      <td>&lt;start&gt; pudo itsisepuede copa100 &lt;end&gt;</td>\n",
              "      <td>si se pudo ððâ¤  they did it ...   #sis...</td>\n",
              "      <td>1</td>\n",
              "    </tr>\n",
              "    <tr>\n",
              "      <th>9286</th>\n",
              "      <td>&lt;start&gt; rip christina gunviolence &lt;end&gt;</td>\n",
              "      <td>#rip christina   #gunviolence</td>\n",
              "      <td>1</td>\n",
              "    </tr>\n",
              "    <tr>\n",
              "      <th>16141</th>\n",
              "      <td>&lt;start&gt; terrorism shelling blast one sadness20...</td>\n",
              "      <td>#terrorism   #shelling #blasts and one more #s...</td>\n",
              "      <td>1</td>\n",
              "    </tr>\n",
              "    <tr>\n",
              "      <th>15089</th>\n",
              "      <td>&lt;start&gt; wishing happy weekend weekend roselove...</td>\n",
              "      <td>wishing you all a happy weekend   weekend #ros...</td>\n",
              "      <td>1</td>\n",
              "    </tr>\n",
              "    <tr>\n",
              "      <th>8218</th>\n",
              "      <td>&lt;start&gt; beautifulsunday user user user user us...</td>\n",
              "      <td>it's a #beautifulsunday @user @user @user @use...</td>\n",
              "      <td>1</td>\n",
              "    </tr>\n",
              "  </tbody>\n",
              "</table>\n",
              "</div>\n",
              "      <button class=\"colab-df-convert\" onclick=\"convertToInteractive('df-17bb6f82-d4ec-48ee-9c44-fb5d7c43c4a5')\"\n",
              "              title=\"Convert this dataframe to an interactive table.\"\n",
              "              style=\"display:none;\">\n",
              "        \n",
              "  <svg xmlns=\"http://www.w3.org/2000/svg\" height=\"24px\"viewBox=\"0 0 24 24\"\n",
              "       width=\"24px\">\n",
              "    <path d=\"M0 0h24v24H0V0z\" fill=\"none\"/>\n",
              "    <path d=\"M18.56 5.44l.94 2.06.94-2.06 2.06-.94-2.06-.94-.94-2.06-.94 2.06-2.06.94zm-11 1L8.5 8.5l.94-2.06 2.06-.94-2.06-.94L8.5 2.5l-.94 2.06-2.06.94zm10 10l.94 2.06.94-2.06 2.06-.94-2.06-.94-.94-2.06-.94 2.06-2.06.94z\"/><path d=\"M17.41 7.96l-1.37-1.37c-.4-.4-.92-.59-1.43-.59-.52 0-1.04.2-1.43.59L10.3 9.45l-7.72 7.72c-.78.78-.78 2.05 0 2.83L4 21.41c.39.39.9.59 1.41.59.51 0 1.02-.2 1.41-.59l7.78-7.78 2.81-2.81c.8-.78.8-2.07 0-2.86zM5.41 20L4 18.59l7.72-7.72 1.47 1.35L5.41 20z\"/>\n",
              "  </svg>\n",
              "      </button>\n",
              "      \n",
              "  <style>\n",
              "    .colab-df-container {\n",
              "      display:flex;\n",
              "      flex-wrap:wrap;\n",
              "      gap: 12px;\n",
              "    }\n",
              "\n",
              "    .colab-df-convert {\n",
              "      background-color: #E8F0FE;\n",
              "      border: none;\n",
              "      border-radius: 50%;\n",
              "      cursor: pointer;\n",
              "      display: none;\n",
              "      fill: #1967D2;\n",
              "      height: 32px;\n",
              "      padding: 0 0 0 0;\n",
              "      width: 32px;\n",
              "    }\n",
              "\n",
              "    .colab-df-convert:hover {\n",
              "      background-color: #E2EBFA;\n",
              "      box-shadow: 0px 1px 2px rgba(60, 64, 67, 0.3), 0px 1px 3px 1px rgba(60, 64, 67, 0.15);\n",
              "      fill: #174EA6;\n",
              "    }\n",
              "\n",
              "    [theme=dark] .colab-df-convert {\n",
              "      background-color: #3B4455;\n",
              "      fill: #D2E3FC;\n",
              "    }\n",
              "\n",
              "    [theme=dark] .colab-df-convert:hover {\n",
              "      background-color: #434B5C;\n",
              "      box-shadow: 0px 1px 3px 1px rgba(0, 0, 0, 0.15);\n",
              "      filter: drop-shadow(0px 1px 2px rgba(0, 0, 0, 0.3));\n",
              "      fill: #FFFFFF;\n",
              "    }\n",
              "  </style>\n",
              "\n",
              "      <script>\n",
              "        const buttonEl =\n",
              "          document.querySelector('#df-17bb6f82-d4ec-48ee-9c44-fb5d7c43c4a5 button.colab-df-convert');\n",
              "        buttonEl.style.display =\n",
              "          google.colab.kernel.accessAllowed ? 'block' : 'none';\n",
              "\n",
              "        async function convertToInteractive(key) {\n",
              "          const element = document.querySelector('#df-17bb6f82-d4ec-48ee-9c44-fb5d7c43c4a5');\n",
              "          const dataTable =\n",
              "            await google.colab.kernel.invokeFunction('convertToInteractive',\n",
              "                                                     [key], {});\n",
              "          if (!dataTable) return;\n",
              "\n",
              "          const docLinkHtml = 'Like what you see? Visit the ' +\n",
              "            '<a target=\"_blank\" href=https://colab.research.google.com/notebooks/data_table.ipynb>data table notebook</a>'\n",
              "            + ' to learn more about interactive tables.';\n",
              "          element.innerHTML = '';\n",
              "          dataTable['output_type'] = 'display_data';\n",
              "          await google.colab.output.renderOutput(dataTable, element);\n",
              "          const docLink = document.createElement('div');\n",
              "          docLink.innerHTML = docLinkHtml;\n",
              "          element.appendChild(docLink);\n",
              "        }\n",
              "      </script>\n",
              "    </div>\n",
              "  </div>\n",
              "  "
            ]
          },
          "metadata": {},
          "execution_count": 52
        }
      ]
    },
    {
      "cell_type": "code",
      "execution_count": 53,
      "metadata": {
        "id": "6WLn4uHbiOYn"
      },
      "outputs": [],
      "source": [
        "# map the labels to positive and negative in the dataframe\n",
        "df_pred['sentiment'] = df_pred['sentiment'].map({0: 'Positive', 1: 'Negative'})"
      ]
    },
    {
      "cell_type": "code",
      "source": [
        "# visualize the sentiment distribution of the tweets in the test case dataset\n",
        "df_pred['sentiment'].value_counts().plot(kind = 'bar', color = ['blue', 'red'])\n"
      ],
      "metadata": {
        "colab": {
          "base_uri": "https://localhost:8080/",
          "height": 496
        },
        "id": "OoRstEHXvIHx",
        "outputId": "7ff2a3e6-a381-4ae3-8b4a-6235f0fa1944"
      },
      "execution_count": 54,
      "outputs": [
        {
          "output_type": "execute_result",
          "data": {
            "text/plain": [
              "<Axes: >"
            ]
          },
          "metadata": {},
          "execution_count": 54
        },
        {
          "output_type": "display_data",
          "data": {
            "text/plain": [
              "<Figure size 640x480 with 1 Axes>"
            ],
            "image/png": "[encoded data removed]"
          },
          "metadata": {}
        }
      ]
    },
    {
      "cell_type": "markdown",
      "metadata": {
        "id": "WzXcUmT5lv_F"
      },
      "source": [
        "## Results\n"
      ]
    },
    {
      "cell_type": "markdown",
      "metadata": {
        "id": "B_A90tDIlv_F"
      },
      "source": [
        "The model has an accuracy of 0.95, precision of 0.95, and recall of 0.95. The model performs well on the test set. The model predicted 15540 tweets to be positive and 1657 to be negative out of 17197 tweets in the test case. Due to insufficient data and imbalance in the dataset, the model predicted more tweets to be positive than negative. The model can be improved by using more data and balancing the dataset."
      ]
    }
  ],
  "metadata": {
    "colab": {
      "provenance": []
    },
    "kernelspec": {
      "display_name": "Python 3 (ipykernel)",
      "language": "python",
      "name": "python3"
    },
    "language_info": {
      "codemirror_mode": {
        "name": "ipython",
        "version": 3
      },
      "file_extension": ".py",
      "mimetype": "text/x-python",
      "name": "python",
      "nbconvert_exporter": "python",
      "pygments_lexer": "ipython3",
      "version": "3.10.5"
    }
  },
  "nbformat": 4,
  "nbformat_minor": 0
}