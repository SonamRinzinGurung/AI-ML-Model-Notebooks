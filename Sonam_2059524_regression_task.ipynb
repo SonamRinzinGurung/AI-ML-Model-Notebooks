{
  "nbformat": 4,
  "nbformat_minor": 0,
  "metadata": {
    "colab": {
      "name": "linearRegressionHousing.ipynb",
      "provenance": [],
      "collapsed_sections": []
    },
    "kernelspec": {
      "name": "python3",
      "display_name": "Python 3"
    },
    "language_info": {
      "name": "python"
    }
  },
  "cells": [
    {
      "cell_type": "markdown",
      "source": [
        "Name: Sonam Rinzin Gurung <br>\n",
        "University ID: 2059524"
      ],
      "metadata": {
        "id": "A1nl93Jd2gZz"
      }
    },
    {
      "cell_type": "markdown",
      "source": [
        "# Regression Task\n",
        "\n",
        "---\n",
        "\n",
        "\n",
        "### Linear Regression\n",
        "Linear Regression is a supervised machine learning algorithm which is used to find the linear relationship between a single dependent variable and multiple independent variables. Linear regression is used to create models which can predict the value of the dependent(target) variable based on its relationship with the independent variables. The indpendent variables are also called features or predictors.<br>\n",
        "The eqation of best fit line for linear regresssion with multiple predictors is:<br>\n",
        "**y = b1x1 + b2x2 +...+bnxn +c**  <br>\n",
        "where,<br>\n",
        " b1,b2.. are the bias coefficients also called theta<br>\n",
        "x1,x2.. are the predictors <br>\n",
        "c is the intercept value <br><br>\n",
        "Theta values are initialized randomly at first. Then gradient descent is used to update the theta values to minimize the cost function.\n",
        "\n",
        "---\n",
        "\n"
      ],
      "metadata": {
        "id": "sx-Rc_VnHGyn"
      }
    },
    {
      "cell_type": "markdown",
      "source": [
        "### Housing Price Prediction"
      ],
      "metadata": {
        "id": "3Fe4lYEO_kFy"
      }
    },
    {
      "cell_type": "code",
      "execution_count": 1,
      "metadata": {
        "id": "wJ3uM4b6N9UP"
      },
      "outputs": [],
      "source": [
        "#importing required python libraries\n",
        "#numpy allows us to calculate mathematical equations and problems\n",
        "import numpy as np\n",
        "\n",
        "#pandas is a open source data analysis and manipulation library\n",
        "import pandas as pd\n",
        "\n",
        "#for data visualization\n",
        "import matplotlib.pyplot as plt\n",
        "import seaborn as sns\n"
      ]
    },
    {
      "cell_type": "markdown",
      "source": [
        "Uploading the dataset into this colab notebook."
      ],
      "metadata": {
        "id": "GrVp50YN6ufx"
      }
    },
    {
      "cell_type": "code",
      "source": [
        "from google.colab import files\n",
        "\n",
        "#saving the uploaded file in uploaded\n",
        "uploaded = files.upload()"
      ],
      "metadata": {
        "colab": {
          "resources": {
            "http://localhost:8080/nbextensions/google.colab/files.js": {
              "data": "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",
              "ok": true,
              "headers": [
                [
                  "content-type",
                  "application/javascript"
                ]
              ],
              "status": 200,
              "status_text": ""
            }
          },
          "base_uri": "https://localhost:8080/",
          "height": 73
        },
        "id": "lX8s93t4OXwe",
        "outputId": "1e6b90a0-b6a5-4902-fcd4-a278cd33373d"
      },
      "execution_count": 2,
      "outputs": [
        {
          "output_type": "display_data",
          "data": {
            "text/html": [
              "\n",
              "     <input type=\"file\" id=\"files-71a757f6-cce2-48b8-afda-f7d88d348d4d\" name=\"files[]\" multiple disabled\n",
              "        style=\"border:none\" />\n",
              "     <output id=\"result-71a757f6-cce2-48b8-afda-f7d88d348d4d\">\n",
              "      Upload widget is only available when the cell has been executed in the\n",
              "      current browser session. Please rerun this cell to enable.\n",
              "      </output>\n",
              "      <script src=\"/nbextensions/google.colab/files.js\"></script> "
            ],
            "text/plain": [
              "<IPython.core.display.HTML object>"
            ]
          },
          "metadata": {}
        },
        {
          "output_type": "stream",
          "name": "stdout",
          "text": [
            "Saving Housing.csv to Housing.csv\n"
          ]
        }
      ]
    },
    {
      "cell_type": "markdown",
      "source": [
        "Using pandas to read the uploaded csv file as a dataframe (housedf)"
      ],
      "metadata": {
        "id": "X9VWcKPX7lC-"
      }
    },
    {
      "cell_type": "code",
      "source": [
        "import io\n",
        "\n",
        "\n",
        "housedf = pd.read_csv(io.BytesIO(uploaded['Housing.csv']))"
      ],
      "metadata": {
        "id": "11d-sweXOl1W"
      },
      "execution_count": 3,
      "outputs": []
    },
    {
      "cell_type": "markdown",
      "source": [
        "## Dataset Description\n",
        "This dataset contains the price of housing along with its various facilities and features such as no.of bathrooms, bedrooms, area, avaibility of hotwaterheating, etc. <br>\n",
        "The price of housing is effected by its features such as the area of the house, no.of rooms, parking areas, etc. Facilities such as airconditioning and water heater can also effect the price of the house.<br>\n",
        "The goal is to use all the relevant independent variables to predict the price of housing. Initially we have 12 independent variables. Price is the target variable."
      ],
      "metadata": {
        "id": "hB04E0mj7s7p"
      }
    },
    {
      "cell_type": "code",
      "source": [
        "housedf.head()"
      ],
      "metadata": {
        "colab": {
          "base_uri": "https://localhost:8080/",
          "height": 250
        },
        "id": "mYSD9rVLO6V8",
        "outputId": "e469f5ab-c45d-41e1-bc51-0912906b801d"
      },
      "execution_count": 4,
      "outputs": [
        {
          "output_type": "execute_result",
          "data": {
            "text/html": [
              "\n",
              "  <div id=\"df-ee73b123-f815-4f4e-9285-cb81f2b08ef3\">\n",
              "    <div class=\"colab-df-container\">\n",
              "      <div>\n",
              "<style scoped>\n",
              "    .dataframe tbody tr th:only-of-type {\n",
              "        vertical-align: middle;\n",
              "    }\n",
              "\n",
              "    .dataframe tbody tr th {\n",
              "        vertical-align: top;\n",
              "    }\n",
              "\n",
              "    .dataframe thead th {\n",
              "        text-align: right;\n",
              "    }\n",
              "</style>\n",
              "<table border=\"1\" class=\"dataframe\">\n",
              "  <thead>\n",
              "    <tr style=\"text-align: right;\">\n",
              "      <th></th>\n",
              "      <th>price</th>\n",
              "      <th>area</th>\n",
              "      <th>bedrooms</th>\n",
              "      <th>bathrooms</th>\n",
              "      <th>stories</th>\n",
              "      <th>mainroad</th>\n",
              "      <th>guestroom</th>\n",
              "      <th>basement</th>\n",
              "      <th>hotwaterheating</th>\n",
              "      <th>airconditioning</th>\n",
              "      <th>parking</th>\n",
              "      <th>prefarea</th>\n",
              "      <th>furnishingstatus</th>\n",
              "    </tr>\n",
              "  </thead>\n",
              "  <tbody>\n",
              "    <tr>\n",
              "      <th>0</th>\n",
              "      <td>13300000</td>\n",
              "      <td>7420</td>\n",
              "      <td>4</td>\n",
              "      <td>2</td>\n",
              "      <td>3</td>\n",
              "      <td>yes</td>\n",
              "      <td>no</td>\n",
              "      <td>no</td>\n",
              "      <td>no</td>\n",
              "      <td>yes</td>\n",
              "      <td>2</td>\n",
              "      <td>yes</td>\n",
              "      <td>furnished</td>\n",
              "    </tr>\n",
              "    <tr>\n",
              "      <th>1</th>\n",
              "      <td>12250000</td>\n",
              "      <td>8960</td>\n",
              "      <td>4</td>\n",
              "      <td>4</td>\n",
              "      <td>4</td>\n",
              "      <td>yes</td>\n",
              "      <td>no</td>\n",
              "      <td>no</td>\n",
              "      <td>no</td>\n",
              "      <td>yes</td>\n",
              "      <td>3</td>\n",
              "      <td>no</td>\n",
              "      <td>furnished</td>\n",
              "    </tr>\n",
              "    <tr>\n",
              "      <th>2</th>\n",
              "      <td>12250000</td>\n",
              "      <td>9960</td>\n",
              "      <td>3</td>\n",
              "      <td>2</td>\n",
              "      <td>2</td>\n",
              "      <td>yes</td>\n",
              "      <td>no</td>\n",
              "      <td>yes</td>\n",
              "      <td>no</td>\n",
              "      <td>no</td>\n",
              "      <td>2</td>\n",
              "      <td>yes</td>\n",
              "      <td>semi-furnished</td>\n",
              "    </tr>\n",
              "    <tr>\n",
              "      <th>3</th>\n",
              "      <td>12215000</td>\n",
              "      <td>7500</td>\n",
              "      <td>4</td>\n",
              "      <td>2</td>\n",
              "      <td>2</td>\n",
              "      <td>yes</td>\n",
              "      <td>no</td>\n",
              "      <td>yes</td>\n",
              "      <td>no</td>\n",
              "      <td>yes</td>\n",
              "      <td>3</td>\n",
              "      <td>yes</td>\n",
              "      <td>furnished</td>\n",
              "    </tr>\n",
              "    <tr>\n",
              "      <th>4</th>\n",
              "      <td>11410000</td>\n",
              "      <td>7420</td>\n",
              "      <td>4</td>\n",
              "      <td>1</td>\n",
              "      <td>2</td>\n",
              "      <td>yes</td>\n",
              "      <td>yes</td>\n",
              "      <td>yes</td>\n",
              "      <td>no</td>\n",
              "      <td>yes</td>\n",
              "      <td>2</td>\n",
              "      <td>no</td>\n",
              "      <td>furnished</td>\n",
              "    </tr>\n",
              "  </tbody>\n",
              "</table>\n",
              "</div>\n",
              "      <button class=\"colab-df-convert\" onclick=\"convertToInteractive('df-ee73b123-f815-4f4e-9285-cb81f2b08ef3')\"\n",
              "              title=\"Convert this dataframe to an interactive table.\"\n",
              "              style=\"display:none;\">\n",
              "        \n",
              "  <svg xmlns=\"http://www.w3.org/2000/svg\" height=\"24px\"viewBox=\"0 0 24 24\"\n",
              "       width=\"24px\">\n",
              "    <path d=\"M0 0h24v24H0V0z\" fill=\"none\"/>\n",
              "    <path d=\"M18.56 5.44l.94 2.06.94-2.06 2.06-.94-2.06-.94-.94-2.06-.94 2.06-2.06.94zm-11 1L8.5 8.5l.94-2.06 2.06-.94-2.06-.94L8.5 2.5l-.94 2.06-2.06.94zm10 10l.94 2.06.94-2.06 2.06-.94-2.06-.94-.94-2.06-.94 2.06-2.06.94z\"/><path d=\"M17.41 7.96l-1.37-1.37c-.4-.4-.92-.59-1.43-.59-.52 0-1.04.2-1.43.59L10.3 9.45l-7.72 7.72c-.78.78-.78 2.05 0 2.83L4 21.41c.39.39.9.59 1.41.59.51 0 1.02-.2 1.41-.59l7.78-7.78 2.81-2.81c.8-.78.8-2.07 0-2.86zM5.41 20L4 18.59l7.72-7.72 1.47 1.35L5.41 20z\"/>\n",
              "  </svg>\n",
              "      </button>\n",
              "      \n",
              "  <style>\n",
              "    .colab-df-container {\n",
              "      display:flex;\n",
              "      flex-wrap:wrap;\n",
              "      gap: 12px;\n",
              "    }\n",
              "\n",
              "    .colab-df-convert {\n",
              "      background-color: #E8F0FE;\n",
              "      border: none;\n",
              "      border-radius: 50%;\n",
              "      cursor: pointer;\n",
              "      display: none;\n",
              "      fill: #1967D2;\n",
              "      height: 32px;\n",
              "      padding: 0 0 0 0;\n",
              "      width: 32px;\n",
              "    }\n",
              "\n",
              "    .colab-df-convert:hover {\n",
              "      background-color: #E2EBFA;\n",
              "      box-shadow: 0px 1px 2px rgba(60, 64, 67, 0.3), 0px 1px 3px 1px rgba(60, 64, 67, 0.15);\n",
              "      fill: #174EA6;\n",
              "    }\n",
              "\n",
              "    [theme=dark] .colab-df-convert {\n",
              "      background-color: #3B4455;\n",
              "      fill: #D2E3FC;\n",
              "    }\n",
              "\n",
              "    [theme=dark] .colab-df-convert:hover {\n",
              "      background-color: #434B5C;\n",
              "      box-shadow: 0px 1px 3px 1px rgba(0, 0, 0, 0.15);\n",
              "      filter: drop-shadow(0px 1px 2px rgba(0, 0, 0, 0.3));\n",
              "      fill: #FFFFFF;\n",
              "    }\n",
              "  </style>\n",
              "\n",
              "      <script>\n",
              "        const buttonEl =\n",
              "          document.querySelector('#df-ee73b123-f815-4f4e-9285-cb81f2b08ef3 button.colab-df-convert');\n",
              "        buttonEl.style.display =\n",
              "          google.colab.kernel.accessAllowed ? 'block' : 'none';\n",
              "\n",
              "        async function convertToInteractive(key) {\n",
              "          const element = document.querySelector('#df-ee73b123-f815-4f4e-9285-cb81f2b08ef3');\n",
              "          const dataTable =\n",
              "            await google.colab.kernel.invokeFunction('convertToInteractive',\n",
              "                                                     [key], {});\n",
              "          if (!dataTable) return;\n",
              "\n",
              "          const docLinkHtml = 'Like what you see? Visit the ' +\n",
              "            '<a target=\"_blank\" href=https://colab.research.google.com/notebooks/data_table.ipynb>data table notebook</a>'\n",
              "            + ' to learn more about interactive tables.';\n",
              "          element.innerHTML = '';\n",
              "          dataTable['output_type'] = 'display_data';\n",
              "          await google.colab.output.renderOutput(dataTable, element);\n",
              "          const docLink = document.createElement('div');\n",
              "          docLink.innerHTML = docLinkHtml;\n",
              "          element.appendChild(docLink);\n",
              "        }\n",
              "      </script>\n",
              "    </div>\n",
              "  </div>\n",
              "  "
            ],
            "text/plain": [
              "      price  area  bedrooms  ...  parking  prefarea furnishingstatus\n",
              "0  13300000  7420         4  ...        2       yes        furnished\n",
              "1  12250000  8960         4  ...        3        no        furnished\n",
              "2  12250000  9960         3  ...        2       yes   semi-furnished\n",
              "3  12215000  7500         4  ...        3       yes        furnished\n",
              "4  11410000  7420         4  ...        2        no        furnished\n",
              "\n",
              "[5 rows x 13 columns]"
            ]
          },
          "metadata": {},
          "execution_count": 4
        }
      ]
    },
    {
      "cell_type": "markdown",
      "source": [
        "# Data Description\n",
        "## Independent Variables / Predictors\n",
        "\n",
        "\n",
        "1. area : Total area of the house\n",
        "2. bedrooms : Number of bedrooms\n",
        "3. bathrooms : Number of bathrooms\n",
        "4. stories : Number of floors in the house\n",
        "5. mainroad : House is connected to a main road (Yes/No)\n",
        "6. guestroom : Room for guests (Yes/No)\n",
        "7. basement : Basement is a room below the ground floor of a house (Yes/No)\n",
        "8. hotwaterheating : Availability of hot water heating (Yes/No)\n",
        "9. airconditioning : Availability of airconditioning (Yes/No)\n",
        "10. parking : Number of cars that can be parked\n",
        "11. prefarea : Tells if house is in preferenced area (Yes/No)\n",
        "12. furnishingstatus : Status of amount of furnitures in the house (furnished/semi-furnished/un-furnished)\n",
        "## Dependent Variable / Target Variable \n",
        "**price** : Total Price of the house\n",
        "\n",
        "\n"
      ],
      "metadata": {
        "id": "znA3F1neHD5j"
      }
    },
    {
      "cell_type": "code",
      "source": [
        "#checking the size of the dataframe\n",
        "housedf.shape"
      ],
      "metadata": {
        "colab": {
          "base_uri": "https://localhost:8080/"
        },
        "id": "qEt9LPRUG9Fl",
        "outputId": "54141082-3d04-4061-d1ad-f21f5a25b3be"
      },
      "execution_count": 5,
      "outputs": [
        {
          "output_type": "execute_result",
          "data": {
            "text/plain": [
              "(545, 13)"
            ]
          },
          "metadata": {},
          "execution_count": 5
        }
      ]
    },
    {
      "cell_type": "code",
      "source": [
        "#checking information of the data in dataframe\n",
        "housedf.info()"
      ],
      "metadata": {
        "colab": {
          "base_uri": "https://localhost:8080/"
        },
        "id": "WQi3j009O1Sd",
        "outputId": "0fd84600-ae58-41bb-ec8f-8c25e72530d6"
      },
      "execution_count": 6,
      "outputs": [
        {
          "output_type": "stream",
          "name": "stdout",
          "text": [
            "<class 'pandas.core.frame.DataFrame'>\n",
            "RangeIndex: 545 entries, 0 to 544\n",
            "Data columns (total 13 columns):\n",
            " #   Column            Non-Null Count  Dtype \n",
            "---  ------            --------------  ----- \n",
            " 0   price             545 non-null    int64 \n",
            " 1   area              545 non-null    int64 \n",
            " 2   bedrooms          545 non-null    int64 \n",
            " 3   bathrooms         545 non-null    int64 \n",
            " 4   stories           545 non-null    int64 \n",
            " 5   mainroad          545 non-null    object\n",
            " 6   guestroom         545 non-null    object\n",
            " 7   basement          545 non-null    object\n",
            " 8   hotwaterheating   545 non-null    object\n",
            " 9   airconditioning   545 non-null    object\n",
            " 10  parking           545 non-null    int64 \n",
            " 11  prefarea          545 non-null    object\n",
            " 12  furnishingstatus  545 non-null    object\n",
            "dtypes: int64(6), object(7)\n",
            "memory usage: 55.5+ KB\n"
          ]
        }
      ]
    },
    {
      "cell_type": "code",
      "source": [
        "#checking the unique values in the furnishingstatus column\n",
        "housedf.furnishingstatus.unique()"
      ],
      "metadata": {
        "id": "0jAMyFGnO9LK",
        "colab": {
          "base_uri": "https://localhost:8080/"
        },
        "outputId": "9b275693-8fb3-46b3-96a0-9865f0422bd6"
      },
      "execution_count": 7,
      "outputs": [
        {
          "output_type": "execute_result",
          "data": {
            "text/plain": [
              "array(['furnished', 'semi-furnished', 'unfurnished'], dtype=object)"
            ]
          },
          "metadata": {},
          "execution_count": 7
        }
      ]
    },
    {
      "cell_type": "markdown",
      "source": [
        "## Observations:\n",
        "\n",
        "* Data size is 545 rows and 13 columns\n",
        "\n",
        "*  6 columns have int data, 7 columns have object data\n",
        "\n",
        "* None of the columns has Null values\n",
        "\n",
        "* The columns: [ 'price', 'area', 'bedrooms', 'bathrooms', 'stories', 'parking' ] have numerical  values\n",
        "\n",
        "* The columns: [ 'mainroad', 'guestroom', 'basement', 'hotwaterheating', 'airconditioning' , 'prefarea' ] have yes/no values\n",
        "\n",
        "* The column: ['furnishingstatus'] has three values : 'furnished', 'semi-furnished' and 'unfurnished'"
      ],
      "metadata": {
        "id": "5prIZLLYK5NI"
      }
    },
    {
      "cell_type": "markdown",
      "source": [
        "\n",
        "\n",
        "---\n"
      ],
      "metadata": {
        "id": "ssO6jzjZtQbQ"
      }
    },
    {
      "cell_type": "markdown",
      "source": [
        "# Data Analysis"
      ],
      "metadata": {
        "id": "vQM_BvX-ULzN"
      }
    },
    {
      "cell_type": "markdown",
      "source": [
        "### Checking Correlation between variables\n",
        "**Correlation** is used to find relationship between different variables in the dataframe. The statistical relationship between two variables is referred to as their correlation.\n",
        "* A positive correlation means the variables move in the same direction.\n",
        "* A negative correlation means that the two variables are inversely related.\n",
        "* A neutral correlation means that the two variables have no relationship."
      ],
      "metadata": {
        "id": "xl-HBeCrRZyZ"
      }
    },
    {
      "cell_type": "code",
      "source": [
        "#finding the correlation using the corr() function\n",
        "#corr() function displays a correlation matrix of the dataframe\n",
        "coRel=round(housedf.corr(),2)\n",
        "coRel"
      ],
      "metadata": {
        "colab": {
          "base_uri": "https://localhost:8080/",
          "height": 237
        },
        "id": "DYmq1WaMtOJk",
        "outputId": "a4a76f23-c4a2-4083-f0c2-c440af50069e"
      },
      "execution_count": 8,
      "outputs": [
        {
          "output_type": "execute_result",
          "data": {
            "text/html": [
              "\n",
              "  <div id=\"df-1c04ad44-bd78-4bec-8bf3-f5a30d5cdf53\">\n",
              "    <div class=\"colab-df-container\">\n",
              "      <div>\n",
              "<style scoped>\n",
              "    .dataframe tbody tr th:only-of-type {\n",
              "        vertical-align: middle;\n",
              "    }\n",
              "\n",
              "    .dataframe tbody tr th {\n",
              "        vertical-align: top;\n",
              "    }\n",
              "\n",
              "    .dataframe thead th {\n",
              "        text-align: right;\n",
              "    }\n",
              "</style>\n",
              "<table border=\"1\" class=\"dataframe\">\n",
              "  <thead>\n",
              "    <tr style=\"text-align: right;\">\n",
              "      <th></th>\n",
              "      <th>price</th>\n",
              "      <th>area</th>\n",
              "      <th>bedrooms</th>\n",
              "      <th>bathrooms</th>\n",
              "      <th>stories</th>\n",
              "      <th>parking</th>\n",
              "    </tr>\n",
              "  </thead>\n",
              "  <tbody>\n",
              "    <tr>\n",
              "      <th>price</th>\n",
              "      <td>1.00</td>\n",
              "      <td>0.54</td>\n",
              "      <td>0.37</td>\n",
              "      <td>0.52</td>\n",
              "      <td>0.42</td>\n",
              "      <td>0.38</td>\n",
              "    </tr>\n",
              "    <tr>\n",
              "      <th>area</th>\n",
              "      <td>0.54</td>\n",
              "      <td>1.00</td>\n",
              "      <td>0.15</td>\n",
              "      <td>0.19</td>\n",
              "      <td>0.08</td>\n",
              "      <td>0.35</td>\n",
              "    </tr>\n",
              "    <tr>\n",
              "      <th>bedrooms</th>\n",
              "      <td>0.37</td>\n",
              "      <td>0.15</td>\n",
              "      <td>1.00</td>\n",
              "      <td>0.37</td>\n",
              "      <td>0.41</td>\n",
              "      <td>0.14</td>\n",
              "    </tr>\n",
              "    <tr>\n",
              "      <th>bathrooms</th>\n",
              "      <td>0.52</td>\n",
              "      <td>0.19</td>\n",
              "      <td>0.37</td>\n",
              "      <td>1.00</td>\n",
              "      <td>0.33</td>\n",
              "      <td>0.18</td>\n",
              "    </tr>\n",
              "    <tr>\n",
              "      <th>stories</th>\n",
              "      <td>0.42</td>\n",
              "      <td>0.08</td>\n",
              "      <td>0.41</td>\n",
              "      <td>0.33</td>\n",
              "      <td>1.00</td>\n",
              "      <td>0.05</td>\n",
              "    </tr>\n",
              "    <tr>\n",
              "      <th>parking</th>\n",
              "      <td>0.38</td>\n",
              "      <td>0.35</td>\n",
              "      <td>0.14</td>\n",
              "      <td>0.18</td>\n",
              "      <td>0.05</td>\n",
              "      <td>1.00</td>\n",
              "    </tr>\n",
              "  </tbody>\n",
              "</table>\n",
              "</div>\n",
              "      <button class=\"colab-df-convert\" onclick=\"convertToInteractive('df-1c04ad44-bd78-4bec-8bf3-f5a30d5cdf53')\"\n",
              "              title=\"Convert this dataframe to an interactive table.\"\n",
              "              style=\"display:none;\">\n",
              "        \n",
              "  <svg xmlns=\"http://www.w3.org/2000/svg\" height=\"24px\"viewBox=\"0 0 24 24\"\n",
              "       width=\"24px\">\n",
              "    <path d=\"M0 0h24v24H0V0z\" fill=\"none\"/>\n",
              "    <path d=\"M18.56 5.44l.94 2.06.94-2.06 2.06-.94-2.06-.94-.94-2.06-.94 2.06-2.06.94zm-11 1L8.5 8.5l.94-2.06 2.06-.94-2.06-.94L8.5 2.5l-.94 2.06-2.06.94zm10 10l.94 2.06.94-2.06 2.06-.94-2.06-.94-.94-2.06-.94 2.06-2.06.94z\"/><path d=\"M17.41 7.96l-1.37-1.37c-.4-.4-.92-.59-1.43-.59-.52 0-1.04.2-1.43.59L10.3 9.45l-7.72 7.72c-.78.78-.78 2.05 0 2.83L4 21.41c.39.39.9.59 1.41.59.51 0 1.02-.2 1.41-.59l7.78-7.78 2.81-2.81c.8-.78.8-2.07 0-2.86zM5.41 20L4 18.59l7.72-7.72 1.47 1.35L5.41 20z\"/>\n",
              "  </svg>\n",
              "      </button>\n",
              "      \n",
              "  <style>\n",
              "    .colab-df-container {\n",
              "      display:flex;\n",
              "      flex-wrap:wrap;\n",
              "      gap: 12px;\n",
              "    }\n",
              "\n",
              "    .colab-df-convert {\n",
              "      background-color: #E8F0FE;\n",
              "      border: none;\n",
              "      border-radius: 50%;\n",
              "      cursor: pointer;\n",
              "      display: none;\n",
              "      fill: #1967D2;\n",
              "      height: 32px;\n",
              "      padding: 0 0 0 0;\n",
              "      width: 32px;\n",
              "    }\n",
              "\n",
              "    .colab-df-convert:hover {\n",
              "      background-color: #E2EBFA;\n",
              "      box-shadow: 0px 1px 2px rgba(60, 64, 67, 0.3), 0px 1px 3px 1px rgba(60, 64, 67, 0.15);\n",
              "      fill: #174EA6;\n",
              "    }\n",
              "\n",
              "    [theme=dark] .colab-df-convert {\n",
              "      background-color: #3B4455;\n",
              "      fill: #D2E3FC;\n",
              "    }\n",
              "\n",
              "    [theme=dark] .colab-df-convert:hover {\n",
              "      background-color: #434B5C;\n",
              "      box-shadow: 0px 1px 3px 1px rgba(0, 0, 0, 0.15);\n",
              "      filter: drop-shadow(0px 1px 2px rgba(0, 0, 0, 0.3));\n",
              "      fill: #FFFFFF;\n",
              "    }\n",
              "  </style>\n",
              "\n",
              "      <script>\n",
              "        const buttonEl =\n",
              "          document.querySelector('#df-1c04ad44-bd78-4bec-8bf3-f5a30d5cdf53 button.colab-df-convert');\n",
              "        buttonEl.style.display =\n",
              "          google.colab.kernel.accessAllowed ? 'block' : 'none';\n",
              "\n",
              "        async function convertToInteractive(key) {\n",
              "          const element = document.querySelector('#df-1c04ad44-bd78-4bec-8bf3-f5a30d5cdf53');\n",
              "          const dataTable =\n",
              "            await google.colab.kernel.invokeFunction('convertToInteractive',\n",
              "                                                     [key], {});\n",
              "          if (!dataTable) return;\n",
              "\n",
              "          const docLinkHtml = 'Like what you see? Visit the ' +\n",
              "            '<a target=\"_blank\" href=https://colab.research.google.com/notebooks/data_table.ipynb>data table notebook</a>'\n",
              "            + ' to learn more about interactive tables.';\n",
              "          element.innerHTML = '';\n",
              "          dataTable['output_type'] = 'display_data';\n",
              "          await google.colab.output.renderOutput(dataTable, element);\n",
              "          const docLink = document.createElement('div');\n",
              "          docLink.innerHTML = docLinkHtml;\n",
              "          element.appendChild(docLink);\n",
              "        }\n",
              "      </script>\n",
              "    </div>\n",
              "  </div>\n",
              "  "
            ],
            "text/plain": [
              "           price  area  bedrooms  bathrooms  stories  parking\n",
              "price       1.00  0.54      0.37       0.52     0.42     0.38\n",
              "area        0.54  1.00      0.15       0.19     0.08     0.35\n",
              "bedrooms    0.37  0.15      1.00       0.37     0.41     0.14\n",
              "bathrooms   0.52  0.19      0.37       1.00     0.33     0.18\n",
              "stories     0.42  0.08      0.41       0.33     1.00     0.05\n",
              "parking     0.38  0.35      0.14       0.18     0.05     1.00"
            ]
          },
          "metadata": {},
          "execution_count": 8
        }
      ]
    },
    {
      "cell_type": "markdown",
      "source": [
        "Visualizin the above Correlation matrix of the dataframe using seaborn heatmap."
      ],
      "metadata": {
        "id": "ncN29D9eSYk-"
      }
    },
    {
      "cell_type": "code",
      "source": [
        "#using sns heatmap to plot the correlation matrix coRel\n",
        "\n",
        "plt.figure(figsize= (7,7)) #size of figure\n",
        "\n",
        "#annot displays the correlation data in each box of heatmap\n",
        "sns.heatmap(coRel,annot=True,linewidths=0.5, linecolor='green')\n",
        "plt.show()"
      ],
      "metadata": {
        "colab": {
          "base_uri": "https://localhost:8080/",
          "height": 432
        },
        "id": "Uo6p7tjAt8ie",
        "outputId": "d3e3d287-42e9-45b9-ac1f-bc36e79286f1"
      },
      "execution_count": 9,
      "outputs": [
        {
          "output_type": "display_data",
          "data": {
            "image/png": "[encoded data removed]",
            "text/plain": [
              "<Figure size 504x504 with 2 Axes>"
            ]
          },
          "metadata": {
            "needs_background": "light"
          }
        }
      ]
    },
    {
      "cell_type": "markdown",
      "source": [
        "---\n",
        "Plotting a Relation Plot between the price and area of housing. This shows the relationship between the two varaibles more clearly."
      ],
      "metadata": {
        "id": "g5URQekoTLI2"
      }
    },
    {
      "cell_type": "markdown",
      "source": [
        "From below plot, we can observe that the price of house increases with increase in area. These two variables are positively correlated."
      ],
      "metadata": {
        "id": "nZTK8Fa6Tmd3"
      }
    },
    {
      "cell_type": "code",
      "source": [
        "# using the seaborn relplot to plot a scatter plot between area and price\n",
        "\n",
        "sns.relplot(data = housedf, x = 'area', y = 'price')\n",
        "plt.show()"
      ],
      "metadata": {
        "colab": {
          "base_uri": "https://localhost:8080/",
          "height": 369
        },
        "id": "As_ITOWj_gP4",
        "outputId": "3c386570-afef-4bc4-e683-8d1df4540621"
      },
      "execution_count": 10,
      "outputs": [
        {
          "output_type": "display_data",
          "data": {
            "image/png": "[encoded data removed]",
            "text/plain": [
              "<Figure size 360x360 with 1 Axes>"
            ]
          },
          "metadata": {
            "needs_background": "light"
          }
        }
      ]
    },
    {
      "cell_type": "markdown",
      "source": [
        "Checking the relation of price with other independent variable as well. Visualizing the relation using scatter plot."
      ],
      "metadata": {
        "id": "lhGV2U9uUhBS"
      }
    },
    {
      "cell_type": "code",
      "source": [
        "#using seaborn scatter plot\n",
        "#using subplot to plot multiple plots on one figure\n",
        "\n",
        "plt.figure(figsize=(10,10))\n",
        "\n",
        "#making a plot figure having 2 rows and 2 columns to fit 4 plots\n",
        "\n",
        "plt.subplot(2,2,1) #2 rows, 2 columns , 1st index\n",
        "#bedrooms against price\n",
        "sns.scatterplot(data = housedf, x = 'bedrooms', y = 'price')\n",
        "\n",
        "plt.subplot(2,2,2) #2 rows, 2 columns , 2nd index\n",
        "#bathrooms against price\n",
        "sns.scatterplot(data = housedf, x = 'bathrooms', y = 'price')\n",
        "\n",
        "plt.subplot(2,2,3) #2 rows, 2 columns , 3rd index\n",
        "#stories against price\n",
        "sns.scatterplot(data = housedf, x = 'stories', y = 'price')\n",
        "\n",
        "plt.subplot(2,2,4) #2 rows, 2 columns , 4th index\n",
        "#parking against price\n",
        "sns.scatterplot(data = housedf, x = 'parking', y = 'price')\n",
        "\n",
        "plt.show()"
      ],
      "metadata": {
        "colab": {
          "base_uri": "https://localhost:8080/",
          "height": 616
        },
        "id": "iZ2n3uBS_u1U",
        "outputId": "eb45834b-b088-4d0b-a42b-f796c617b571"
      },
      "execution_count": 11,
      "outputs": [
        {
          "output_type": "display_data",
          "data": {
            "image/png": "[encoded data removed]",
            "text/plain": [
              "<Figure size 720x720 with 4 Axes>"
            ]
          },
          "metadata": {
            "needs_background": "light"
          }
        }
      ]
    },
    {
      "cell_type": "markdown",
      "source": [
        "**Box Plot** <br>\n",
        "Box plot displays the five number summary of a set of data. The five number summary is minimum, first quartile, median, third quartile and maximum.<br>\n",
        "In a box plot, the box represents the first quartile to the third quartile. A vertical line goes through the box at the median. The whiskers go from each quartile to the minimum or maximum.<br><br>\n",
        "Plotting box plots of price and area."
      ],
      "metadata": {
        "id": "o_Nla_KDXyy6"
      }
    },
    {
      "cell_type": "code",
      "source": [
        "#using subplot to plot two plots in one figure\n",
        "\n",
        "plt.figure(figsize=(15,4))\n",
        "\n",
        "plt.subplot(1,2,1) #2 rows 3 cols 1st index\n",
        "sns.boxplot(x='price',data=housedf)\n",
        "\n",
        "plt.subplot(1,2,2) #2 rows 3 cols 2nd index\n",
        "sns.boxplot(x='area',data=housedf)\n",
        "\n",
        "plt.show()"
      ],
      "metadata": {
        "colab": {
          "base_uri": "https://localhost:8080/",
          "height": 279
        },
        "id": "zBAjtGLZwaq-",
        "outputId": "20d8087a-c918-40aa-e252-e93977f8c6e6"
      },
      "execution_count": 12,
      "outputs": [
        {
          "output_type": "display_data",
          "data": {
            "image/png": "[encoded data removed]",
            "text/plain": [
              "<Figure size 1080x288 with 2 Axes>"
            ]
          },
          "metadata": {
            "needs_background": "light"
          }
        }
      ]
    },
    {
      "cell_type": "markdown",
      "source": [
        "From above box plot, we can visualize some outliers in both price and area.\n",
        "\n",
        "---\n",
        "\n"
      ],
      "metadata": {
        "id": "YvKPCMkNbZEC"
      }
    },
    {
      "cell_type": "markdown",
      "source": [
        "**Histogram Plot** <br>\n",
        "Histogram is a graph used to visualize the frequency distribution of a set of data. It is also used for inspection of the data to detect its underlying distribution, outliers, skewness, etc.<br><br>\n",
        "Plotting the histogram of price and area.\n"
      ],
      "metadata": {
        "id": "85NmBNglafPM"
      }
    },
    {
      "cell_type": "code",
      "source": [
        "#plotting histogram using seaborn histplot\n",
        "\n",
        "plt.figure(figsize=(10,8))\n",
        "plt.subplot(2,1,1)\n",
        "sns.histplot(x='price',data = housedf)\n",
        "plt.subplot(2,1,2)\n",
        "sns.histplot(x='area',data = housedf)\n",
        "\n",
        "plt.show()"
      ],
      "metadata": {
        "colab": {
          "base_uri": "https://localhost:8080/",
          "height": 497
        },
        "id": "lKY-rw0Zx8vx",
        "outputId": "9686e406-f7dc-4d0c-8564-1e47418193c2"
      },
      "execution_count": 13,
      "outputs": [
        {
          "output_type": "display_data",
          "data": {
            "image/png": "[encoded data removed]",
            "text/plain": [
              "<Figure size 720x576 with 2 Axes>"
            ]
          },
          "metadata": {
            "needs_background": "light"
          }
        }
      ]
    },
    {
      "cell_type": "markdown",
      "source": [
        "From above histogram plot we can observe that both price and area is positively skewed. We can also observe some outliers in the data.\n",
        "\n",
        "---\n",
        "\n"
      ],
      "metadata": {
        "id": "Yg9xlfsbb2Eo"
      }
    },
    {
      "cell_type": "markdown",
      "source": [
        "### Plotting box plots of categorical data variables against the price\n",
        "This helps to visualize the change in price of house with the change in status of the independent variable."
      ],
      "metadata": {
        "id": "KzoT6-UMcQKR"
      }
    },
    {
      "cell_type": "code",
      "source": [
        "#using seaborn boxplot\n",
        "#plotting multiple graphs using subplot\n",
        "\n",
        "plt.figure(figsize=(16, 12))\n",
        "\n",
        "plt.subplot(2,3,1) #2 rows, 3 columns, 1st index\n",
        "# mainroad against price\n",
        "sns.boxplot(x = 'mainroad', y = 'price', data = housedf)\n",
        "\n",
        "plt.subplot(2,3,2) #2nd index\n",
        "# guestroom against price\n",
        "sns.boxplot(x = 'guestroom', y = 'price', data = housedf)\n",
        "\n",
        "plt.subplot(2,3,3) #3rd index\n",
        "# basement against price\n",
        "sns.boxplot(x = 'basement', y = 'price', data = housedf)\n",
        "\n",
        "plt.subplot(2,3,4) #4th index\n",
        "# hotwaterheating against price\n",
        "sns.boxplot(x = 'hotwaterheating', y = 'price', data = housedf)\n",
        "\n",
        "plt.subplot(2,3,5) #5th index\n",
        "# airconditioning against price\n",
        "sns.boxplot(x = 'airconditioning', y = 'price', data = housedf)\n",
        "\n",
        "plt.subplot(2,3,6) #6th index\n",
        "# furnishingstatus against price\n",
        "sns.boxplot(x = 'furnishingstatus', y = 'price', data = housedf)\n",
        "\n",
        "plt.show()"
      ],
      "metadata": {
        "colab": {
          "base_uri": "https://localhost:8080/",
          "height": 725
        },
        "id": "h4WnwioQ01qF",
        "outputId": "3cf414ec-db5d-4b33-a808-0f6563e148aa"
      },
      "execution_count": 14,
      "outputs": [
        {
          "output_type": "display_data",
          "data": {
            "image/png": "[encoded data removed]",
            "text/plain": [
              "<Figure size 1152x864 with 6 Axes>"
            ]
          },
          "metadata": {
            "needs_background": "light"
          }
        }
      ]
    },
    {
      "cell_type": "markdown",
      "source": [
        "\n",
        "\n",
        "---\n",
        "\n",
        "**Count Plot**<br>\n",
        "Count plot helps to visulaize the count of each category of data in the set of data. It is like a histogram for categorical data."
      ],
      "metadata": {
        "id": "YRrn_w9RdzHB"
      }
    },
    {
      "cell_type": "code",
      "source": [
        "#using count plot from seaborn\n",
        "\n",
        "#creating a figure with 2 rows and 3 columns to fit six plots\n",
        "plt.figure(figsize=(15, 10))\n",
        "\n",
        "plt.subplot(2,3,1) #1st index\n",
        "sns.countplot(x = 'mainroad', data = housedf)\n",
        "\n",
        "plt.subplot(2,3,2) #2nd index\n",
        "sns.countplot(x = 'guestroom', data = housedf)\n",
        "\n",
        "plt.subplot(2,3,3) #3rd index\n",
        "sns.countplot(x = 'basement', data = housedf)\n",
        "\n",
        "plt.subplot(2,3,4) #4th index\n",
        "sns.countplot(x = 'hotwaterheating', data = housedf)\n",
        "\n",
        "plt.subplot(2,3,5) #5th index\n",
        "sns.countplot(x = 'airconditioning',  data = housedf)\n",
        "\n",
        "plt.subplot(2,3,6) #6th index\n",
        "sns.countplot(x = 'furnishingstatus', data = housedf)\n",
        "\n",
        "plt.show()"
      ],
      "metadata": {
        "colab": {
          "base_uri": "https://localhost:8080/",
          "height": 606
        },
        "id": "3WgeHH8E7oUc",
        "outputId": "965166da-9d5f-436c-f655-c0c65165f3eb"
      },
      "execution_count": 15,
      "outputs": [
        {
          "output_type": "display_data",
          "data": {
            "image/png": "[encoded data removed]",
            "text/plain": [
              "<Figure size 1080x720 with 6 Axes>"
            ]
          },
          "metadata": {
            "needs_background": "light"
          }
        }
      ]
    },
    {
      "cell_type": "markdown",
      "source": [
        "\n",
        "\n",
        "---\n",
        "\n"
      ],
      "metadata": {
        "id": "sl2mm8VPevAm"
      }
    },
    {
      "cell_type": "markdown",
      "source": [
        "## Data Transformation\n",
        "\n",
        "Using LabelEncoder to normaize categorical data. LabelEncoder labels the categorical data with values between 0 and nclasses-1 (n is the no of distinct labels)<br>\n",
        "Eg. LabelEncoder encodes yes to 1 and no to 0"
      ],
      "metadata": {
        "id": "0M84cVqrewLg"
      }
    },
    {
      "cell_type": "code",
      "source": [
        "# Using LabelEncoder to Encode all the categorical data to nominal data\n",
        "from sklearn.preprocessing import LabelEncoder\n",
        "\n",
        "#making instance of LabelEncoder\n",
        "lEncoder = LabelEncoder()\n",
        "\n",
        "#encoding all categorical data\n",
        "housedf.mainroad = lEncoder.fit_transform(housedf.mainroad)\n",
        "housedf.guestroom = lEncoder.fit_transform(housedf.guestroom)\n",
        "housedf.basement = lEncoder.fit_transform(housedf.basement)\n",
        "housedf.hotwaterheating = lEncoder.fit_transform(housedf.hotwaterheating)\n",
        "housedf.airconditioning = lEncoder.fit_transform(housedf.airconditioning)\n",
        "housedf.prefarea = lEncoder.fit_transform(housedf.prefarea)"
      ],
      "metadata": {
        "id": "nCwIg8cUhvQd"
      },
      "execution_count": 16,
      "outputs": []
    },
    {
      "cell_type": "code",
      "source": [
        "#viewing the encoded dataframe\n",
        "\n",
        "housedf.head()"
      ],
      "metadata": {
        "colab": {
          "base_uri": "https://localhost:8080/",
          "height": 250
        },
        "id": "gC6dB7VQOVlz",
        "outputId": "5dd9edfd-6b07-4a53-a1a0-5b005049a4d7"
      },
      "execution_count": null,
      "outputs": [
        {
          "output_type": "execute_result",
          "data": {
            "text/html": [
              "\n",
              "  <div id=\"df-2823a7a3-735a-4ed4-a8fa-3d29413db755\">\n",
              "    <div class=\"colab-df-container\">\n",
              "      <div>\n",
              "<style scoped>\n",
              "    .dataframe tbody tr th:only-of-type {\n",
              "        vertical-align: middle;\n",
              "    }\n",
              "\n",
              "    .dataframe tbody tr th {\n",
              "        vertical-align: top;\n",
              "    }\n",
              "\n",
              "    .dataframe thead th {\n",
              "        text-align: right;\n",
              "    }\n",
              "</style>\n",
              "<table border=\"1\" class=\"dataframe\">\n",
              "  <thead>\n",
              "    <tr style=\"text-align: right;\">\n",
              "      <th></th>\n",
              "      <th>price</th>\n",
              "      <th>area</th>\n",
              "      <th>bedrooms</th>\n",
              "      <th>bathrooms</th>\n",
              "      <th>stories</th>\n",
              "      <th>mainroad</th>\n",
              "      <th>guestroom</th>\n",
              "      <th>basement</th>\n",
              "      <th>hotwaterheating</th>\n",
              "      <th>airconditioning</th>\n",
              "      <th>parking</th>\n",
              "      <th>prefarea</th>\n",
              "      <th>furnishingstatus</th>\n",
              "    </tr>\n",
              "  </thead>\n",
              "  <tbody>\n",
              "    <tr>\n",
              "      <th>0</th>\n",
              "      <td>13300000</td>\n",
              "      <td>7420</td>\n",
              "      <td>4</td>\n",
              "      <td>2</td>\n",
              "      <td>3</td>\n",
              "      <td>1</td>\n",
              "      <td>0</td>\n",
              "      <td>0</td>\n",
              "      <td>0</td>\n",
              "      <td>1</td>\n",
              "      <td>2</td>\n",
              "      <td>1</td>\n",
              "      <td>furnished</td>\n",
              "    </tr>\n",
              "    <tr>\n",
              "      <th>1</th>\n",
              "      <td>12250000</td>\n",
              "      <td>8960</td>\n",
              "      <td>4</td>\n",
              "      <td>4</td>\n",
              "      <td>4</td>\n",
              "      <td>1</td>\n",
              "      <td>0</td>\n",
              "      <td>0</td>\n",
              "      <td>0</td>\n",
              "      <td>1</td>\n",
              "      <td>3</td>\n",
              "      <td>0</td>\n",
              "      <td>furnished</td>\n",
              "    </tr>\n",
              "    <tr>\n",
              "      <th>2</th>\n",
              "      <td>12250000</td>\n",
              "      <td>9960</td>\n",
              "      <td>3</td>\n",
              "      <td>2</td>\n",
              "      <td>2</td>\n",
              "      <td>1</td>\n",
              "      <td>0</td>\n",
              "      <td>1</td>\n",
              "      <td>0</td>\n",
              "      <td>0</td>\n",
              "      <td>2</td>\n",
              "      <td>1</td>\n",
              "      <td>semi-furnished</td>\n",
              "    </tr>\n",
              "    <tr>\n",
              "      <th>3</th>\n",
              "      <td>12215000</td>\n",
              "      <td>7500</td>\n",
              "      <td>4</td>\n",
              "      <td>2</td>\n",
              "      <td>2</td>\n",
              "      <td>1</td>\n",
              "      <td>0</td>\n",
              "      <td>1</td>\n",
              "      <td>0</td>\n",
              "      <td>1</td>\n",
              "      <td>3</td>\n",
              "      <td>1</td>\n",
              "      <td>furnished</td>\n",
              "    </tr>\n",
              "    <tr>\n",
              "      <th>4</th>\n",
              "      <td>11410000</td>\n",
              "      <td>7420</td>\n",
              "      <td>4</td>\n",
              "      <td>1</td>\n",
              "      <td>2</td>\n",
              "      <td>1</td>\n",
              "      <td>1</td>\n",
              "      <td>1</td>\n",
              "      <td>0</td>\n",
              "      <td>1</td>\n",
              "      <td>2</td>\n",
              "      <td>0</td>\n",
              "      <td>furnished</td>\n",
              "    </tr>\n",
              "  </tbody>\n",
              "</table>\n",
              "</div>\n",
              "      <button class=\"colab-df-convert\" onclick=\"convertToInteractive('df-2823a7a3-735a-4ed4-a8fa-3d29413db755')\"\n",
              "              title=\"Convert this dataframe to an interactive table.\"\n",
              "              style=\"display:none;\">\n",
              "        \n",
              "  <svg xmlns=\"http://www.w3.org/2000/svg\" height=\"24px\"viewBox=\"0 0 24 24\"\n",
              "       width=\"24px\">\n",
              "    <path d=\"M0 0h24v24H0V0z\" fill=\"none\"/>\n",
              "    <path d=\"M18.56 5.44l.94 2.06.94-2.06 2.06-.94-2.06-.94-.94-2.06-.94 2.06-2.06.94zm-11 1L8.5 8.5l.94-2.06 2.06-.94-2.06-.94L8.5 2.5l-.94 2.06-2.06.94zm10 10l.94 2.06.94-2.06 2.06-.94-2.06-.94-.94-2.06-.94 2.06-2.06.94z\"/><path d=\"M17.41 7.96l-1.37-1.37c-.4-.4-.92-.59-1.43-.59-.52 0-1.04.2-1.43.59L10.3 9.45l-7.72 7.72c-.78.78-.78 2.05 0 2.83L4 21.41c.39.39.9.59 1.41.59.51 0 1.02-.2 1.41-.59l7.78-7.78 2.81-2.81c.8-.78.8-2.07 0-2.86zM5.41 20L4 18.59l7.72-7.72 1.47 1.35L5.41 20z\"/>\n",
              "  </svg>\n",
              "      </button>\n",
              "      \n",
              "  <style>\n",
              "    .colab-df-container {\n",
              "      display:flex;\n",
              "      flex-wrap:wrap;\n",
              "      gap: 12px;\n",
              "    }\n",
              "\n",
              "    .colab-df-convert {\n",
              "      background-color: #E8F0FE;\n",
              "      border: none;\n",
              "      border-radius: 50%;\n",
              "      cursor: pointer;\n",
              "      display: none;\n",
              "      fill: #1967D2;\n",
              "      height: 32px;\n",
              "      padding: 0 0 0 0;\n",
              "      width: 32px;\n",
              "    }\n",
              "\n",
              "    .colab-df-convert:hover {\n",
              "      background-color: #E2EBFA;\n",
              "      box-shadow: 0px 1px 2px rgba(60, 64, 67, 0.3), 0px 1px 3px 1px rgba(60, 64, 67, 0.15);\n",
              "      fill: #174EA6;\n",
              "    }\n",
              "\n",
              "    [theme=dark] .colab-df-convert {\n",
              "      background-color: #3B4455;\n",
              "      fill: #D2E3FC;\n",
              "    }\n",
              "\n",
              "    [theme=dark] .colab-df-convert:hover {\n",
              "      background-color: #434B5C;\n",
              "      box-shadow: 0px 1px 3px 1px rgba(0, 0, 0, 0.15);\n",
              "      filter: drop-shadow(0px 1px 2px rgba(0, 0, 0, 0.3));\n",
              "      fill: #FFFFFF;\n",
              "    }\n",
              "  </style>\n",
              "\n",
              "      <script>\n",
              "        const buttonEl =\n",
              "          document.querySelector('#df-2823a7a3-735a-4ed4-a8fa-3d29413db755 button.colab-df-convert');\n",
              "        buttonEl.style.display =\n",
              "          google.colab.kernel.accessAllowed ? 'block' : 'none';\n",
              "\n",
              "        async function convertToInteractive(key) {\n",
              "          const element = document.querySelector('#df-2823a7a3-735a-4ed4-a8fa-3d29413db755');\n",
              "          const dataTable =\n",
              "            await google.colab.kernel.invokeFunction('convertToInteractive',\n",
              "                                                     [key], {});\n",
              "          if (!dataTable) return;\n",
              "\n",
              "          const docLinkHtml = 'Like what you see? Visit the ' +\n",
              "            '<a target=\"_blank\" href=https://colab.research.google.com/notebooks/data_table.ipynb>data table notebook</a>'\n",
              "            + ' to learn more about interactive tables.';\n",
              "          element.innerHTML = '';\n",
              "          dataTable['output_type'] = 'display_data';\n",
              "          await google.colab.output.renderOutput(dataTable, element);\n",
              "          const docLink = document.createElement('div');\n",
              "          docLink.innerHTML = docLinkHtml;\n",
              "          element.appendChild(docLink);\n",
              "        }\n",
              "      </script>\n",
              "    </div>\n",
              "  </div>\n",
              "  "
            ],
            "text/plain": [
              "      price  area  bedrooms  ...  parking  prefarea  furnishingstatus\n",
              "0  13300000  7420         4  ...        2         1         furnished\n",
              "1  12250000  8960         4  ...        3         0         furnished\n",
              "2  12250000  9960         3  ...        2         1    semi-furnished\n",
              "3  12215000  7500         4  ...        3         1         furnished\n",
              "4  11410000  7420         4  ...        2         0         furnished\n",
              "\n",
              "[5 rows x 13 columns]"
            ]
          },
          "metadata": {},
          "execution_count": 23
        }
      ]
    },
    {
      "cell_type": "markdown",
      "source": [
        "\n",
        "\n",
        "---\n",
        "\n"
      ],
      "metadata": {
        "id": "GrLFh7CKi5F9"
      }
    },
    {
      "cell_type": "markdown",
      "source": [
        "**Encoding the furnishingstatus column using OneHotEncoder**<br>\n",
        "The furnishingstatus column has three categories (furnished,un-furnished and semi-furnished). We could use LabelEncoder to encode the data to 0,1 and 2 but it has its disadvantages. Encoding the data to 0,1,2 can cause the model to assume that there is a hierarchy in the data. To avoid that we use OneHotEncoder to encode the three categories into 2 columns."
      ],
      "metadata": {
        "id": "NCAqDdl1iF-_"
      }
    },
    {
      "cell_type": "code",
      "source": [
        "#importing OneHotEncoder from sklearn.preprocessing\n",
        "from sklearn.preprocessing import OneHotEncoder\n",
        "\n",
        "#drop='first' drops the first category i.e. furnished\n",
        "ohEncoder = OneHotEncoder(sparse=False,drop='first',)\n",
        "\n",
        "#encodes the furnishingstatus column and saves it into a new dataframe with two columns\n",
        "encoded_df = pd.DataFrame(ohEncoder.fit_transform(housedf[['furnishingstatus']]))\n",
        "\n",
        "#sets the name of the columns \n",
        "encoded_df.columns = ohEncoder.get_feature_names(['furnishing'])\n",
        "\n",
        "encoded_df.head()\n"
      ],
      "metadata": {
        "colab": {
          "base_uri": "https://localhost:8080/",
          "height": 261
        },
        "id": "rzzI94McTkvu",
        "outputId": "50466623-2fef-4270-f90d-7da913e3a2e4"
      },
      "execution_count": 17,
      "outputs": [
        {
          "output_type": "stream",
          "name": "stderr",
          "text": [
            "/usr/local/lib/python3.7/dist-packages/sklearn/utils/deprecation.py:87: FutureWarning: Function get_feature_names is deprecated; get_feature_names is deprecated in 1.0 and will be removed in 1.2. Please use get_feature_names_out instead.\n",
            "  warnings.warn(msg, category=FutureWarning)\n"
          ]
        },
        {
          "output_type": "execute_result",
          "data": {
            "text/html": [
              "\n",
              "  <div id=\"df-c7463487-a653-461f-be09-1d0a43359aaf\">\n",
              "    <div class=\"colab-df-container\">\n",
              "      <div>\n",
              "<style scoped>\n",
              "    .dataframe tbody tr th:only-of-type {\n",
              "        vertical-align: middle;\n",
              "    }\n",
              "\n",
              "    .dataframe tbody tr th {\n",
              "        vertical-align: top;\n",
              "    }\n",
              "\n",
              "    .dataframe thead th {\n",
              "        text-align: right;\n",
              "    }\n",
              "</style>\n",
              "<table border=\"1\" class=\"dataframe\">\n",
              "  <thead>\n",
              "    <tr style=\"text-align: right;\">\n",
              "      <th></th>\n",
              "      <th>furnishing_semi-furnished</th>\n",
              "      <th>furnishing_unfurnished</th>\n",
              "    </tr>\n",
              "  </thead>\n",
              "  <tbody>\n",
              "    <tr>\n",
              "      <th>0</th>\n",
              "      <td>0.0</td>\n",
              "      <td>0.0</td>\n",
              "    </tr>\n",
              "    <tr>\n",
              "      <th>1</th>\n",
              "      <td>0.0</td>\n",
              "      <td>0.0</td>\n",
              "    </tr>\n",
              "    <tr>\n",
              "      <th>2</th>\n",
              "      <td>1.0</td>\n",
              "      <td>0.0</td>\n",
              "    </tr>\n",
              "    <tr>\n",
              "      <th>3</th>\n",
              "      <td>0.0</td>\n",
              "      <td>0.0</td>\n",
              "    </tr>\n",
              "    <tr>\n",
              "      <th>4</th>\n",
              "      <td>0.0</td>\n",
              "      <td>0.0</td>\n",
              "    </tr>\n",
              "  </tbody>\n",
              "</table>\n",
              "</div>\n",
              "      <button class=\"colab-df-convert\" onclick=\"convertToInteractive('df-c7463487-a653-461f-be09-1d0a43359aaf')\"\n",
              "              title=\"Convert this dataframe to an interactive table.\"\n",
              "              style=\"display:none;\">\n",
              "        \n",
              "  <svg xmlns=\"http://www.w3.org/2000/svg\" height=\"24px\"viewBox=\"0 0 24 24\"\n",
              "       width=\"24px\">\n",
              "    <path d=\"M0 0h24v24H0V0z\" fill=\"none\"/>\n",
              "    <path d=\"M18.56 5.44l.94 2.06.94-2.06 2.06-.94-2.06-.94-.94-2.06-.94 2.06-2.06.94zm-11 1L8.5 8.5l.94-2.06 2.06-.94-2.06-.94L8.5 2.5l-.94 2.06-2.06.94zm10 10l.94 2.06.94-2.06 2.06-.94-2.06-.94-.94-2.06-.94 2.06-2.06.94z\"/><path d=\"M17.41 7.96l-1.37-1.37c-.4-.4-.92-.59-1.43-.59-.52 0-1.04.2-1.43.59L10.3 9.45l-7.72 7.72c-.78.78-.78 2.05 0 2.83L4 21.41c.39.39.9.59 1.41.59.51 0 1.02-.2 1.41-.59l7.78-7.78 2.81-2.81c.8-.78.8-2.07 0-2.86zM5.41 20L4 18.59l7.72-7.72 1.47 1.35L5.41 20z\"/>\n",
              "  </svg>\n",
              "      </button>\n",
              "      \n",
              "  <style>\n",
              "    .colab-df-container {\n",
              "      display:flex;\n",
              "      flex-wrap:wrap;\n",
              "      gap: 12px;\n",
              "    }\n",
              "\n",
              "    .colab-df-convert {\n",
              "      background-color: #E8F0FE;\n",
              "      border: none;\n",
              "      border-radius: 50%;\n",
              "      cursor: pointer;\n",
              "      display: none;\n",
              "      fill: #1967D2;\n",
              "      height: 32px;\n",
              "      padding: 0 0 0 0;\n",
              "      width: 32px;\n",
              "    }\n",
              "\n",
              "    .colab-df-convert:hover {\n",
              "      background-color: #E2EBFA;\n",
              "      box-shadow: 0px 1px 2px rgba(60, 64, 67, 0.3), 0px 1px 3px 1px rgba(60, 64, 67, 0.15);\n",
              "      fill: #174EA6;\n",
              "    }\n",
              "\n",
              "    [theme=dark] .colab-df-convert {\n",
              "      background-color: #3B4455;\n",
              "      fill: #D2E3FC;\n",
              "    }\n",
              "\n",
              "    [theme=dark] .colab-df-convert:hover {\n",
              "      background-color: #434B5C;\n",
              "      box-shadow: 0px 1px 3px 1px rgba(0, 0, 0, 0.15);\n",
              "      filter: drop-shadow(0px 1px 2px rgba(0, 0, 0, 0.3));\n",
              "      fill: #FFFFFF;\n",
              "    }\n",
              "  </style>\n",
              "\n",
              "      <script>\n",
              "        const buttonEl =\n",
              "          document.querySelector('#df-c7463487-a653-461f-be09-1d0a43359aaf button.colab-df-convert');\n",
              "        buttonEl.style.display =\n",
              "          google.colab.kernel.accessAllowed ? 'block' : 'none';\n",
              "\n",
              "        async function convertToInteractive(key) {\n",
              "          const element = document.querySelector('#df-c7463487-a653-461f-be09-1d0a43359aaf');\n",
              "          const dataTable =\n",
              "            await google.colab.kernel.invokeFunction('convertToInteractive',\n",
              "                                                     [key], {});\n",
              "          if (!dataTable) return;\n",
              "\n",
              "          const docLinkHtml = 'Like what you see? Visit the ' +\n",
              "            '<a target=\"_blank\" href=https://colab.research.google.com/notebooks/data_table.ipynb>data table notebook</a>'\n",
              "            + ' to learn more about interactive tables.';\n",
              "          element.innerHTML = '';\n",
              "          dataTable['output_type'] = 'display_data';\n",
              "          await google.colab.output.renderOutput(dataTable, element);\n",
              "          const docLink = document.createElement('div');\n",
              "          docLink.innerHTML = docLinkHtml;\n",
              "          element.appendChild(docLink);\n",
              "        }\n",
              "      </script>\n",
              "    </div>\n",
              "  </div>\n",
              "  "
            ],
            "text/plain": [
              "   furnishing_semi-furnished  furnishing_unfurnished\n",
              "0                        0.0                     0.0\n",
              "1                        0.0                     0.0\n",
              "2                        1.0                     0.0\n",
              "3                        0.0                     0.0\n",
              "4                        0.0                     0.0"
            ]
          },
          "metadata": {},
          "execution_count": 17
        }
      ]
    },
    {
      "cell_type": "markdown",
      "source": [
        "Here a dataframe with two columns are made [furnishing_semi-furnished and furnishing_unfurnished] . <br>\n",
        "The category furnished is dropped as it is not required. When both semi-furnished and unfurnised are 0 it means furnished is 1."
      ],
      "metadata": {
        "id": "7vZhHmSHkQjk"
      }
    },
    {
      "cell_type": "code",
      "source": [
        "#adding the new columns to the main dataframe using concat function of pandas\n",
        "housedf = pd.concat([housedf,encoded_df], axis = 1)\n",
        "\n",
        "#deleting the furnishingstatus column from dataframe\n",
        "housedf.drop(['furnishingstatus'], axis =1, inplace = True)\n",
        "\n",
        "#checking the updated dataframe\n",
        "housedf.head()"
      ],
      "metadata": {
        "colab": {
          "base_uri": "https://localhost:8080/",
          "height": 287
        },
        "id": "b581Ri4-XUnr",
        "outputId": "62e280f6-4f9b-4a91-fa15-11c156008838"
      },
      "execution_count": 18,
      "outputs": [
        {
          "output_type": "execute_result",
          "data": {
            "text/html": [
              "\n",
              "  <div id=\"df-ca58b28c-d397-48ce-b8ba-80174506d60b\">\n",
              "    <div class=\"colab-df-container\">\n",
              "      <div>\n",
              "<style scoped>\n",
              "    .dataframe tbody tr th:only-of-type {\n",
              "        vertical-align: middle;\n",
              "    }\n",
              "\n",
              "    .dataframe tbody tr th {\n",
              "        vertical-align: top;\n",
              "    }\n",
              "\n",
              "    .dataframe thead th {\n",
              "        text-align: right;\n",
              "    }\n",
              "</style>\n",
              "<table border=\"1\" class=\"dataframe\">\n",
              "  <thead>\n",
              "    <tr style=\"text-align: right;\">\n",
              "      <th></th>\n",
              "      <th>price</th>\n",
              "      <th>area</th>\n",
              "      <th>bedrooms</th>\n",
              "      <th>bathrooms</th>\n",
              "      <th>stories</th>\n",
              "      <th>mainroad</th>\n",
              "      <th>guestroom</th>\n",
              "      <th>basement</th>\n",
              "      <th>hotwaterheating</th>\n",
              "      <th>airconditioning</th>\n",
              "      <th>parking</th>\n",
              "      <th>prefarea</th>\n",
              "      <th>furnishing_semi-furnished</th>\n",
              "      <th>furnishing_unfurnished</th>\n",
              "    </tr>\n",
              "  </thead>\n",
              "  <tbody>\n",
              "    <tr>\n",
              "      <th>0</th>\n",
              "      <td>13300000</td>\n",
              "      <td>7420</td>\n",
              "      <td>4</td>\n",
              "      <td>2</td>\n",
              "      <td>3</td>\n",
              "      <td>1</td>\n",
              "      <td>0</td>\n",
              "      <td>0</td>\n",
              "      <td>0</td>\n",
              "      <td>1</td>\n",
              "      <td>2</td>\n",
              "      <td>1</td>\n",
              "      <td>0.0</td>\n",
              "      <td>0.0</td>\n",
              "    </tr>\n",
              "    <tr>\n",
              "      <th>1</th>\n",
              "      <td>12250000</td>\n",
              "      <td>8960</td>\n",
              "      <td>4</td>\n",
              "      <td>4</td>\n",
              "      <td>4</td>\n",
              "      <td>1</td>\n",
              "      <td>0</td>\n",
              "      <td>0</td>\n",
              "      <td>0</td>\n",
              "      <td>1</td>\n",
              "      <td>3</td>\n",
              "      <td>0</td>\n",
              "      <td>0.0</td>\n",
              "      <td>0.0</td>\n",
              "    </tr>\n",
              "    <tr>\n",
              "      <th>2</th>\n",
              "      <td>12250000</td>\n",
              "      <td>9960</td>\n",
              "      <td>3</td>\n",
              "      <td>2</td>\n",
              "      <td>2</td>\n",
              "      <td>1</td>\n",
              "      <td>0</td>\n",
              "      <td>1</td>\n",
              "      <td>0</td>\n",
              "      <td>0</td>\n",
              "      <td>2</td>\n",
              "      <td>1</td>\n",
              "      <td>1.0</td>\n",
              "      <td>0.0</td>\n",
              "    </tr>\n",
              "    <tr>\n",
              "      <th>3</th>\n",
              "      <td>12215000</td>\n",
              "      <td>7500</td>\n",
              "      <td>4</td>\n",
              "      <td>2</td>\n",
              "      <td>2</td>\n",
              "      <td>1</td>\n",
              "      <td>0</td>\n",
              "      <td>1</td>\n",
              "      <td>0</td>\n",
              "      <td>1</td>\n",
              "      <td>3</td>\n",
              "      <td>1</td>\n",
              "      <td>0.0</td>\n",
              "      <td>0.0</td>\n",
              "    </tr>\n",
              "    <tr>\n",
              "      <th>4</th>\n",
              "      <td>11410000</td>\n",
              "      <td>7420</td>\n",
              "      <td>4</td>\n",
              "      <td>1</td>\n",
              "      <td>2</td>\n",
              "      <td>1</td>\n",
              "      <td>1</td>\n",
              "      <td>1</td>\n",
              "      <td>0</td>\n",
              "      <td>1</td>\n",
              "      <td>2</td>\n",
              "      <td>0</td>\n",
              "      <td>0.0</td>\n",
              "      <td>0.0</td>\n",
              "    </tr>\n",
              "  </tbody>\n",
              "</table>\n",
              "</div>\n",
              "      <button class=\"colab-df-convert\" onclick=\"convertToInteractive('df-ca58b28c-d397-48ce-b8ba-80174506d60b')\"\n",
              "              title=\"Convert this dataframe to an interactive table.\"\n",
              "              style=\"display:none;\">\n",
              "        \n",
              "  <svg xmlns=\"http://www.w3.org/2000/svg\" height=\"24px\"viewBox=\"0 0 24 24\"\n",
              "       width=\"24px\">\n",
              "    <path d=\"M0 0h24v24H0V0z\" fill=\"none\"/>\n",
              "    <path d=\"M18.56 5.44l.94 2.06.94-2.06 2.06-.94-2.06-.94-.94-2.06-.94 2.06-2.06.94zm-11 1L8.5 8.5l.94-2.06 2.06-.94-2.06-.94L8.5 2.5l-.94 2.06-2.06.94zm10 10l.94 2.06.94-2.06 2.06-.94-2.06-.94-.94-2.06-.94 2.06-2.06.94z\"/><path d=\"M17.41 7.96l-1.37-1.37c-.4-.4-.92-.59-1.43-.59-.52 0-1.04.2-1.43.59L10.3 9.45l-7.72 7.72c-.78.78-.78 2.05 0 2.83L4 21.41c.39.39.9.59 1.41.59.51 0 1.02-.2 1.41-.59l7.78-7.78 2.81-2.81c.8-.78.8-2.07 0-2.86zM5.41 20L4 18.59l7.72-7.72 1.47 1.35L5.41 20z\"/>\n",
              "  </svg>\n",
              "      </button>\n",
              "      \n",
              "  <style>\n",
              "    .colab-df-container {\n",
              "      display:flex;\n",
              "      flex-wrap:wrap;\n",
              "      gap: 12px;\n",
              "    }\n",
              "\n",
              "    .colab-df-convert {\n",
              "      background-color: #E8F0FE;\n",
              "      border: none;\n",
              "      border-radius: 50%;\n",
              "      cursor: pointer;\n",
              "      display: none;\n",
              "      fill: #1967D2;\n",
              "      height: 32px;\n",
              "      padding: 0 0 0 0;\n",
              "      width: 32px;\n",
              "    }\n",
              "\n",
              "    .colab-df-convert:hover {\n",
              "      background-color: #E2EBFA;\n",
              "      box-shadow: 0px 1px 2px rgba(60, 64, 67, 0.3), 0px 1px 3px 1px rgba(60, 64, 67, 0.15);\n",
              "      fill: #174EA6;\n",
              "    }\n",
              "\n",
              "    [theme=dark] .colab-df-convert {\n",
              "      background-color: #3B4455;\n",
              "      fill: #D2E3FC;\n",
              "    }\n",
              "\n",
              "    [theme=dark] .colab-df-convert:hover {\n",
              "      background-color: #434B5C;\n",
              "      box-shadow: 0px 1px 3px 1px rgba(0, 0, 0, 0.15);\n",
              "      filter: drop-shadow(0px 1px 2px rgba(0, 0, 0, 0.3));\n",
              "      fill: #FFFFFF;\n",
              "    }\n",
              "  </style>\n",
              "\n",
              "      <script>\n",
              "        const buttonEl =\n",
              "          document.querySelector('#df-ca58b28c-d397-48ce-b8ba-80174506d60b button.colab-df-convert');\n",
              "        buttonEl.style.display =\n",
              "          google.colab.kernel.accessAllowed ? 'block' : 'none';\n",
              "\n",
              "        async function convertToInteractive(key) {\n",
              "          const element = document.querySelector('#df-ca58b28c-d397-48ce-b8ba-80174506d60b');\n",
              "          const dataTable =\n",
              "            await google.colab.kernel.invokeFunction('convertToInteractive',\n",
              "                                                     [key], {});\n",
              "          if (!dataTable) return;\n",
              "\n",
              "          const docLinkHtml = 'Like what you see? Visit the ' +\n",
              "            '<a target=\"_blank\" href=https://colab.research.google.com/notebooks/data_table.ipynb>data table notebook</a>'\n",
              "            + ' to learn more about interactive tables.';\n",
              "          element.innerHTML = '';\n",
              "          dataTable['output_type'] = 'display_data';\n",
              "          await google.colab.output.renderOutput(dataTable, element);\n",
              "          const docLink = document.createElement('div');\n",
              "          docLink.innerHTML = docLinkHtml;\n",
              "          element.appendChild(docLink);\n",
              "        }\n",
              "      </script>\n",
              "    </div>\n",
              "  </div>\n",
              "  "
            ],
            "text/plain": [
              "      price  area  ...  furnishing_semi-furnished  furnishing_unfurnished\n",
              "0  13300000  7420  ...                        0.0                     0.0\n",
              "1  12250000  8960  ...                        0.0                     0.0\n",
              "2  12250000  9960  ...                        1.0                     0.0\n",
              "3  12215000  7500  ...                        0.0                     0.0\n",
              "4  11410000  7420  ...                        0.0                     0.0\n",
              "\n",
              "[5 rows x 14 columns]"
            ]
          },
          "metadata": {},
          "execution_count": 18
        }
      ]
    },
    {
      "cell_type": "markdown",
      "source": [
        "\n",
        "\n",
        "---\n",
        "\n",
        "# Linear Regression Model"
      ],
      "metadata": {
        "id": "8Fmn43KPlXWI"
      }
    },
    {
      "cell_type": "markdown",
      "source": [
        "## Separating the data into independent variables and dependent varables\n",
        "X = independent variable / features <br>\n",
        "Y = dependent variable / target variable"
      ],
      "metadata": {
        "id": "GgTmhCNNldNK"
      }
    },
    {
      "cell_type": "code",
      "source": [
        "# using iloc to select all the data except the first column for X\n",
        "X=housedf.iloc[:,1:]\n",
        "\n",
        "#using iloc to use only the first column as Y\n",
        "Y=housedf.iloc[:,0]"
      ],
      "metadata": {
        "id": "fwPXasBPdIcZ"
      },
      "execution_count": 19,
      "outputs": []
    },
    {
      "cell_type": "code",
      "source": [
        "#viewing X and Y separately\n",
        "\n",
        "print(X.head())\n",
        "print(\"---------------------\")\n",
        "print(Y.head())"
      ],
      "metadata": {
        "colab": {
          "base_uri": "https://localhost:8080/"
        },
        "id": "RiCTK-KoLQhZ",
        "outputId": "12754a3b-2dca-4983-e8be-bc60884fa5af"
      },
      "execution_count": 20,
      "outputs": [
        {
          "output_type": "stream",
          "name": "stdout",
          "text": [
            "   area  bedrooms  ...  furnishing_semi-furnished  furnishing_unfurnished\n",
            "0  7420         4  ...                        0.0                     0.0\n",
            "1  8960         4  ...                        0.0                     0.0\n",
            "2  9960         3  ...                        1.0                     0.0\n",
            "3  7500         4  ...                        0.0                     0.0\n",
            "4  7420         4  ...                        0.0                     0.0\n",
            "\n",
            "[5 rows x 13 columns]\n",
            "---------------------\n",
            "0    13300000\n",
            "1    12250000\n",
            "2    12250000\n",
            "3    12215000\n",
            "4    11410000\n",
            "Name: price, dtype: int64\n"
          ]
        }
      ]
    },
    {
      "cell_type": "code",
      "source": [
        "# calculating total no.of columns and rows in X \n",
        "\n",
        "n  = len(X.columns) #total columns\n",
        "totRow = len(housedf) #total rows\n",
        "\n",
        "print(\"No. of columns: \",n)\n",
        "print(\"No.of rows: \",totRow)"
      ],
      "metadata": {
        "colab": {
          "base_uri": "https://localhost:8080/"
        },
        "id": "cS4mTpEjDCv3",
        "outputId": "8ba88463-96a8-40d8-ce36-f3fcd7f5b7c9"
      },
      "execution_count": 21,
      "outputs": [
        {
          "output_type": "stream",
          "name": "stdout",
          "text": [
            "No. of columns:  13\n",
            "No.of rows:  545\n"
          ]
        }
      ]
    },
    {
      "cell_type": "markdown",
      "source": [
        "### Normalizing the independent variable\n",
        "All the data rows in X is scaled to 0-1 range.<br>\n",
        "Normalization makes the features more consistent with each other, which allows the model to predict outputs more accurately."
      ],
      "metadata": {
        "id": "j-kkQoTtmMIR"
      }
    },
    {
      "cell_type": "code",
      "source": [
        "#scaling the data of X\n",
        "for i in range(0,n+1):\n",
        "\n",
        "  X.iloc[:, :i]= X.iloc[:, :i]/np.max(X.iloc[:, :i])\n",
        "  \n",
        "#checking the scaled values of X\n",
        "X.head()"
      ],
      "metadata": {
        "colab": {
          "base_uri": "https://localhost:8080/",
          "height": 287
        },
        "id": "_PrbmhAuMv_p",
        "outputId": "d21e1278-58bc-487a-ff90-41886c4087a0"
      },
      "execution_count": 22,
      "outputs": [
        {
          "output_type": "execute_result",
          "data": {
            "text/html": [
              "\n",
              "  <div id=\"df-215b874f-7dc9-456c-bbac-4edf4062bcb3\">\n",
              "    <div class=\"colab-df-container\">\n",
              "      <div>\n",
              "<style scoped>\n",
              "    .dataframe tbody tr th:only-of-type {\n",
              "        vertical-align: middle;\n",
              "    }\n",
              "\n",
              "    .dataframe tbody tr th {\n",
              "        vertical-align: top;\n",
              "    }\n",
              "\n",
              "    .dataframe thead th {\n",
              "        text-align: right;\n",
              "    }\n",
              "</style>\n",
              "<table border=\"1\" class=\"dataframe\">\n",
              "  <thead>\n",
              "    <tr style=\"text-align: right;\">\n",
              "      <th></th>\n",
              "      <th>area</th>\n",
              "      <th>bedrooms</th>\n",
              "      <th>bathrooms</th>\n",
              "      <th>stories</th>\n",
              "      <th>mainroad</th>\n",
              "      <th>guestroom</th>\n",
              "      <th>basement</th>\n",
              "      <th>hotwaterheating</th>\n",
              "      <th>airconditioning</th>\n",
              "      <th>parking</th>\n",
              "      <th>prefarea</th>\n",
              "      <th>furnishing_semi-furnished</th>\n",
              "      <th>furnishing_unfurnished</th>\n",
              "    </tr>\n",
              "  </thead>\n",
              "  <tbody>\n",
              "    <tr>\n",
              "      <th>0</th>\n",
              "      <td>0.458025</td>\n",
              "      <td>0.666667</td>\n",
              "      <td>0.50</td>\n",
              "      <td>0.75</td>\n",
              "      <td>1.0</td>\n",
              "      <td>0.0</td>\n",
              "      <td>0.0</td>\n",
              "      <td>0.0</td>\n",
              "      <td>1.0</td>\n",
              "      <td>0.666667</td>\n",
              "      <td>1.0</td>\n",
              "      <td>0.0</td>\n",
              "      <td>0.0</td>\n",
              "    </tr>\n",
              "    <tr>\n",
              "      <th>1</th>\n",
              "      <td>0.553086</td>\n",
              "      <td>0.666667</td>\n",
              "      <td>1.00</td>\n",
              "      <td>1.00</td>\n",
              "      <td>1.0</td>\n",
              "      <td>0.0</td>\n",
              "      <td>0.0</td>\n",
              "      <td>0.0</td>\n",
              "      <td>1.0</td>\n",
              "      <td>1.000000</td>\n",
              "      <td>0.0</td>\n",
              "      <td>0.0</td>\n",
              "      <td>0.0</td>\n",
              "    </tr>\n",
              "    <tr>\n",
              "      <th>2</th>\n",
              "      <td>0.614815</td>\n",
              "      <td>0.500000</td>\n",
              "      <td>0.50</td>\n",
              "      <td>0.50</td>\n",
              "      <td>1.0</td>\n",
              "      <td>0.0</td>\n",
              "      <td>1.0</td>\n",
              "      <td>0.0</td>\n",
              "      <td>0.0</td>\n",
              "      <td>0.666667</td>\n",
              "      <td>1.0</td>\n",
              "      <td>1.0</td>\n",
              "      <td>0.0</td>\n",
              "    </tr>\n",
              "    <tr>\n",
              "      <th>3</th>\n",
              "      <td>0.462963</td>\n",
              "      <td>0.666667</td>\n",
              "      <td>0.50</td>\n",
              "      <td>0.50</td>\n",
              "      <td>1.0</td>\n",
              "      <td>0.0</td>\n",
              "      <td>1.0</td>\n",
              "      <td>0.0</td>\n",
              "      <td>1.0</td>\n",
              "      <td>1.000000</td>\n",
              "      <td>1.0</td>\n",
              "      <td>0.0</td>\n",
              "      <td>0.0</td>\n",
              "    </tr>\n",
              "    <tr>\n",
              "      <th>4</th>\n",
              "      <td>0.458025</td>\n",
              "      <td>0.666667</td>\n",
              "      <td>0.25</td>\n",
              "      <td>0.50</td>\n",
              "      <td>1.0</td>\n",
              "      <td>1.0</td>\n",
              "      <td>1.0</td>\n",
              "      <td>0.0</td>\n",
              "      <td>1.0</td>\n",
              "      <td>0.666667</td>\n",
              "      <td>0.0</td>\n",
              "      <td>0.0</td>\n",
              "      <td>0.0</td>\n",
              "    </tr>\n",
              "  </tbody>\n",
              "</table>\n",
              "</div>\n",
              "      <button class=\"colab-df-convert\" onclick=\"convertToInteractive('df-215b874f-7dc9-456c-bbac-4edf4062bcb3')\"\n",
              "              title=\"Convert this dataframe to an interactive table.\"\n",
              "              style=\"display:none;\">\n",
              "        \n",
              "  <svg xmlns=\"http://www.w3.org/2000/svg\" height=\"24px\"viewBox=\"0 0 24 24\"\n",
              "       width=\"24px\">\n",
              "    <path d=\"M0 0h24v24H0V0z\" fill=\"none\"/>\n",
              "    <path d=\"M18.56 5.44l.94 2.06.94-2.06 2.06-.94-2.06-.94-.94-2.06-.94 2.06-2.06.94zm-11 1L8.5 8.5l.94-2.06 2.06-.94-2.06-.94L8.5 2.5l-.94 2.06-2.06.94zm10 10l.94 2.06.94-2.06 2.06-.94-2.06-.94-.94-2.06-.94 2.06-2.06.94z\"/><path d=\"M17.41 7.96l-1.37-1.37c-.4-.4-.92-.59-1.43-.59-.52 0-1.04.2-1.43.59L10.3 9.45l-7.72 7.72c-.78.78-.78 2.05 0 2.83L4 21.41c.39.39.9.59 1.41.59.51 0 1.02-.2 1.41-.59l7.78-7.78 2.81-2.81c.8-.78.8-2.07 0-2.86zM5.41 20L4 18.59l7.72-7.72 1.47 1.35L5.41 20z\"/>\n",
              "  </svg>\n",
              "      </button>\n",
              "      \n",
              "  <style>\n",
              "    .colab-df-container {\n",
              "      display:flex;\n",
              "      flex-wrap:wrap;\n",
              "      gap: 12px;\n",
              "    }\n",
              "\n",
              "    .colab-df-convert {\n",
              "      background-color: #E8F0FE;\n",
              "      border: none;\n",
              "      border-radius: 50%;\n",
              "      cursor: pointer;\n",
              "      display: none;\n",
              "      fill: #1967D2;\n",
              "      height: 32px;\n",
              "      padding: 0 0 0 0;\n",
              "      width: 32px;\n",
              "    }\n",
              "\n",
              "    .colab-df-convert:hover {\n",
              "      background-color: #E2EBFA;\n",
              "      box-shadow: 0px 1px 2px rgba(60, 64, 67, 0.3), 0px 1px 3px 1px rgba(60, 64, 67, 0.15);\n",
              "      fill: #174EA6;\n",
              "    }\n",
              "\n",
              "    [theme=dark] .colab-df-convert {\n",
              "      background-color: #3B4455;\n",
              "      fill: #D2E3FC;\n",
              "    }\n",
              "\n",
              "    [theme=dark] .colab-df-convert:hover {\n",
              "      background-color: #434B5C;\n",
              "      box-shadow: 0px 1px 3px 1px rgba(0, 0, 0, 0.15);\n",
              "      filter: drop-shadow(0px 1px 2px rgba(0, 0, 0, 0.3));\n",
              "      fill: #FFFFFF;\n",
              "    }\n",
              "  </style>\n",
              "\n",
              "      <script>\n",
              "        const buttonEl =\n",
              "          document.querySelector('#df-215b874f-7dc9-456c-bbac-4edf4062bcb3 button.colab-df-convert');\n",
              "        buttonEl.style.display =\n",
              "          google.colab.kernel.accessAllowed ? 'block' : 'none';\n",
              "\n",
              "        async function convertToInteractive(key) {\n",
              "          const element = document.querySelector('#df-215b874f-7dc9-456c-bbac-4edf4062bcb3');\n",
              "          const dataTable =\n",
              "            await google.colab.kernel.invokeFunction('convertToInteractive',\n",
              "                                                     [key], {});\n",
              "          if (!dataTable) return;\n",
              "\n",
              "          const docLinkHtml = 'Like what you see? Visit the ' +\n",
              "            '<a target=\"_blank\" href=https://colab.research.google.com/notebooks/data_table.ipynb>data table notebook</a>'\n",
              "            + ' to learn more about interactive tables.';\n",
              "          element.innerHTML = '';\n",
              "          dataTable['output_type'] = 'display_data';\n",
              "          await google.colab.output.renderOutput(dataTable, element);\n",
              "          const docLink = document.createElement('div');\n",
              "          docLink.innerHTML = docLinkHtml;\n",
              "          element.appendChild(docLink);\n",
              "        }\n",
              "      </script>\n",
              "    </div>\n",
              "  </div>\n",
              "  "
            ],
            "text/plain": [
              "       area  bedrooms  ...  furnishing_semi-furnished  furnishing_unfurnished\n",
              "0  0.458025  0.666667  ...                        0.0                     0.0\n",
              "1  0.553086  0.666667  ...                        0.0                     0.0\n",
              "2  0.614815  0.500000  ...                        1.0                     0.0\n",
              "3  0.462963  0.666667  ...                        0.0                     0.0\n",
              "4  0.458025  0.666667  ...                        0.0                     0.0\n",
              "\n",
              "[5 rows x 13 columns]"
            ]
          },
          "metadata": {},
          "execution_count": 22
        }
      ]
    },
    {
      "cell_type": "markdown",
      "source": [
        "### Linear Regression\n",
        "We know the equation of best fit line is <br>\n",
        "y = b1x1 + b2x2 +...+bnxn +c  <br>\n",
        "\n",
        "b1,b2... are also called theta value"
      ],
      "metadata": {
        "id": "FQcdUvTvnst7"
      }
    },
    {
      "cell_type": "code",
      "source": [
        "#initializing the theta value\n",
        "#initially it is an array with 0 as values\n",
        "\n",
        "theta = np.array([0]*n)\n",
        "\n",
        "print(\"Initial Theta Values\",theta)"
      ],
      "metadata": {
        "colab": {
          "base_uri": "https://localhost:8080/"
        },
        "id": "Xsq2LxEeC4Ye",
        "outputId": "08802d5e-87ff-47a4-b70f-e9e8f841bbfd"
      },
      "execution_count": 23,
      "outputs": [
        {
          "output_type": "stream",
          "name": "stdout",
          "text": [
            "Initial Theta Values [0 0 0 0 0 0 0 0 0 0 0 0 0]\n"
          ]
        }
      ]
    },
    {
      "cell_type": "markdown",
      "source": [
        "\n",
        "\n",
        "---\n",
        "\n",
        "\n",
        "y = b1x1 + b2x2 +...+bnxn +c <br>\n",
        "y is the hypothesis normally called the predicted Y"
      ],
      "metadata": {
        "id": "B8neghPuoe09"
      }
    },
    {
      "cell_type": "code",
      "source": [
        "#creating a function that returns the hypothsis\n",
        "def hypothesis(theta,X):\n",
        "  return theta*X"
      ],
      "metadata": {
        "id": "X3mJOXalDlTM"
      },
      "execution_count": 24,
      "outputs": []
    },
    {
      "cell_type": "markdown",
      "source": [
        "\n",
        "\n",
        "---\n",
        "\n"
      ],
      "metadata": {
        "id": "OPSShJj1pcr1"
      }
    },
    {
      "cell_type": "markdown",
      "source": [
        "## Root Mean Square Error\n"
      ],
      "metadata": {
        "id": "3coRnlifpQfh"
      }
    },
    {
      "cell_type": "markdown",
      "source": [
        "![rmse.png](data:image/png;base64,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)"
      ],
      "metadata": {
        "id": "44ObigHpozT7"
      }
    },
    {
      "cell_type": "markdown",
      "source": [
        "This is the cost function of Linear Regression. The cost function determines how far the prediction is from the original dependent variable. In machine learning the goal is to minimize the cost function so that the hypothesis/predicted value is close to the actual value.\n"
      ],
      "metadata": {
        "id": "epbZZNyApxct"
      }
    },
    {
      "cell_type": "code",
      "source": [
        "#defining a function that calculates the cost function (RMSE)\n",
        "\n",
        "def costFunc(X,actual_Y,theta):\n",
        "  y_pred = hypothesis(theta,X)\n",
        "  y_pred = np.sum(y_pred, axis = 1) #predicted y\n",
        "  \n",
        "  cal_rmse = (np.sum(y_pred - actual_Y)**2) / (2*totRow)\n",
        "  return np.sqrt(cal_rmse) #returns the RMSE value"
      ],
      "metadata": {
        "id": "JsrymofmDuKi"
      },
      "execution_count": 25,
      "outputs": []
    },
    {
      "cell_type": "markdown",
      "source": [
        "## Gradient Descent\n",
        "It is an optimization algorithm that is used to find the value of coefficients  of a function that minimizes the cost function.<br>\n",
        "The algorithm starts by defining initial parameter values and from there gradient descent uses calculas to iteratively adjust the hypothesis so that they minimize the cost function.<br><br>\n",
        "Gradient Descent takes in four parameters,<br>\n",
        "X--> Independent Variable<br>\n",
        "Y--> Dependent Variable<br>\n",
        "learning rate -->  it is the step size at each iteration while moving toward a minimum of a loss function<br>\n",
        "iterations --> number of iterations that gradient descent will perform<br>"
      ],
      "metadata": {
        "id": "ir3VxMVoqr2d"
      }
    },
    {
      "cell_type": "code",
      "source": [
        "# X --> Feature variable\n",
        "# actual_Y --> actual Dependent variable\n",
        "# lrRate --> learing rate of the gradient descent\n",
        "# ir --> number of iterations\n",
        "def gradientDescent(X,actual_Y,theta,lrRate,itr):\n",
        "  costInEachItr = []   #array that stores the cost at each iteration\n",
        "  i = 0\n",
        "  while i < itr:\n",
        "\n",
        "     y_pred = hypothesis(theta,X)\n",
        "     y_pred = np.sum(y_pred, axis = 1)\n",
        "\n",
        "     for c in range(0,n):\n",
        "       # calculating the value of theta using the theta formula\n",
        "       theta[c]  = theta[c] - lrRate * (sum((y_pred-actual_Y)*(X.iloc[:,c])/n))\n",
        "\n",
        "      #caculating the cost function\n",
        "     cost = costFunc(X,actual_Y,theta)\n",
        "      \n",
        "      #appending each cost function of each iteration \n",
        "     costInEachItr.append(cost)\n",
        "\n",
        "     i += 1\n",
        "#gradient descent retuns the array of cost functions, the final cost function and the theta value\n",
        "  return costInEachItr, cost, theta\n",
        "      "
      ],
      "metadata": {
        "id": "rNQxe-J0FBaR"
      },
      "execution_count": 26,
      "outputs": []
    },
    {
      "cell_type": "code",
      "source": [
        "#learning rate is 0.0001 and iteraions = 30000\n",
        "#storing the returned value in variables\n",
        "\n",
        "costInEachItr,cost,theta=gradientDescent(X,Y,theta,0.0001,30000)\n"
      ],
      "metadata": {
        "id": "pC4zWDGOHDfu"
      },
      "execution_count": 27,
      "outputs": []
    },
    {
      "cell_type": "code",
      "source": [
        "#printing the theta value\n",
        "\n",
        "print(\"Theta values: \",theta)"
      ],
      "metadata": {
        "colab": {
          "base_uri": "https://localhost:8080/"
        },
        "id": "HBrlcLodIRWP",
        "outputId": "f63360a0-769d-4c03-c681-c3b959c0fe01"
      },
      "execution_count": 28,
      "outputs": [
        {
          "output_type": "stream",
          "name": "stdout",
          "text": [
            "Theta values:  [3479238 1313495 3406530 1767374  476258  325913  337430  861464  887416\n",
            "  909649  668679  -48161 -412025]\n"
          ]
        }
      ]
    },
    {
      "cell_type": "code",
      "source": [
        "#printing the hypothesis / predicted value of Y\n",
        "\n",
        "y_pred1 = hypothesis(theta, X)\n",
        "y_pred1 = np.sum(y_pred1, axis=1)\n",
        "\n",
        "print(\"Predicted value of y from gradient descent: \",y_pred1)"
      ],
      "metadata": {
        "colab": {
          "base_uri": "https://localhost:8080/"
        },
        "id": "jxtr_YYLgJCJ",
        "outputId": "b87792d2-5f30-49ab-86a3-eee381cf6082"
      },
      "execution_count": 29,
      "outputs": [
        {
          "output_type": "stream",
          "name": "stdout",
          "text": [
            "Predicted value of y from gradient descent:  0      8.136821e+06\n",
            "1      1.024721e+07\n",
            "2      7.423425e+06\n",
            "3      8.352806e+06\n",
            "4      6.838009e+06\n",
            "           ...     \n",
            "540    3.383707e+06\n",
            "541    2.417505e+06\n",
            "542    2.573000e+06\n",
            "543    2.575198e+06\n",
            "544    3.283156e+06\n",
            "Length: 545, dtype: float64\n"
          ]
        }
      ]
    },
    {
      "cell_type": "markdown",
      "source": [
        "## Linear Regression Model using sklearn"
      ],
      "metadata": {
        "id": "1m9PdV0Du3e-"
      }
    },
    {
      "cell_type": "markdown",
      "source": [
        "Scikit Learn is one of the most popular python library for machine learning due to its robust nature and easy functionality. It is a great medium for begineers to learn machine learning in python. Sckikit learn has various classification, regression and clustering algorithms that are bulit in and easy to use."
      ],
      "metadata": {
        "id": "VibKcAmmfTzQ"
      }
    },
    {
      "cell_type": "markdown",
      "source": [
        "### Splitting Data\n",
        "Splitting the dependent and independent variables into training and testing sets.<br>\n",
        "This is done to understand the models' performance. We can train the model by using the training set and test the model by using the testing set.<br>\n",
        "To split the data we use train_test_split function from sklearn library."
      ],
      "metadata": {
        "id": "Z7GuCq9-u-N_"
      }
    },
    {
      "cell_type": "code",
      "source": [
        "#importing train_test_split()\n",
        "from sklearn.model_selection import train_test_split\n",
        "\n",
        "#separating the data into X_train, X_test, Y_train, Y_test sets\n",
        "\n",
        "# **parameters explained**\n",
        "#test_size = size of the testing set, here test size is 0.30 meaning 30% of the total data will taken as testing set\n",
        "#testing size is 30%, so training size is 70%\n",
        "\n",
        "#random_state = defines the randomness of split in the data ,if random_state is not specified, \n",
        "# then each time the code is run, the pattern in the split of the data would change\n",
        "\n",
        "x_train, x_test, y_train, y_test = train_test_split(X, Y, test_size=0.30, random_state=0)\n"
      ],
      "metadata": {
        "id": "OZz1S39HbFbg"
      },
      "execution_count": 30,
      "outputs": []
    },
    {
      "cell_type": "code",
      "source": [
        "#checking the shape of the four splits\n",
        "print(\"X_train: \",x_train.shape)\n",
        "print(\"X_test: \",x_test.shape)\n",
        "print(\"Y_train: \",y_train.shape)\n",
        "print(\"Y_test: \",y_test.shape)"
      ],
      "metadata": {
        "colab": {
          "base_uri": "https://localhost:8080/"
        },
        "id": "cgT2x0sHv2go",
        "outputId": "56743db5-47aa-4495-c233-86088c2394b8"
      },
      "execution_count": 31,
      "outputs": [
        {
          "output_type": "stream",
          "name": "stdout",
          "text": [
            "X_train:  (381, 13)\n",
            "X_test:  (164, 13)\n",
            "Y_train:  (381,)\n",
            "Y_test:  (164,)\n"
          ]
        }
      ]
    },
    {
      "cell_type": "markdown",
      "source": [
        "### Model Development and Prediction\n",
        "Using LinearRegression function from sklearn to build the model by fitting the model with x_train and y_train"
      ],
      "metadata": {
        "id": "B5MTCqPvwEG-"
      }
    },
    {
      "cell_type": "code",
      "source": [
        "#importing LinearRegression from linear_model of sklearn\n",
        "from sklearn.linear_model import LinearRegression\n",
        "\n",
        "#using the default parameters of LinearRegression() for this model\n",
        "regModel = LinearRegression()\n",
        "\n",
        "#fitting the mdoel with x_train and y_train\n",
        "regModel.fit(x_train,y_train)\n",
        "\n",
        "#calculating the  hypothesis of our model i.e. y(predicted)\n",
        "y_predicted = regModel.predict(x_test)\n"
      ],
      "metadata": {
        "id": "q9Gt5fGXba76"
      },
      "execution_count": 32,
      "outputs": []
    },
    {
      "cell_type": "markdown",
      "source": [
        "## Evaluating the Regression Model"
      ],
      "metadata": {
        "id": "cCQEGu9bwwVG"
      }
    },
    {
      "cell_type": "markdown",
      "source": [
        "r2 score is the accuracy of the model. 1 is the perfect score."
      ],
      "metadata": {
        "id": "tSf35iPsw7yO"
      }
    },
    {
      "cell_type": "code",
      "source": [
        "from sklearn.metrics import r2_score\n",
        "\n",
        "print(\"Accuracy of model: \",r2_score(y_test,y_predicted))"
      ],
      "metadata": {
        "colab": {
          "base_uri": "https://localhost:8080/"
        },
        "id": "YTCc-2E_kjgR",
        "outputId": "ca17633f-119c-4e32-9822-c6cc355aa207"
      },
      "execution_count": 33,
      "outputs": [
        {
          "output_type": "stream",
          "name": "stdout",
          "text": [
            "Accuracy of model:  0.7245629970975958\n"
          ]
        }
      ]
    },
    {
      "cell_type": "code",
      "source": [
        "#checking the theta and intercept values using coef_ and intercept_\n",
        "\n",
        "theta_model = regModel.coef_\n",
        "intercept = regModel.intercept_\n",
        "\n",
        "print(\"Theta: \",theta_model)\n",
        "print(\"\\nY Intercept: \", intercept)"
      ],
      "metadata": {
        "colab": {
          "base_uri": "https://localhost:8080/"
        },
        "id": "tWQwU7OvhUYV",
        "outputId": "bce1a000-42af-46b6-bccc-e1bfc1eb58da"
      },
      "execution_count": 35,
      "outputs": [
        {
          "output_type": "stream",
          "name": "stdout",
          "text": [
            "Theta:  [3995664.73014418  769643.25614049 3792743.29435736 1685342.44187337\n",
            "  478260.79480497  385176.10584236  353539.58456534 1248046.21234594\n",
            "  908687.59307457  658442.28020991  694592.19153418  -67113.46413836\n",
            " -445725.47889898]\n",
            "\n",
            "Y Intercept:  51449.42919140495\n"
          ]
        }
      ]
    },
    {
      "cell_type": "markdown",
      "source": [
        "### Evaluation Metrics\n",
        "**Mean Absolute Error** (MAE) is the mean of the absolute value of the errors:\n",
        "∑ |y−y_predicted| * 1/n\n",
        " \n",
        "**Mean Squared Error** (MSE) is the mean of the squared errors:\n",
        "(∑(y−y_predicted)^2)*1/n\n",
        " \n",
        "**Root Mean Squared Error** (RMSE) is the square root of the mean of the squared errors:\n",
        "√((∑(y−y_predicted)^2*)1/2n)"
      ],
      "metadata": {
        "id": "6Jeo0_oGxjOA"
      }
    },
    {
      "cell_type": "code",
      "source": [
        "#calculating the values of MAE,MSE and RMSE using bulid in functions from sklearn.metrics\n",
        "\n",
        "from sklearn.metrics import mean_absolute_error,mean_squared_error\n",
        "\n",
        "# Mean Absolute Error\n",
        "MAE= mean_absolute_error(y_test, y_predicted)\n",
        "\n",
        "# Mean Squared Error\n",
        "MSE=mean_squared_error(y_test, y_predicted)\n",
        "\n",
        "# Root Mean Squared Error\n",
        "RMSE= np.sqrt(MSE)\n",
        "\n",
        "print(\"Mean Absolute Error: \",MAE)\n",
        "print(\"Mean Squared Error: \",MSE)\n",
        "print(\"Root Mean Square Error: \",RMSE)"
      ],
      "metadata": {
        "colab": {
          "base_uri": "https://localhost:8080/"
        },
        "id": "oAOvTgJVrbiy",
        "outputId": "f3141822-e002-4866-9cdd-718d14ac5ec7"
      },
      "execution_count": 36,
      "outputs": [
        {
          "output_type": "stream",
          "name": "stdout",
          "text": [
            "Mean Absolute Error:  731779.349984632\n",
            "Mean Squared Error:  955428862101.2493\n",
            "Root Mean Square Error:  977460.4145955218\n"
          ]
        }
      ]
    },
    {
      "cell_type": "markdown",
      "source": [
        "### Visualizing the predicted value\n",
        "Plotting a scatter plot between the actual value of Y and the predicted Y.<br>\n",
        "This will help to view the accuracy of the model in predicting the Y correctly."
      ],
      "metadata": {
        "id": "yVkGVe1Az3Tj"
      }
    },
    {
      "cell_type": "code",
      "source": [
        "# using scatter plot from matplot library\n",
        "\n",
        "# here x axis is the number of rows of data\n",
        "# y axis is the values of actual and predicted Y\n",
        "\n",
        "# the blue scatter is the actual value of Y\n",
        "plt.scatter(x=list(range(0,totRow)),y= Y,color='blue')\n",
        "\n",
        "# the black scatter is the predicted value of Y\n",
        "plt.scatter(x=list(range(0,totRow)), y=y_pred1, color='black')\n",
        "\n",
        "plt.legend([\"Actual Y\",\"Predicted Y\"])\n",
        "plt.show()"
      ],
      "metadata": {
        "colab": {
          "base_uri": "https://localhost:8080/",
          "height": 276
        },
        "id": "byIPmTq0l8IG",
        "outputId": "e5599e31-b835-4383-ed1d-4c55d126fd34"
      },
      "execution_count": 37,
      "outputs": [
        {
          "output_type": "display_data",
          "data": {
            "image/png": "[encoded data removed]",
            "text/plain": [
              "<Figure size 432x288 with 1 Axes>"
            ]
          },
          "metadata": {
            "needs_background": "light"
          }
        }
      ]
    },
    {
      "cell_type": "markdown",
      "source": [
        "\n",
        "\n",
        "---\n",
        "\n",
        "\n",
        "Plotting the scatter plot with predicted value of Y against real value of Y"
      ],
      "metadata": {
        "id": "4W4O3y0q0wj-"
      }
    },
    {
      "cell_type": "code",
      "source": [
        "#scatter plot of predicted value of Y against real value of Y\n",
        "\n",
        "plt.figure()\n",
        "\n",
        "# x-axis is the actual value of Y\n",
        "# y-axis is the predicted value of Y\n",
        "plt.scatter(y_test,y_predicted, c='blue')\n",
        "\n",
        "#staright line\n",
        "X=Y\n",
        "plt.plot(X,Y, \"r--\")   \n",
        "\n",
        "plt.title('Predicted Y versus Actual Y')\n",
        "plt.xlabel('Actual Y')                         \n",
        "plt.ylabel('Predicted Y') \n",
        "\n",
        "plt.show()"
      ],
      "metadata": {
        "colab": {
          "base_uri": "https://localhost:8080/",
          "height": 295
        },
        "id": "t1EOZAqwsoC3",
        "outputId": "8589ab83-9009-401c-cbf3-a877c50b3bed"
      },
      "execution_count": 38,
      "outputs": [
        {
          "output_type": "display_data",
          "data": {
            "image/png": "[encoded data removed]",
            "text/plain": [
              "<Figure size 432x288 with 1 Axes>"
            ]
          },
          "metadata": {
            "needs_background": "light"
          }
        }
      ]
    },
    {
      "cell_type": "markdown",
      "source": [
        "\n",
        "\n",
        "---\n",
        "Visualizing the Cost Function at different iterations\n"
      ],
      "metadata": {
        "id": "GDWD5v601_Kv"
      }
    },
    {
      "cell_type": "code",
      "source": [
        "#Plottng the graph for cost function at all iterations\n",
        "\n",
        "plt.figure()\n",
        "\n",
        "# x-axis is the iteration count\n",
        "# y-axis is the cost function at that iteration\n",
        "plt.scatter(x=list(range(0,30000)), y=costInEachItr)\n",
        "\n",
        "plt.ylabel('Cost Function')\n",
        "plt.xlabel('Iterations Count')\n",
        "\n",
        "plt.show()"
      ],
      "metadata": {
        "colab": {
          "base_uri": "https://localhost:8080/",
          "height": 290
        },
        "id": "me7bc7i4mVIt",
        "outputId": "d14a410c-ff0b-4204-a587-45898154dbab"
      },
      "execution_count": 39,
      "outputs": [
        {
          "output_type": "display_data",
          "data": {
            "image/png": "[encoded data removed]",
            "text/plain": [
              "<Figure size 432x288 with 1 Axes>"
            ]
          },
          "metadata": {
            "needs_background": "light"
          }
        }
      ]
    },
    {
      "cell_type": "markdown",
      "source": [
        "From above plot we can observe that the error between the predicted Y and actual Y undergoes a uniform variation after reaching certain iterations."
      ],
      "metadata": {
        "id": "HfaleXjpDsG6"
      }
    }
  ]
}